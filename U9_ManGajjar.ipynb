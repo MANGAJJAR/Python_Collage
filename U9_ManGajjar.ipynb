{
 "cells": [
  {
   "cell_type": "markdown",
   "metadata": {},
   "source": [
    "## hybrid inheritance "
   ]
  },
  {
   "cell_type": "code",
   "execution_count": 5,
   "metadata": {},
   "outputs": [
    {
     "name": "stdout",
     "output_type": "stream",
     "text": [
      "Hello Child1\n",
      "Hello Child2\n"
     ]
    }
   ],
   "source": [
    "class parent1:\n",
    "    def func1(self):\n",
    "        print(\"Hello Parent1\")\n",
    "\n",
    "class parent2:\n",
    "    def func2(self):\n",
    "        print(\"Hello Parent2\")\n",
    "        \n",
    "class child1(parent1):\n",
    "    def func3(self):\n",
    "        print(\"Hello Child1\")\n",
    "        \n",
    "class child2(child1,parent2):\n",
    "    def func4(self):\n",
    "        print(\"Hello Child2\")\n",
    "        \n",
    "t1=child1()\n",
    "t2=child2()\n",
    "t1.func3()\n",
    "t2.func4()"
   ]
  },
  {
   "cell_type": "markdown",
   "metadata": {},
   "source": [
    "## super() "
   ]
  },
  {
   "cell_type": "code",
   "execution_count": 4,
   "metadata": {},
   "outputs": [
    {
     "name": "stdout",
     "output_type": "stream",
     "text": [
      "50\n"
     ]
    }
   ],
   "source": [
    "class parent:\n",
    "    def __init__(self):\n",
    "        self.atlr1=50\n",
    "        self.atlr2=60        \n",
    "        \n",
    "class child(parent):\n",
    "    def __init__(self):\n",
    "            super().__init__()\n",
    "            self.atlr3=45\n",
    "\n",
    "test =child()\n",
    "print(test.atlr1)"
   ]
  },
  {
   "cell_type": "code",
   "execution_count": 7,
   "metadata": {},
   "outputs": [
    {
     "name": "stdout",
     "output_type": "stream",
     "text": [
      "Class child\n",
      "None\n"
     ]
    }
   ],
   "source": [
    "class parent:\n",
    "    def display(self):\n",
    "        print(\"Class Parent\")\n",
    "        \n",
    "class child(parent):\n",
    "    def display(self):\n",
    "        print(\"Class child\")\n",
    "#         super().display()\n",
    "test=child()\n",
    "print(test.display())"
   ]
  },
  {
   "cell_type": "markdown",
   "metadata": {},
   "source": [
    "### issubclass(), isinstance()"
   ]
  },
  {
   "cell_type": "code",
   "execution_count": 14,
   "metadata": {},
   "outputs": [
    {
     "name": "stdout",
     "output_type": "stream",
     "text": [
      "True\n",
      "False\n",
      "\n",
      "True\n",
      "True\n",
      "False\n",
      "True\n"
     ]
    }
   ],
   "source": [
    "class parent:\n",
    "    def func1(self):\n",
    "        print(\"Class Parent\")\n",
    "        \n",
    "class child(parent):\n",
    "    def func2(self):\n",
    "        print(\"Class child\")\n",
    "        \n",
    "print(issubclass(child,parent))\n",
    "print(issubclass(parent,child))\n",
    "\n",
    "print()\n",
    "\n",
    "a = child()\n",
    "b = parent()\n",
    "\n",
    "print(isinstance(a,child))\n",
    "print(isinstance(a,parent))\n",
    "print(isinstance(b,child))\n",
    "print(isinstance(b,parent))"
   ]
  },
  {
   "cell_type": "markdown",
   "metadata": {},
   "source": [
    "###  Method Resoultion order(MRO)"
   ]
  },
  {
   "cell_type": "code",
   "execution_count": 22,
   "metadata": {},
   "outputs": [
    {
     "name": "stdout",
     "output_type": "stream",
     "text": [
      "[<class '__main__.d'>, <class '__main__.b'>, <class '__main__.c'>, <class '__main__.a'>, <class 'object'>]\n"
     ]
    }
   ],
   "source": [
    "class a:\n",
    "    def rk(self):\n",
    "        print(\"Class A\")\n",
    "        \n",
    "class b(a):\n",
    "    def rk(self):\n",
    "        print(\"Class B\")\n",
    "        \n",
    "class c(a):\n",
    "    def rk(self):\n",
    "        print(\"Class C\")\n",
    "        \n",
    "class d(b,c):\n",
    "    pass\n",
    "\n",
    "r = d()\n",
    "r.rk()\n",
    "print(d.mro())"
   ]
  },
  {
   "cell_type": "code",
   "execution_count": 21,
   "metadata": {},
   "outputs": [
    {
     "name": "stdout",
     "output_type": "stream",
     "text": [
      "bar from c2\n",
      "foo from p1\n"
     ]
    },
    {
     "data": {
      "text/plain": [
       "[__main__.GC, __main__.c1, __main__.p1, __main__.c2, __main__.p2, object]"
      ]
     },
     "execution_count": 21,
     "metadata": {},
     "output_type": "execute_result"
    }
   ],
   "source": [
    "class p1:\n",
    "    def foo(self):\n",
    "        print(\"foo from p1\")\n",
    "\n",
    "class p2:\n",
    "    def foo(self):\n",
    "        print(\"foo from p2\")\n",
    "    def bar(self):\n",
    "        print(\"bar from p2\")\n",
    "        \n",
    "class c1(p1):\n",
    "    pass\n",
    "class c2(p2):\n",
    "    def bar(self):\n",
    "        print(\"bar from c2\")\n",
    "        \n",
    "class GC(c1,c2):\n",
    "    pass\n",
    "\n",
    "gc = GC()\n",
    "gc.bar()\n",
    "gc.foo()\n",
    "GC.mro()    "
   ]
  },
  {
   "cell_type": "code",
   "execution_count": 3,
   "metadata": {},
   "outputs": [
    {
     "name": "stdout",
     "output_type": "stream",
     "text": [
      "Drawing a Circle\n"
     ]
    }
   ],
   "source": [
    "from abc import ABC,abstractmethod\n",
    "class shape(ABC):\n",
    "    def __init__(self,shape_name):\n",
    "        self.shape_name=shape_name\n",
    "        \n",
    "        @abstractmethod\n",
    "        def draw(self):\n",
    "            pass\n",
    "        \n",
    "class circle(shape):\n",
    "    def __init__(self):\n",
    "        super().__init__(\"circle\")\n",
    "    def draw(self):\n",
    "        print(\"Drawing a Circle\")\n",
    "        \n",
    "c=circle()\n",
    "c.draw()"
   ]
  },
  {
   "cell_type": "code",
   "execution_count": 13,
   "metadata": {},
   "outputs": [
    {
     "name": "stdout",
     "output_type": "stream",
     "text": [
      "m1 from p\n"
     ]
    },
    {
     "data": {
      "text/plain": [
       "[__main__.p,\n",
       " __main__.x,\n",
       " __main__.a,\n",
       " __main__.y,\n",
       " __main__.b,\n",
       " __main__.c,\n",
       " object]"
      ]
     },
     "execution_count": 13,
     "metadata": {},
     "output_type": "execute_result"
    }
   ],
   "source": [
    "class a:\n",
    "    def m1(self):\n",
    "        print(\"m1 from A\")\n",
    "        \n",
    "class b:\n",
    "    def m1(self):\n",
    "        print(\"m1 from B\")\n",
    "\n",
    "class c:\n",
    "    def m1(self):\n",
    "        print(\"m1 from c\")\n",
    "        \n",
    "class x(a,b):\n",
    "    def m1(self):\n",
    "        print(\"m1 from x\")\n",
    "        \n",
    "class y(b,c):\n",
    "    def m1(self):\n",
    "        print(\"m1 from y\")\n",
    "        \n",
    "class p(x,y,c):\n",
    "    def m1(self):\n",
    "        print(\"m1 from p\")\n",
    "d=p()   \n",
    "d.m1()\n",
    "p.mro()"
   ]
  },
  {
   "cell_type": "markdown",
   "metadata": {},
   "source": [
    "### creat class book which as para bookname, num of authors,name of authos(list of authors), then publisher, and ISBL year and the derived class cource book derived overwrited the methodsof base class "
   ]
  },
  {
   "cell_type": "code",
   "execution_count": 26,
   "metadata": {},
   "outputs": [
    {
     "ename": "SyntaxError",
     "evalue": "invalid syntax (<ipython-input-26-aeb9fbd4d2db>, line 19)",
     "output_type": "error",
     "traceback": [
      "\u001b[1;36m  File \u001b[1;32m\"<ipython-input-26-aeb9fbd4d2db>\"\u001b[1;36m, line \u001b[1;32m19\u001b[0m\n\u001b[1;33m    def __init__(self,,name,n,authors,publisher,ISBI,year,course):\u001b[0m\n\u001b[1;37m                      ^\u001b[0m\n\u001b[1;31mSyntaxError\u001b[0m\u001b[1;31m:\u001b[0m invalid syntax\n"
     ]
    }
   ],
   "source": [
    "class Book:\n",
    "    def __init__(self,name,n,authors,publisher,ISBI,year):\n",
    "        self.name = name\n",
    "        self.n = n\n",
    "        self.authors = authors \n",
    "        self.publisher = publisher        \n",
    "        self.year = year        \n",
    "        self.ISBI = ISBI      \n",
    "        \n",
    "    def display(self):\n",
    "        print(\"Name is \",self.name)\n",
    "        print(\"Authors is \",self.authors)\n",
    "        print(\"Number of Authors is \",self.n)\n",
    "        print(\"Publisher is \",self.publisher)\n",
    "        print(\"Year is \",self.year)\n",
    "        print(\"ISBLNO is \",self.ISBI)\n",
    "        \n",
    "class Coursebook(Book):\n",
    "    def __init__(self,,name,n,authors,publisher,ISBI,year,course):\n",
    "        super().__init__(,name,authors,publisher,ISBI,year)\n",
    "        self.course=course\n",
    "        \n",
    "    def display():\n",
    "        super().display()\n",
    "        print(\"course is \",self.course)\n",
    "        \n",
    "book = Book(\"Man\",1,[\"F.ABC\"],'HELLO','9099754554')\n",
    "book.display()\n",
    "\n",
    "print()\n",
    "\n",
    "course_book = Coursebook(\"Data sciecnce\",1,[\"abc bfg \"],\"relly\",\"96\")\n",
    "course_book.display()"
   ]
  },
  {
   "cell_type": "code",
   "execution_count": 7,
   "metadata": {},
   "outputs": [
    {
     "name": "stdout",
     "output_type": "stream",
     "text": [
      "the fare is:  5500.0\n"
     ]
    }
   ],
   "source": [
    "# creat a bus child class that inherits a vehical class,name , avrange and stting ,sitting capacity \n",
    "# default far charge any vechical sitting capacity* 100 if vehicale bus instance we need to add extra \n",
    "# 10% so total far fot bus instances will become a final amount is equal to total fare\n",
    "\n",
    "class vehical:\n",
    "    def __init__(self,name,avrange,sitting_cap):\n",
    "        self.name=name\n",
    "        self.avrange=avrange\n",
    "        self.sitting=sitting_cap\n",
    "        \n",
    "    def cal(self):\n",
    "        return self.sitting*100\n",
    "    \n",
    "class Bus(vehical):\n",
    "    def __init__(self,name,avrange,sitting_cap):\n",
    "        super().__init__(name,avrange,sitting_cap)\n",
    "        \n",
    "    def cal_fare(self):\n",
    "        base_fare = super().cal()\n",
    "        final_fare = base_fare+(0.1*base_fare)\n",
    "        return final_fare\n",
    "    \n",
    "bus = Bus(\"Bus\",10,50)\n",
    "fare = bus.cal_fare()\n",
    "print(\"the fare is: \",fare)"
   ]
  },
  {
   "cell_type": "code",
   "execution_count": 11,
   "metadata": {},
   "outputs": [
    {
     "name": "stdout",
     "output_type": "stream",
     "text": [
      "Enter ID:1\n",
      "Enter Employee Name:ManTOPG\n",
      "Enter Employee Basic Salary:25000\n",
      "The Employes DA is  8750.0\n",
      "The Employes HRA is 4250.0\n",
      "The Employes PF is 3000.0\n",
      "Total Salary:  35000.0\n"
     ]
    }
   ],
   "source": [
    "# find next salary of employ using inheritance create 3 class employe, perks and next salary make \n",
    "# employe class \n",
    "\n",
    "# as abstra class employe class 4 mthodes,\n",
    "# 1.get employe which take user input for id, name ,basic salary\n",
    "# 2.employe details which print id, name, basic salary\n",
    "# 3. salary which retrue a basic salary\n",
    "# 4. make this abstract method\n",
    "# perks 1.(DA-35%, HRA-17%, PF-12%), 2.(print da,hra, pf), 3.(DA+HRA-PF), 4.(emp-id pass)\n",
    "# net_salary 1.(get total)\n",
    "\n",
    "from abc import ABC,abstractmethod\n",
    "class employe(ABC):\n",
    "    def getEmploye(self):\n",
    "        self.id = int(input(\"Enter ID:\"))\n",
    "        self.name = input(\"Enter Employee Name:\")\n",
    "        self.salary = int(input(\"Enter Employee Basic Salary:\"))\n",
    "        \n",
    "    def Employedetails(self):\n",
    "        print(\"The Employe ID is \",self.id)\n",
    "        print(\"The Employe Name is \",self.name)\n",
    "        print(\"The Employe Salary is \",self.salary)\n",
    "                          \n",
    "    def getSalary(self):\n",
    "        return self.salary\n",
    "                          \n",
    "    @abstractmethod\n",
    "    def emp_id(self):\n",
    "        pass\n",
    "                          \n",
    "class Perks(employe):\n",
    "    def calcperks(self):\n",
    "        self.getEmploye()\n",
    "        salary = self.getSalary()\n",
    "        self.da=salary*0.35\n",
    "        self.hra=salary*0.17\n",
    "        self.pf=salary*0.12\n",
    "        \n",
    "    def print_perks(self):\n",
    "        print(\"The Employes DA is \",self.da)\n",
    "        print(\"The Employes HRA is\",self.hra)\n",
    "        print(\"The Employes PF is\",self.pf)\n",
    "                          \n",
    "    def total_perks(self):\n",
    "        t = self.da+self.hra-self.pf\n",
    "        return t \n",
    "                                               \n",
    "    def emp_id(self):\n",
    "        pass\n",
    "                          \n",
    "class Netsalary(Perks):\n",
    "    def gettotal(self):\n",
    "        self.calcperks()\n",
    "        self.ns = self.getSalary()+self.total_perks()\n",
    "        self.print_perks()\n",
    "        print(\"Total Salary: \",self.ns)\n",
    "                          \n",
    "empSalary=Netsalary()\n",
    "empSalary.gettotal()                          \n",
    "                               "
   ]
  },
  {
   "cell_type": "markdown",
   "metadata": {},
   "source": [
    "# Employe Salary Counter "
   ]
  },
  {
   "cell_type": "code",
   "execution_count": 12,
   "metadata": {},
   "outputs": [
    {
     "name": "stdout",
     "output_type": "stream",
     "text": [
      "Enter ID:1\n",
      "Enter Employee Name:ManTOPG\n",
      "Enter Employee Basic Salary:25000\n",
      "The ManTOPG DA is  8750.0\n",
      "The ManTOPG HRA is 4250.0\n",
      "The ManTOPG PF is 3000.0\n",
      "Total Salary:  35000.0\n"
     ]
    }
   ],
   "source": [
    "# find next salary of employ using inheritance create 3 class employe, perks and next salary make \n",
    "# employe class \n",
    "\n",
    "# as abstra class employe class 4 mthodes,\n",
    "# 1.get employe which take user input for id, name ,basic salary\n",
    "# 2.employe details which print id, name, basic salary\n",
    "# 3. salary which retrue a basic salary\n",
    "# 4. make this abstract method\n",
    "# perks 1.(DA-35%, HRA-17%, PF-12%), 2.(print da,hra, pf), 3.(DA+HRA-PF), 4.(emp-id pass)\n",
    "# net_salary 1.(get total)\n",
    "\n",
    "from abc import ABC,abstractmethod\n",
    "class employe(ABC):\n",
    "    def getEmploye(self):\n",
    "        self.id = int(input(\"Enter ID:\"))\n",
    "        self.name = input(\"Enter Employee Name:\")\n",
    "        self.salary = int(input(\"Enter Employee Basic Salary:\"))\n",
    "        \n",
    "    def Employedetails(self):\n",
    "        print(\"The Employe ID is \",self.id)\n",
    "        print(\"The Employe Name is \",self.name)\n",
    "        print(\"The Employe Salary is \",self.salary)\n",
    "                          \n",
    "    def getSalary(self):\n",
    "        return self.salary\n",
    "                          \n",
    "    @abstractmethod\n",
    "    def emp_id(self):\n",
    "        pass\n",
    "                          \n",
    "class Perks(employe):\n",
    "    def calcperks(self):\n",
    "        self.getEmploye()\n",
    "        salary = self.getSalary()\n",
    "        self.da=salary*0.35\n",
    "        self.hra=salary*0.17\n",
    "        self.pf=salary*0.12\n",
    "        \n",
    "    def print_perks(self):\n",
    "        print(f\"The {self.name} DA is \",self.da)\n",
    "        print(f\"The {self.name} HRA is\",self.hra)\n",
    "        print(f\"The {self.name} PF is\",self.pf)\n",
    "                          \n",
    "    def total_perks(self):\n",
    "        t = self.da+self.hra-self.pf\n",
    "        return t \n",
    "                                               \n",
    "    def emp_id(self):\n",
    "        pass\n",
    "                          \n",
    "class Netsalary(Perks):\n",
    "    def gettotal(self):\n",
    "        self.calcperks()\n",
    "        self.ns = self.getSalary()+self.total_perks()\n",
    "        self.print_perks()\n",
    "        print(\"Total Salary: \",self.ns)\n",
    "                          \n",
    "empSalary=Netsalary()\n",
    "empSalary.gettotal()                          \n",
    "                               "
   ]
  },
  {
   "cell_type": "markdown",
   "metadata": {},
   "source": [
    "# Billing Code"
   ]
  },
  {
   "cell_type": "code",
   "execution_count": null,
   "metadata": {},
   "outputs": [],
   "source": [
    "class Bill:\n",
    "    rates={\"HDD\":5000,\"RAM\":2000,\"Printer\":6000,\"Pendrive\":800}\n",
    "    quantity={\"HDD\":0,\"RAM\":0,\"Printer\":0,\"Pendrive\":0}\n",
    "    \n",
    "    for i,j in rates.items():\n",
    "        print(i,j)\n",
    "        a = int(input(\"Do you want a HDD(Y/N)\")).upper()\n",
    "        if a==\"Y\":\n",
    "            quantity[i]=int(input(\"How Many\"+i+\"s\"))*rates[i]\n",
    "            \n",
    "        for i,j in self.order\n",
    "        \n",
    "        \n",
    "\n",
    "    "
   ]
  },
  {
   "cell_type": "code",
   "execution_count": null,
   "metadata": {},
   "outputs": [],
   "source": []
  },
  {
   "cell_type": "code",
   "execution_count": null,
   "metadata": {},
   "outputs": [],
   "source": []
  },
  {
   "cell_type": "code",
   "execution_count": null,
   "metadata": {},
   "outputs": [],
   "source": []
  },
  {
   "cell_type": "code",
   "execution_count": null,
   "metadata": {},
   "outputs": [],
   "source": []
  },
  {
   "cell_type": "code",
   "execution_count": null,
   "metadata": {},
   "outputs": [],
   "source": []
  },
  {
   "cell_type": "code",
   "execution_count": null,
   "metadata": {},
   "outputs": [],
   "source": []
  },
  {
   "cell_type": "code",
   "execution_count": null,
   "metadata": {},
   "outputs": [],
   "source": []
  },
  {
   "cell_type": "code",
   "execution_count": null,
   "metadata": {},
   "outputs": [],
   "source": [
    "# Rates and initial quantities of items\n",
    "rates = {\"HDD\": 5000, \"RAM\": 2000, \"Printer\": 6000, \"Pendrive\": 800}\n",
    "order = {\"HDD\": 0, \"RAM\": 0, \"Printer\": 0, \"Pendrive\": 0}\n",
    "\n",
    "# Function to handle the order process\n",
    "def get_order():\n",
    "    print(\"Select your items:\")\n",
    "    for item, price in rates.items():\n",
    "        print(f\"{item}: ${price}\")\n",
    "        choice = input(f\"Do you want a {item} (Y/N): \").upper()\n",
    "        if choice == \"Y\":\n",
    "            quantity = int(input(f\"How many {item}s do you want? \"))\n",
    "            order[item] = quantity\n",
    "        else:\n",
    "            order[item] = 0\n",
    "\n",
    "# Function to display the order summary\n",
    "def display_order():\n",
    "    print(\"\\nOrder Summary:\")\n",
    "    total = 0\n",
    "    for item, quantity in order.items():\n",
    "        if quantity > 0:\n",
    "            price = rates[item]\n",
    "            print(f\"{item}: {quantity} x ${price} = ${quantity * price}\")\n",
    "            total += quantity * price\n",
    "    print(f\"Total: ${total}\")\n",
    "    return total\n",
    "\n",
    "# Function to process cash payment\n",
    "def cash_payment(total):\n",
    "    cash_amount = float(input(f\"Enter the amount for cash payment (Total: ${total}): \"))\n",
    "    if cash_amount >= total:\n",
    "        print(f\"Payment successful! You paid ${cash_amount}. Change: ${cash_amount - total}\")\n",
    "    else:\n",
    "        print(f\"Insufficient funds. You need ${total - cash_amount} more.\")\n",
    "\n",
    "# Function to process check payment\n",
    "def check_payment(total):\n",
    "    check_number = input(f\"Enter the check number for payment (Total: ${total}): \")\n",
    "    print(f\"Payment successful through check. Check Number: {check_number} for ${total}\")\n",
    "\n",
    "# Driver function to run the billing process\n",
    "def main():\n",
    "    get_order()  # Ask the user for their order\n",
    "    total = display_order()  # Display the order and calculate the total\n",
    "    \n",
    "    payment_method = input(\"Choose payment method: Cash or Check: \").lower()\n",
    "    \n",
    "    if payment_method == \"cash\":\n",
    "        cash_payment(total)\n",
    "    elif payment_method == \"check\":\n",
    "        check_payment(total)\n",
    "    else:\n",
    "        print(\"Invalid payment method.\")\n",
    "\n",
    "# Run the main function\n",
    "if __name__ == \"__main__\":\n",
    "    main()\n"
   ]
  }
 ],
 "metadata": {
  "kernelspec": {
   "display_name": "Python 3",
   "language": "python",
   "name": "python3"
  },
  "language_info": {
   "codemirror_mode": {
    "name": "ipython",
    "version": 3
   },
   "file_extension": ".py",
   "mimetype": "text/x-python",
   "name": "python",
   "nbconvert_exporter": "python",
   "pygments_lexer": "ipython3",
   "version": "3.8.5"
  }
 },
 "nbformat": 4,
 "nbformat_minor": 4
}
