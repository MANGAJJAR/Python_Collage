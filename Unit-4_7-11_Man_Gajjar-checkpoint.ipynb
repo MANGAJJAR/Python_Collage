{
 "cells": [
  {
   "cell_type": "markdown",
   "metadata": {},
   "source": [
    "# Immutable Data Str."
   ]
  },
  {
   "cell_type": "code",
   "execution_count": 2,
   "metadata": {},
   "outputs": [
    {
     "name": "stdout",
     "output_type": "stream",
     "text": [
      "U\n",
      "y\n",
      "i\n"
     ]
    }
   ],
   "source": [
    "a = \"LJ University\"\n",
    "print(a[3])\n",
    "print(a[-1])\n",
    "print(a[-3])\n",
    "# print(a[100]) string index out of range"
   ]
  },
  {
   "cell_type": "markdown",
   "metadata": {},
   "source": [
    "# Slicing"
   ]
  },
  {
   "cell_type": "code",
   "execution_count": 9,
   "metadata": {},
   "outputs": [
    {
     "name": "stdout",
     "output_type": "stream",
     "text": [
      "1. earnin\n",
      "2. eri\n",
      "3. earnin\n",
      "4. Learnin\n",
      "5. Python is very easy!!!\n",
      "6. Learning Python is very easy!!!\n",
      "7. Learning Python is very easy!!!\n",
      "8. !!!ysae yrev si nohtyP gninraeL\n",
      "9. !!seye inhy nnaL\n",
      "10. P gni\n"
     ]
    }
   ],
   "source": [
    "s = \"Learning Python is very easy!!!\"\n",
    "print(\"1.\",s[1:7:1])\n",
    "print(\"2.\",s[1:7:2])\n",
    "print(\"3.\",s[1:7])\n",
    "print(\"4.\",s[:7])\n",
    "print(\"5.\",s[9:])\n",
    "print(\"6.\",s[::])\n",
    "print(\"7.\",s[:])\n",
    "print(\"8.\",s[::-1])\n",
    "print(\"9.\",s[::-2])\n",
    "print(\"10.\",s[9:4:-1])\n"
   ]
  },
  {
   "cell_type": "code",
   "execution_count": 15,
   "metadata": {},
   "outputs": [
    {
     "name": "stdout",
     "output_type": "stream",
     "text": [
      "HelloGoodMorning\n",
      "hellohello\n"
     ]
    }
   ],
   "source": [
    "print('Hello'+'GoodMorning')\n",
    "print('hello'*2)"
   ]
  },
  {
   "cell_type": "markdown",
   "metadata": {},
   "source": [
    "# Comparison of String"
   ]
  },
  {
   "cell_type": "code",
   "execution_count": 4,
   "metadata": {},
   "outputs": [
    {
     "name": "stdout",
     "output_type": "stream",
     "text": [
      "Enter Frist String: Man\n",
      "Enter Second String: Gajjar\n",
      "First string is Greater\n"
     ]
    }
   ],
   "source": [
    "a = input('Enter Frist String: ')\n",
    "b = input('Enter Second String: ')\n",
    "if a == b:\n",
    "    print('Both Same')\n",
    "elif a > b:\n",
    "    print('First string is Greater')\n",
    "else:\n",
    "    print('Second string is Greater')\n",
    "    "
   ]
  },
  {
   "cell_type": "markdown",
   "metadata": {},
   "source": [
    "# Joining Of String\n"
   ]
  },
  {
   "cell_type": "code",
   "execution_count": 5,
   "metadata": {},
   "outputs": [
    {
     "name": "stdout",
     "output_type": "stream",
     "text": [
      "Arman-Aryan-Mukesh\n"
     ]
    }
   ],
   "source": [
    "t = (\"Arman\",\"Aryan\",\"Mukesh\")\n",
    "s = \"-\".join(t)\n",
    "print(s)"
   ]
  },
  {
   "cell_type": "markdown",
   "metadata": {},
   "source": [
    "# Formatting Of string"
   ]
  },
  {
   "cell_type": "code",
   "execution_count": 8,
   "metadata": {},
   "outputs": [
    {
     "name": "stdout",
     "output_type": "stream",
     "text": [
      "Man's Salary is 50000 and age is 19\n",
      "19's Salary is Man and age is 50000\n"
     ]
    }
   ],
   "source": [
    "name=\"Man\"\n",
    "salary=50000\n",
    "age=19\n",
    "print(\"{}'s Salary is {} and age is {}\".format(name,salary,age))\n",
    "print(\"{2}'s Salary is {0} and age is {1}\".format(name,salary,age))"
   ]
  },
  {
   "cell_type": "markdown",
   "metadata": {},
   "source": [
    "# Important Funtion of String"
   ]
  },
  {
   "cell_type": "code",
   "execution_count": 19,
   "metadata": {},
   "outputs": [
    {
     "name": "stdout",
     "output_type": "stream",
     "text": [
      "banana\n"
     ]
    }
   ],
   "source": [
    "# Length Fun.\n",
    "# a = \"Man Gajjar\"\n",
    "# print(len(a))\n",
    "\n",
    "# Removing space from string\n",
    "t = \"banana\"\n",
    "# print(len(t))\n",
    "x = t.rstrip(\"a\")  #right side remove\n",
    "print(x)\n",
    "# print(len(x))\n"
   ]
  },
  {
   "cell_type": "code",
   "execution_count": 25,
   "metadata": {},
   "outputs": [
    {
     "name": "stdout",
     "output_type": "stream",
     "text": [
      "vaana\n"
     ]
    }
   ],
   "source": [
    "t = \"banvaana\"\n",
    "x = t.lstrip(\"ban\") #left side remove\n",
    "print(x)"
   ]
  },
  {
   "cell_type": "code",
   "execution_count": 26,
   "metadata": {},
   "outputs": [
    {
     "name": "stdout",
     "output_type": "stream",
     "text": [
      "banana\n"
     ]
    }
   ],
   "source": [
    "t = \"    banana   \"\n",
    "x = t.strip()\n",
    "print(x)"
   ]
  },
  {
   "cell_type": "markdown",
   "metadata": {},
   "source": [
    "# Upper, Lower and Swapcase"
   ]
  },
  {
   "cell_type": "code",
   "execution_count": 38,
   "metadata": {},
   "outputs": [
    {
     "name": "stdout",
     "output_type": "stream",
     "text": [
      "MAN\n",
      "man\n",
      "mY nAME iS mAN gAJJAR\n",
      "My Name Is Man Gajjar\n",
      "My name is man gajjar\n"
     ]
    }
   ],
   "source": [
    "# Upper\n",
    "a = \"man\"\n",
    "x=a.upper()\n",
    "print(x)\n",
    "\n",
    "#Lower\n",
    "a = \"MAN\"\n",
    "x=a.lower()\n",
    "print(x)\n",
    "\n",
    "#Swapcase\n",
    "a = \"My Name Is Man Gajjar\"\n",
    "x=a.swapcase()\n",
    "print(x)\n",
    "\n",
    "#tittle\n",
    "a = \"My name is man gajjar\"\n",
    "x=a.title()  #Every first word is Capitalized\n",
    "print(x)\n",
    "\n",
    "#Capitalize\n",
    "a = \"my name is man gajjar\"\n",
    "x=a.capitalize()  #Only first word is Capitalized\n",
    "print(x)"
   ]
  },
  {
   "cell_type": "markdown",
   "metadata": {},
   "source": [
    "## To check type of char. present in a string \n",
    "## Answer only in true or flase"
   ]
  },
  {
   "cell_type": "code",
   "execution_count": 40,
   "metadata": {},
   "outputs": [
    {
     "name": "stdout",
     "output_type": "stream",
     "text": [
      "True\n",
      "False\n"
     ]
    }
   ],
   "source": [
    "# isalnum = (a to z , A to Z, 0 to 9)\n",
    "a = \"abcdABCD123\"\n",
    "print(a.isalnum())\n",
    "\n",
    "b = \"abcd ABCD123\"\n",
    "print(b.isalnum())"
   ]
  },
  {
   "cell_type": "code",
   "execution_count": 42,
   "metadata": {},
   "outputs": [
    {
     "name": "stdout",
     "output_type": "stream",
     "text": [
      "True\n",
      "False\n",
      "False\n",
      "False\n"
     ]
    }
   ],
   "source": [
    "# isalpha = (a to z , A to Z)\n",
    "\n",
    "b = \"abcdABCD\"\n",
    "print(b.isalpha())\n",
    "\n",
    "a = \"abcdABCD123\"\n",
    "print(a.isalpha())\n",
    "\n",
    "c = \"abcd ABCD\"\n",
    "print(c.isalpha())\n",
    "\n",
    "d = \"abcd ABCD123\"\n",
    "print(d.isalpha())"
   ]
  },
  {
   "cell_type": "code",
   "execution_count": 44,
   "metadata": {},
   "outputs": [
    {
     "name": "stdout",
     "output_type": "stream",
     "text": [
      "True\n",
      "False\n"
     ]
    }
   ],
   "source": [
    "# isdigit = (0 to 9)\n",
    "\n",
    "b = \"1234\"\n",
    "print(b.isdigit())\n",
    "\n",
    "a = \"abcdABCD123\"\n",
    "print(a.isdigit())"
   ]
  },
  {
   "cell_type": "code",
   "execution_count": 50,
   "metadata": {},
   "outputs": [
    {
     "name": "stdout",
     "output_type": "stream",
     "text": [
      "True\n",
      "False\n"
     ]
    }
   ],
   "source": [
    "# isnumeric = (0 to 9,roman,fracsion)\n",
    "\n",
    "b = \"1234\"\n",
    "print(b.isnumeric())\n",
    "\n",
    "a = \"abcdABCD123\"\n",
    "print(a.isnumeric())"
   ]
  },
  {
   "cell_type": "code",
   "execution_count": 52,
   "metadata": {},
   "outputs": [
    {
     "name": "stdout",
     "output_type": "stream",
     "text": [
      "Enter Your Name: Man Gajjar\n",
      "The Num of Uppercase is  2  and Lower case is  7\n"
     ]
    }
   ],
   "source": [
    "t = input(\"Enter Your Name: \")\n",
    "l = 0\n",
    "u = 0\n",
    "for i in t:\n",
    "    if i.islower():\n",
    "        l = l + 1\n",
    "    elif i.isupper():\n",
    "        u = u + 1\n",
    "print('The Num of Uppercase is ',u,\" and Lower case is \",l)\n",
    "        "
   ]
  },
  {
   "cell_type": "code",
   "execution_count": 56,
   "metadata": {},
   "outputs": [
    {
     "name": "stdout",
     "output_type": "stream",
     "text": [
      "True\n",
      "True\n",
      "False\n",
      "False\n"
     ]
    }
   ],
   "source": [
    "# isidentifier()\n",
    "a = \"MyFile\"\n",
    "b = \"demo2\"\n",
    "c = \"2demo\"\n",
    "d = \"my file\"\n",
    "print(a.isidentifier())\n",
    "print(b.isidentifier())\n",
    "print(c.isidentifier())\n",
    "print(d.isidentifier())"
   ]
  },
  {
   "cell_type": "code",
   "execution_count": 61,
   "metadata": {},
   "outputs": [
    {
     "name": "stdout",
     "output_type": "stream",
     "text": [
      "True\n"
     ]
    }
   ],
   "source": [
    "# isspace\n",
    "\n",
    "d = \"   \"\n",
    "print(d.isspace())"
   ]
  },
  {
   "cell_type": "code",
   "execution_count": 63,
   "metadata": {},
   "outputs": [
    {
     "name": "stdout",
     "output_type": "stream",
     "text": [
      "Enter Your Name: man gajjar         \n",
      "Total Space is 10\n"
     ]
    }
   ],
   "source": [
    "a = input(\"Enter Your Name: \")\n",
    "x = 0\n",
    "for i in a:\n",
    "    if i.isspace():\n",
    "        x = x + 1\n",
    "print(\"Total Space is\",x)"
   ]
  },
  {
   "cell_type": "code",
   "execution_count": 70,
   "metadata": {},
   "outputs": [
    {
     "name": "stdout",
     "output_type": "stream",
     "text": [
      "27\n",
      "4\n",
      "18\n",
      "-1\n",
      "-1\n",
      "24\n"
     ]
    }
   ],
   "source": [
    "s = \"Leaning Python is very easy\"\n",
    "print(len(s))\n",
    "print(s.find('i'))\n",
    "print(s.find('very'))\n",
    "print(s.find('VERY'))\n",
    "\n",
    "# print(s.find(substing,begin,end)\n",
    "print(s.find('a',3,10))\n",
    "print(s.find('a',3,50))\n"
   ]
  },
  {
   "cell_type": "code",
   "execution_count": 73,
   "metadata": {},
   "outputs": [
    {
     "name": "stdout",
     "output_type": "stream",
     "text": [
      "11\n",
      "2\n"
     ]
    }
   ],
   "source": [
    "# count()\n",
    "a = 'abjbfafssajagabjabgbgajgagjagagag'\n",
    "print(a.count(\"a\"))\n",
    "print(a.count(\"a\",3,10))"
   ]
  },
  {
   "cell_type": "code",
   "execution_count": 75,
   "metadata": {},
   "outputs": [
    {
     "name": "stdout",
     "output_type": "stream",
     "text": [
      "Learning python python is very is very easy\n"
     ]
    }
   ],
   "source": [
    "s = \"Learning java is very is very easy\"\n",
    "x = s.replace(\"java\",\"python\")\n",
    "print(x)\n",
    "\n",
    "s = \"Learning java java is very is very easy\"\n",
    "x = s.replace(\"java\",\"python\")\n",
    "print(x)"
   ]
  }
 ],
 "metadata": {
  "kernelspec": {
   "display_name": "Python 3",
   "language": "python",
   "name": "python3"
  },
  "language_info": {
   "codemirror_mode": {
    "name": "ipython",
    "version": 3
   },
   "file_extension": ".py",
   "mimetype": "text/x-python",
   "name": "python",
   "nbconvert_exporter": "python",
   "pygments_lexer": "ipython3",
   "version": "3.8.5"
  }
 },
 "nbformat": 4,
 "nbformat_minor": 4
}
