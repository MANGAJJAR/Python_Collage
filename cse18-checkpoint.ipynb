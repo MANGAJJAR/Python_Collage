{
 "cells": [
  {
   "cell_type": "code",
   "execution_count": 2,
   "metadata": {},
   "outputs": [
    {
     "name": "stdout",
     "output_type": "stream",
     "text": [
      "1.0\n"
     ]
    }
   ],
   "source": [
    "#assignment operator\n",
    "x=10    \n",
    "x+=20   #x=30\n",
    "x-=10   #x=20  \n",
    "x*=5    #x=100\n",
    "x/=2    #x=50\n",
    "x//=5   #x=10\n",
    "x%=3    #x=1\n",
    "x**=2   #x=1\n",
    "print(x)"
   ]
  },
  {
   "cell_type": "code",
   "execution_count": 3,
   "metadata": {},
   "outputs": [
    {
     "name": "stdout",
     "output_type": "stream",
     "text": [
      "True\n",
      "False\n"
     ]
    }
   ],
   "source": [
    "#m3mb3rship operator /to check words or char from collection\n",
    "x=\"hello its krisha here\"\n",
    "print(\"hello\" in x)\n",
    "print(\"hello\" not in x)"
   ]
  },
  {
   "cell_type": "code",
   "execution_count": 4,
   "metadata": {},
   "outputs": [
    {
     "name": "stdout",
     "output_type": "stream",
     "text": [
      "False\n",
      "True\n"
     ]
    }
   ],
   "source": [
    "l=[1,2,3,4]\n",
    "print(6 in l)\n",
    "print(3 in l)"
   ]
  },
  {
   "cell_type": "code",
   "execution_count": 5,
   "metadata": {},
   "outputs": [
    {
     "name": "stdout",
     "output_type": "stream",
     "text": [
      "23\n",
      "26\n"
     ]
    }
   ],
   "source": [
    "#operator association\n",
    "print(3+10*2)\n",
    "print((3+10)*2) #parantheses hold greater prio"
   ]
  },
  {
   "cell_type": "code",
   "execution_count": 6,
   "metadata": {},
   "outputs": [
    {
     "ename": "ValueError",
     "evalue": "not enough values to unpack (expected 4, got 1)",
     "output_type": "error",
     "traceback": [
      "\u001b[1;31m---------------------------------------------------------------------------\u001b[0m",
      "\u001b[1;31mValueError\u001b[0m                                Traceback (most recent call last)",
      "\u001b[1;32m<ipython-input-6-180570701ca1>\u001b[0m in \u001b[0;36m<module>\u001b[1;34m\u001b[0m\n\u001b[1;32m----> 1\u001b[1;33m \u001b[0ma\u001b[0m\u001b[1;33m,\u001b[0m\u001b[0mb\u001b[0m\u001b[1;33m,\u001b[0m\u001b[0mc\u001b[0m\u001b[1;33m,\u001b[0m\u001b[0md\u001b[0m\u001b[1;33m=\u001b[0m\u001b[1;36m10\u001b[0m\u001b[1;33m,\u001b[0m\u001b[1;33m\u001b[0m\u001b[1;33m\u001b[0m\u001b[0m\n\u001b[0m",
      "\u001b[1;31mValueError\u001b[0m: not enough values to unpack (expected 4, got 1)"
     ]
    }
   ],
   "source": [
    "a,b,c,d=10,"
   ]
  },
  {
   "cell_type": "code",
   "execution_count": null,
   "metadata": {},
   "outputs": [],
   "source": [
    "print(5**3**2*5/True)"
   ]
  },
  {
   "cell_type": "code",
   "execution_count": null,
   "metadata": {},
   "outputs": [],
   "source": [
    "print((5**3)**2*5/True)"
   ]
  },
  {
   "cell_type": "code",
   "execution_count": null,
   "metadata": {},
   "outputs": [],
   "source": [
    "print(\"1\" in \"123\" and \"False\" or True)"
   ]
  },
  {
   "cell_type": "code",
   "execution_count": null,
   "metadata": {},
   "outputs": [],
   "source": [
    "print(\"1\" in \"123\")\n"
   ]
  },
  {
   "cell_type": "code",
   "execution_count": null,
   "metadata": {},
   "outputs": [],
   "source": [
    "True and \"False\""
   ]
  },
  {
   "cell_type": "code",
   "execution_count": null,
   "metadata": {},
   "outputs": [],
   "source": [
    "print(10/(1*3/6))"
   ]
  },
  {
   "cell_type": "code",
   "execution_count": null,
   "metadata": {},
   "outputs": [],
   "source": [
    "print(False or True)"
   ]
  },
  {
   "cell_type": "code",
   "execution_count": null,
   "metadata": {},
   "outputs": [],
   "source": [
    "print(5 and True or 3/0)"
   ]
  },
  {
   "cell_type": "code",
   "execution_count": null,
   "metadata": {},
   "outputs": [],
   "source": [
    "print(7*5**2/True*False)"
   ]
  },
  {
   "cell_type": "code",
   "execution_count": null,
   "metadata": {},
   "outputs": [],
   "source": [
    "#write program to find area of triangle\n",
    "h=int(input(\"enter h:\"))\n",
    "b=int(input(\"enter b:\"))\n",
    "A=1/2*b*h\n",
    "print(A)"
   ]
  },
  {
   "cell_type": "code",
   "execution_count": null,
   "metadata": {},
   "outputs": [],
   "source": [
    "#write a program to convert F to Celc/celc to F\n",
    "f=float(input(\"enter ferenheit:\"))\n",
    "c=(f-32)*(5/9)\n",
    "print(c)"
   ]
  },
  {
   "cell_type": "code",
   "execution_count": null,
   "metadata": {},
   "outputs": [],
   "source": [
    "c=float(input(\"enter celcius:\"))\n",
    "F=(9/5)*c+32\n",
    "print(F)"
   ]
  },
  {
   "cell_type": "code",
   "execution_count": null,
   "metadata": {},
   "outputs": [],
   "source": [
    "#write python program to convert given days to year/months/days\n",
    "a=int(input(\"enter days:\"))\n",
    "b=a//365\n",
    "c=(a%365)//30\n",
    "d=(a%365)%30\n",
    "print(\"years\",b,\"months\",c,\"days\",d)"
   ]
  },
  {
   "cell_type": "code",
   "execution_count": null,
   "metadata": {},
   "outputs": [],
   "source": [
    "a,b,c=20,10,30\n",
    "print(a>b and a>c)\n",
    "print(a>b or a>c)\n",
    "print(not a>b)\n",
    "print(not a>c)"
   ]
  },
  {
   "cell_type": "code",
   "execution_count": null,
   "metadata": {},
   "outputs": [],
   "source": [
    "#write a program check if the given number is positive or negative\n",
    "x=float(input(\"enter your number:\"))\n",
    "print(\"Positive\" if x>=0 else \"negative\")"
   ]
  },
  {
   "cell_type": "code",
   "execution_count": null,
   "metadata": {},
   "outputs": [],
   "source": [
    "#write a python program to find the number of notes against a given ammount\n",
    "a=int(input(\"enter ammount:\"))\n",
    "notes=a//500 \n",
    "print(\"500 notes\",notes)\n",
    "notes=(a%500)//200\n",
    "print(\"200 notes\",notes)\n",
    "notes=((a%500)%200)//100\n",
    "print(\"100 notes\",notes)"
   ]
  },
  {
   "cell_type": "code",
   "execution_count": null,
   "metadata": {},
   "outputs": [],
   "source": [
    "#simple if\n",
    "name=input(\"enter name:\")\n",
    "if name==\"krisha\":\n",
    "     print(\"hello arman good morning\")\n",
    "print(\"how are you\")"
   ]
  },
  {
   "cell_type": "code",
   "execution_count": null,
   "metadata": {},
   "outputs": [],
   "source": [
    "#if elif else\n",
    "name=input(\"enter name:\")\n",
    "if name==\"krisha\":\n",
    "     print(\"hello arman good morning\")\n",
    "else:\n",
    "     print(\"hello guest,good morning\")\n",
    "print(\"how are you\")"
   ]
  },
  {
   "cell_type": "code",
   "execution_count": null,
   "metadata": {},
   "outputs": [],
   "source": [
    "#program to find greatest number of n\n",
    "a=int(input(\"enter numb:\"))\n",
    "b=int(input(\"enter num:\"))\n",
    "c=int(input(\"enter num:\"))\n",
    "if a>b and a>c:\n",
    "    print(\"maximum num is:\",a)\n",
    "elif b>c and b>a:\n",
    "    print(\"maximum num is:\",b)\n",
    "else:\n",
    "    print(\"maximum num is:\",c)"
   ]
  },
  {
   "cell_type": "code",
   "execution_count": 10,
   "metadata": {},
   "outputs": [
    {
     "name": "stdout",
     "output_type": "stream",
     "text": [
      "enter a num:167\n",
      "above 10\n",
      "and also above 100\n"
     ]
    }
   ],
   "source": [
    "#nested if \n",
    "x=int(input(\"enter a num:\"))\n",
    "if x>10:\n",
    "    print(\"above 10\")\n",
    "    if x>100:\n",
    "        print(\"and also above 100\")\n",
    "    else:\n",
    "        print(\"but not above 100\")       "
   ]
  }
 ],
 "metadata": {
  "kernelspec": {
   "display_name": "Python 3",
   "language": "python",
   "name": "python3"
  }
 },
 "nbformat": 4,
 "nbformat_minor": 4
}
