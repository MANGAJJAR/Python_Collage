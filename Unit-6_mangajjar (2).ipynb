{
 "cells": [
  {
   "cell_type": "code",
   "execution_count": null,
   "metadata": {},
   "outputs": [],
   "source": [
    "# https://drive.google.com/drive/folders/13WGhz9Bpb4EWfNZqxYnfR-hz8ecPWKgq\n",
    "# https://quickref.me/python.html"
   ]
  },
  {
   "cell_type": "code",
   "execution_count": 22,
   "metadata": {
    "scrolled": true
   },
   "outputs": [
    {
     "name": "stdout",
     "output_type": "stream",
     "text": [
      "Hello My Name is Man Gajjar \n",
      "you use a notepad or notepad++ so add path D://demo.txt or\n",
      "make jupyter inside file and give only file name man.txt \n"
     ]
    }
   ],
   "source": [
    "f=open(\"man.txt\",\"r\")\n",
    "print(f.read())"
   ]
  },
  {
   "cell_type": "code",
   "execution_count": 14,
   "metadata": {},
   "outputs": [
    {
     "name": "stdout",
     "output_type": "stream",
     "text": [
      "Hello My Name is Man Gajjar \n",
      "you use a notepad or notepad++ so add path D://demo.txt or\n",
      "make jupyter inside file and give only file name man.txt \n",
      "False\n",
      "True\n"
     ]
    }
   ],
   "source": [
    "f=open(\"man.txt\",\"r\")\n",
    "print(f.read())\n",
    "print(f.closed)\n",
    "f.close()\n",
    "print(f.closed)\n"
   ]
  },
  {
   "cell_type": "code",
   "execution_count": 16,
   "metadata": {},
   "outputs": [
    {
     "name": "stdout",
     "output_type": "stream",
     "text": [
      "Hello My Name is Man Gajjar \n",
      "you use a notepad or notepad++ so add path D://demo.txt or\n",
      "make jupyter inside file and give only file name man.txt \n",
      "False\n",
      "True\n"
     ]
    }
   ],
   "source": [
    "with open('man.txt', 'r') as f:\n",
    "    print(f.read())\n",
    "    print(f.closed)\n",
    "print(f.closed)\n"
   ]
  },
  {
   "cell_type": "code",
   "execution_count": 36,
   "metadata": {},
   "outputs": [
    {
     "name": "stdout",
     "output_type": "stream",
     "text": [
      "3\n",
      "XYZ\n"
     ]
    }
   ],
   "source": [
    "f = open(\"man.txt\",\"r+\",encoding='utf-8')\n",
    "print(f.write(\"XYZ\"))\n",
    "f.seek(0)\n",
    "print(f.read())\n",
    "f.close()"
   ]
  },
  {
   "cell_type": "code",
   "execution_count": 56,
   "metadata": {
    "scrolled": true
   },
   "outputs": [
    {
     "name": "stdout",
     "output_type": "stream",
     "text": [
      "Why the name “Python”? ...\n",
      "Did you know the fact that Python is actually an open source language? ...\n",
      "Python is one of the programming languages that are used at Google. ...\n",
      "Build what you want with Python! ...\n",
      "Easy to unpack the functions.\n",
      "0\n",
      "Why the name “Python”? ...\n",
      "Did you know the fact that Python is actually an open source language? ...\n",
      "Python is one of the programming languages that are used at Google. ...\n",
      "Build what you want with Python! ...\n",
      "Easy to unpack the functions.\n"
     ]
    }
   ],
   "source": [
    "f=open(\"man-2.txt\",\"r\",encoding='utf-8')\n",
    "print(f.read())\n",
    "f.tell() #give you index\n",
    "f.seek(0)\n",
    "print(f.tell())\n",
    "print(f.read())\n"
   ]
  },
  {
   "cell_type": "code",
   "execution_count": 4,
   "metadata": {},
   "outputs": [
    {
     "name": "stdout",
     "output_type": "stream",
     "text": [
      "0\n",
      "Why the na\n",
      "10\n",
      "me \"P\n",
      "15\n",
      "ython\"? ...\n",
      "Did you know the fact that Python is actually an open source language? ...\n",
      "Python is one of the programming languages that are used at Google. ...\n",
      "Build what you want with Python! ...\n",
      "Easy to unpack the functions.\n"
     ]
    }
   ],
   "source": [
    "f=open(\"man-2.txt\",\"r\",encoding='utf-8')\n",
    "print(f.tell())\n",
    "print(f.read(10))\n",
    "\n",
    "print(f.tell())\n",
    "print(f.read(5))\n",
    "\n",
    "print(f.tell())\n",
    "print(f.read())\n",
    "\n"
   ]
  },
  {
   "cell_type": "code",
   "execution_count": 9,
   "metadata": {},
   "outputs": [
    {
     "name": "stdout",
     "output_type": "stream",
     "text": [
      "Why the name \"Python\"? ...\n",
      "\n",
      "Did you know the fact that Python is actually an open source language? ...\n",
      "\n"
     ]
    }
   ],
   "source": [
    "f=open(\"man-2.txt\",\"r\",encoding='utf-8')\n",
    "print(f.readline()) # give frist line\n",
    "print(f.readline()) # give second line\n"
   ]
  },
  {
   "cell_type": "code",
   "execution_count": 1,
   "metadata": {},
   "outputs": [
    {
     "name": "stdout",
     "output_type": "stream",
     "text": [
      "['Why the name \"Python\"? ...\\n', 'Did you know the fact that Python is actually an open source language? ...\\n', 'Python is one of the programming languages that are used at Google. ...\\n', 'Build what you want with Python! ...\\n', 'Easy to unpack the functions.\\n', 'My name is TOPG']\n",
      "256\n"
     ]
    }
   ],
   "source": [
    "f=open(\"man-2.txt\",\"r\",encoding='utf-8')\n",
    "print(f.readlines())\n",
    "print(f.tell())"
   ]
  },
  {
   "cell_type": "code",
   "execution_count": 29,
   "metadata": {},
   "outputs": [
    {
     "name": "stdout",
     "output_type": "stream",
     "text": [
      "W\n",
      "hy the name \"Python\"? ...\n",
      "\n",
      "Did you know the fact that Python is actually an open source language? ...\n",
      "\n",
      "Python is o\n"
     ]
    }
   ],
   "source": [
    "f=open(\"man-2.txt\",\"r\",encoding='utf-8')\n",
    "print(f.readline(1))\n",
    "print(f.readline(29)) # first line fine \n",
    "print(f.readline()) # start second line\n",
    "print(f.readline(11)) # thrid line 10 char, it is count space also\n"
   ]
  },
  {
   "cell_type": "code",
   "execution_count": 37,
   "metadata": {},
   "outputs": [
    {
     "name": "stdout",
     "output_type": "stream",
     "text": [
      "['Why the name \"Python\"? ...\\n']\n"
     ]
    }
   ],
   "source": [
    "f=open(\"man-2.txt\",\"r\",encoding='utf-8')\n",
    "print(f.readlines(25)) # 25 word ma second line ma finish thase to second line print thase nakhr nai\n"
   ]
  },
  {
   "cell_type": "code",
   "execution_count": 44,
   "metadata": {},
   "outputs": [
    {
     "data": {
      "text/plain": [
       "14"
      ]
     },
     "execution_count": 44,
     "metadata": {},
     "output_type": "execute_result"
    }
   ],
   "source": [
    "f=open(\"test.txt\",\"w\")\n",
    "f.write(\"This is change\")"
   ]
  },
  {
   "cell_type": "code",
   "execution_count": 50,
   "metadata": {},
   "outputs": [],
   "source": [
    "with open(\"test.txt\",\"w\") as f:\n",
    "    f.write(\"This is Man\")    \n",
    "    "
   ]
  },
  {
   "cell_type": "code",
   "execution_count": 55,
   "metadata": {},
   "outputs": [
    {
     "name": "stdout",
     "output_type": "stream",
     "text": [
      "Enter Your first Name: Man\n",
      "Enter Your last Name: Gajjar\n",
      "Enter Your collage Name: LJ Eng.\n"
     ]
    }
   ],
   "source": [
    "with open(\"input.txt\",\"w\") as f:\n",
    "    f.write(input(\"Enter Your first Name: \")+\"\\n\")\n",
    "    f.write(input(\"Enter Your last Name: \")+\"\\n\")    \n",
    "    f.write(input(\"Enter Your collage Name: \")+\"\\n\")    "
   ]
  },
  {
   "cell_type": "code",
   "execution_count": 60,
   "metadata": {},
   "outputs": [
    {
     "name": "stdout",
     "output_type": "stream",
     "text": [
      "Enter Nameman\n",
      "Enter Namegajjar\n",
      "Enter Nameman\n"
     ]
    }
   ],
   "source": [
    "f=open(\"test.txt\",\"w\")\n",
    "for i in range(3):\n",
    "    name = input(\"Enter Name: \")\n",
    "    f.write(name+\"\\n\")\n",
    "f.close()"
   ]
  },
  {
   "cell_type": "code",
   "execution_count": 61,
   "metadata": {},
   "outputs": [],
   "source": [
    "f=open(\"test.txt\",\"w\")\n",
    "l = [\"A\",\"B\",\"C\",\"D\"]\n",
    "f.writelines(l)\n",
    "f.close()"
   ]
  },
  {
   "cell_type": "code",
   "execution_count": 62,
   "metadata": {},
   "outputs": [
    {
     "name": "stdout",
     "output_type": "stream",
     "text": [
      "Enter Name: Man\n",
      "Enter Name: TOPG\n",
      "Enter Name: TATE\n"
     ]
    }
   ],
   "source": [
    "f=open(\"test.txt\",\"w\")\n",
    "l=[]\n",
    "for i in range(3):\n",
    "    name = input(\"Enter Name: \")\n",
    "    l.append(name+\"\\n\")\n",
    "f.writelines(l)\n",
    "f.close()\n"
   ]
  },
  {
   "cell_type": "code",
   "execution_count": 31,
   "metadata": {},
   "outputs": [],
   "source": [
    "# write a pro. to copy to content of 1 file to another file\n",
    "f=open(\"info.txt\",\"r\")\n",
    "f1=open(\"info-copy.txt\",\"w\")\n",
    "data=f.read()\n",
    "f1.write(data)\n",
    "f.close()\n",
    "f1.close()"
   ]
  },
  {
   "cell_type": "code",
   "execution_count": 30,
   "metadata": {},
   "outputs": [],
   "source": [
    "# write a pro. to copy to content of 1 file to another file and convert to Upper case\n",
    "f=open(\"info.txt\",\"r\")\n",
    "f1=open(\"info-upper.txt\",\"w\")\n",
    "data=f.read()\n",
    "f1.write(data.upper())\n",
    "f.close()\n",
    "f1.close()"
   ]
  },
  {
   "cell_type": "code",
   "execution_count": 32,
   "metadata": {},
   "outputs": [],
   "source": [
    "# wap to pro. to copy content of Dict. to a file \n",
    "d = {\"Name\":\"Alice\",\"Age\":\"198\",\"Degree\":\"Game\",\"University\":\"LJ\"}\n",
    "with open(\"dict10-write.txt\",\"w\")as f:\n",
    "    for k,v in d.items():\n",
    "        f.write(str(k)+\": \"+str(v)+\"\\n\")"
   ]
  },
  {
   "cell_type": "code",
   "execution_count": 28,
   "metadata": {},
   "outputs": [],
   "source": [
    "# wap a pro. to reverse a file and STORE in another file\n",
    "f=open(\"demo-10\",\"r\")\n",
    "f1=open(\"demo-reverse\",\"w\")  \n",
    "data=f.read()\n",
    "f1.write(data[::-1])\n",
    "f.close()\n",
    "f1.close()\n"
   ]
  },
  {
   "cell_type": "code",
   "execution_count": 29,
   "metadata": {},
   "outputs": [],
   "source": [
    "f=open(\"demo-10\",\"r\")\n",
    "f1=open(\"demo-swap\",\"w\") \n",
    "data=f.readlines()[::-1]\n",
    "f1.writelines(data)\n",
    "f.close()\n",
    "f1.close()"
   ]
  },
  {
   "cell_type": "code",
   "execution_count": null,
   "metadata": {},
   "outputs": [],
   "source": [
    "# wap a pro. to read spacefice line enter by user \n",
    "a = int(input(\"enter line you want: \"))\n",
    "with open(\"man-2.txt\",\"r\")as f:\n",
    "    print(f.readlines()[a-1])        "
   ]
  },
  {
   "cell_type": "code",
   "execution_count": null,
   "metadata": {},
   "outputs": [],
   "source": [
    "# wap a py pro. to copy odd line and even lines in to differnt from a given file.\n",
    "a=open(\"man-2.txt\",\"r\")\n",
    "data=f.readlines()  \n",
    "f1=open(\"man-2-odd.txt\",\"w\")\n",
    "f1.writelines(data[::2])\n",
    "f2=open(\"man-2-even.txt\",\"w\")\n",
    "f2.writelines(data[1::2])\n",
    "a.close()\n",
    "f1.close()\n",
    "f2.close()"
   ]
  },
  {
   "cell_type": "markdown",
   "metadata": {},
   "source": [
    "# Page Pro."
   ]
  },
  {
   "cell_type": "code",
   "execution_count": 1,
   "metadata": {},
   "outputs": [
    {
     "name": "stdout",
     "output_type": "stream",
     "text": [
      "Enter name of file: py-man\n",
      "Enter line limit: 5\n",
      "This is Py 1\n",
      "\n",
      "This is Py 2\n",
      "\n",
      "This is Py 3\n",
      "\n",
      "This is Py 4\n",
      "\n",
      "This is Py 5\n",
      "\n",
      "Enter Any key to cotiune press Q to exit\n",
      "This is Py 6\n",
      "\n",
      "This is Py 7\n",
      "\n",
      "This is Py 8\n",
      "\n",
      "This is Py 9\n",
      "\n",
      "This is Py 10\n",
      "\n",
      "Enter Any key to cotiune press Q to exit\n",
      "This is Py 11\n",
      "\n",
      "This is Py 12\n",
      "\n",
      "This is Py 13\n",
      "\n",
      "This is Py 14\n",
      "\n",
      "This is Py 15\n",
      "\n",
      "Enter Any key to cotiune press Q to exit\n",
      "This is Py 16\n",
      "\n",
      "This is Py 17\n",
      "\n",
      "This is Py 18\n",
      "\n",
      "This is Py 19\n",
      "\n",
      "This is Py 20\n",
      "\n",
      "Enter Any key to cotiune press Q to exit\n",
      "This is Py 21\n",
      "\n",
      "This is Py 22\n",
      "\n",
      "This is Py 23\n",
      "\n",
      "This is Py 24\n",
      "\n",
      "This is Py 25\n",
      "Enter Any key to cotiune press Q to exit\n"
     ]
    }
   ],
   "source": [
    "file=open(input(\"Enter name of file: \"))\n",
    "limit=int(input(\"Enter line limit: \"))\n",
    "\n",
    "for index,line in enumerate(file,1):\n",
    "    print(line)\n",
    "    if index%limit==0:\n",
    "        x = input(\"Enter Any key to cotiune press Q to exit\")\n",
    "        if x.lower()==\"q\":\n",
    "            break\n",
    "        else:\n",
    "            continue\n",
    "    "
   ]
  },
  {
   "cell_type": "code",
   "execution_count": 2,
   "metadata": {},
   "outputs": [
    {
     "ename": "FileNotFoundError",
     "evalue": "[Errno 2] No such file or directory: 'file-1.txt'",
     "output_type": "error",
     "traceback": [
      "\u001b[1;31m---------------------------------------------------------------------------\u001b[0m",
      "\u001b[1;31mFileNotFoundError\u001b[0m                         Traceback (most recent call last)",
      "\u001b[1;32m<ipython-input-2-88f7db235047>\u001b[0m in \u001b[0;36m<module>\u001b[1;34m\u001b[0m\n\u001b[0;32m      1\u001b[0m \u001b[1;31m# wap a pro. copy the conten of two file\u001b[0m\u001b[1;33m\u001b[0m\u001b[1;33m\u001b[0m\u001b[1;33m\u001b[0m\u001b[0m\n\u001b[0;32m      2\u001b[0m \u001b[0ma\u001b[0m\u001b[1;33m=\u001b[0m\u001b[0mopen\u001b[0m\u001b[1;33m(\u001b[0m\u001b[1;34m\"newfile.txt\"\u001b[0m\u001b[1;33m,\u001b[0m\u001b[1;34m\"w\"\u001b[0m\u001b[1;33m)\u001b[0m\u001b[1;33m\u001b[0m\u001b[1;33m\u001b[0m\u001b[0m\n\u001b[1;32m----> 3\u001b[1;33m \u001b[0mf1\u001b[0m\u001b[1;33m=\u001b[0m\u001b[0mopen\u001b[0m\u001b[1;33m(\u001b[0m\u001b[1;34m\"file-1.txt\"\u001b[0m\u001b[1;33m,\u001b[0m\u001b[1;34m\"r\"\u001b[0m\u001b[1;33m)\u001b[0m\u001b[1;33m\u001b[0m\u001b[1;33m\u001b[0m\u001b[0m\n\u001b[0m\u001b[0;32m      4\u001b[0m \u001b[0mf2\u001b[0m\u001b[1;33m=\u001b[0m\u001b[0mopen\u001b[0m\u001b[1;33m(\u001b[0m\u001b[1;34m\"file-2.txt\"\u001b[0m\u001b[1;33m,\u001b[0m\u001b[1;34m\"r\"\u001b[0m\u001b[1;33m)\u001b[0m\u001b[1;33m\u001b[0m\u001b[1;33m\u001b[0m\u001b[0m\n\u001b[0;32m      5\u001b[0m \u001b[0ma\u001b[0m\u001b[1;33m.\u001b[0m\u001b[0mwrite\u001b[0m\u001b[1;33m(\u001b[0m\u001b[0mf1\u001b[0m\u001b[1;33m,\u001b[0m\u001b[0mf2\u001b[0m\u001b[1;33m)\u001b[0m\u001b[1;33m\u001b[0m\u001b[1;33m\u001b[0m\u001b[0m\n",
      "\u001b[1;31mFileNotFoundError\u001b[0m: [Errno 2] No such file or directory: 'file-1.txt'"
     ]
    }
   ],
   "source": [
    "# wap a pro. copy the conten of two file\n",
    "a=open(\"newfile.txt\",\"w\")\n",
    "f1=open(\"file-1.txt\",\"r\")\n",
    "f2=open(\"file-2.txt\",\"r\")\n",
    "a.write(f1,f2)"
   ]
  },
  {
   "cell_type": "code",
   "execution_count": 2,
   "metadata": {},
   "outputs": [],
   "source": [
    "f=open(\"file-hasetag\")\n",
    "d=open(\"file-without-hasetage.txt\",\"w\")\n",
    "while True:\n",
    "    b=f.readline()\n",
    "    if len(b)!=0:\n",
    "        if b[0]==\"#\":\n",
    "            continue\n",
    "        else:\n",
    "            if \"#\" in b:\n",
    "                for index in range(1,len(b)):\n",
    "                    if b[index]==\"#\":\n",
    "                        d.write(b[0:index]+\"\\n\")\n",
    "            else:\n",
    "                d.write(b)\n",
    "    else:\n",
    "        break\n",
    "f.close()\n",
    "d.close()        "
   ]
  },
  {
   "cell_type": "code",
   "execution_count": 12,
   "metadata": {},
   "outputs": [
    {
     "name": "stdout",
     "output_type": "stream",
     "text": [
      "Line: 1 Position: 6\n",
      "Line: 2 Position: 6\n",
      "Line: 2 Position: 11\n"
     ]
    }
   ],
   "source": [
    "# wap a pro. to campares two file and find the differnece in line and char-position.\n",
    "with open(\"char-1\") as f:\n",
    "    s1=f.read()\n",
    "with open(\"char-2\") as f:\n",
    "    s2=f.read()\n",
    "p=l=1 \n",
    "for i in range(len(s1)):\n",
    "    if s1[i]==s2[i]:\n",
    "        p+=1\n",
    "        if s1[i]==\"\\n\":\n",
    "            l+=1\n",
    "            p=1\n",
    "    else:\n",
    "        print(\"Line:\",l,\"Position:\",p)\n",
    "        p+=1"
   ]
  },
  {
   "cell_type": "code",
   "execution_count": 3,
   "metadata": {},
   "outputs": [
    {
     "name": "stdout",
     "output_type": "stream",
     "text": [
      "Enter wrod you change: Java\n",
      "Enter wrod you like: python\n",
      "This is python\n",
      "This is python\n",
      "This is python\n",
      "This is python\n",
      "This is python\n"
     ]
    }
   ],
   "source": [
    "# wap a pro. to replaces wrod in file \n",
    "with open(\"word-change\") as f:\n",
    "    s1=f.read()\n",
    "    \n",
    "a = input(\"Enter wrod you change: \")\n",
    "b = input(\"Enter wrod you like: \")\n",
    "\n",
    "s=s1.replace(a,b)\n",
    "print(s)\n",
    "\n",
    "with open(\"word-change\",'w') as f:\n",
    "    f.write(s)"
   ]
  },
  {
   "cell_type": "code",
   "execution_count": 5,
   "metadata": {},
   "outputs": [
    {
     "name": "stdout",
     "output_type": "stream",
     "text": [
      "Total Num of Spcae 15 Char 61 Wrods 15\n"
     ]
    }
   ],
   "source": [
    "# count wrods,char and space from text-file\n",
    "with open(\"word-change\") as f:\n",
    "    s1=f.read()\n",
    "    x=s1.split()\n",
    "\n",
    "c=sp=1\n",
    "for i in s1:\n",
    "    if i.isspace():\n",
    "        sp+=1\n",
    "    elif i.isalpha():\n",
    "        c+=1\n",
    "print(\"Total Num of Spcae\",sp,\"Char\",c,\"Wrods\",len(x))"
   ]
  },
  {
   "cell_type": "code",
   "execution_count": 11,
   "metadata": {},
   "outputs": [
    {
     "name": "stdout",
     "output_type": "stream",
     "text": [
      "Did you know the f\n",
      "act that P\n",
      "ython is actually an open source language? ...\n",
      "\n"
     ]
    }
   ],
   "source": [
    "# FILE:\n",
    "# Why the name \"Python\"? ...\n",
    "# Did you know the fact that Python is actually an open source language? ...\n",
    "# Python is one of the programming languages that are used at Google. ...\n",
    "# Build what you want with Python! ...\n",
    "# Easy to unpack the functions.\n",
    "\n",
    "\n",
    "f = open(\"man-2.txt\") #this is by default read mode\n",
    "l = f.readline()\n",
    "l2 = f.readline(18)\n",
    "ch3 = f.read(10)\n",
    "print(l2)\n",
    "print(ch3)\n",
    "print(f.readline())\n",
    "f.close()"
   ]
  },
  {
   "cell_type": "code",
   "execution_count": 15,
   "metadata": {},
   "outputs": [
    {
     "name": "stdout",
     "output_type": "stream",
     "text": [
      "Enter a Words: Man\n",
      "Enter a Words: Gajjar\n",
      "Enter a Words: Good\n",
      "Enter a Words: Morning \n",
      "Enter a Words: end\n",
      "Man\n",
      "Gajjar\n",
      "Good\n",
      "Morning \n"
     ]
    }
   ],
   "source": [
    "# accept string or sentence from thr user till the user enters end each string or sentance \n",
    "# enter by the user should be new line in file save all the line on file and display only those \n",
    "# line which begin with capatile\n",
    "f = open(\"input\",\"w+\")\n",
    "\n",
    "while True:\n",
    "    a = input(\"Enter a Words: \")\n",
    "    if a==\"end\":\n",
    "        break\n",
    "    else:\n",
    "        f.write(a+\"\\n\")\n",
    "f.seek(0) # cursor\n",
    "\n",
    "for line in f:\n",
    "    if line[0].isupper():\n",
    "        print(line[:-1])\n",
    "f.close()"
   ]
  },
  {
   "cell_type": "code",
   "execution_count": 16,
   "metadata": {},
   "outputs": [
    {
     "name": "stdout",
     "output_type": "stream",
     "text": [
      "Enter a Wrod: is\n"
     ]
    },
    {
     "ename": "TypeError",
     "evalue": "string indices must be integers",
     "output_type": "error",
     "traceback": [
      "\u001b[1;31m---------------------------------------------------------------------------\u001b[0m",
      "\u001b[1;31mTypeError\u001b[0m                                 Traceback (most recent call last)",
      "\u001b[1;32m<ipython-input-16-4747f9740585>\u001b[0m in \u001b[0;36m<module>\u001b[1;34m\u001b[0m\n\u001b[0;32m      4\u001b[0m \u001b[0ma\u001b[0m \u001b[1;33m=\u001b[0m \u001b[0minput\u001b[0m\u001b[1;33m(\u001b[0m\u001b[1;34m\"Enter a Wrod: \"\u001b[0m\u001b[1;33m)\u001b[0m\u001b[1;33m\u001b[0m\u001b[1;33m\u001b[0m\u001b[0m\n\u001b[0;32m      5\u001b[0m \u001b[1;32mfor\u001b[0m \u001b[0mi\u001b[0m \u001b[1;32min\u001b[0m \u001b[0ms1\u001b[0m\u001b[1;33m:\u001b[0m\u001b[1;33m\u001b[0m\u001b[1;33m\u001b[0m\u001b[0m\n\u001b[1;32m----> 6\u001b[1;33m     \u001b[1;32mif\u001b[0m \u001b[0ms1\u001b[0m\u001b[1;33m[\u001b[0m\u001b[0mi\u001b[0m\u001b[1;33m]\u001b[0m\u001b[1;33m==\u001b[0m\u001b[0ma\u001b[0m\u001b[1;33m:\u001b[0m\u001b[1;33m\u001b[0m\u001b[1;33m\u001b[0m\u001b[0m\n\u001b[0m\u001b[0;32m      7\u001b[0m         \u001b[0mf\u001b[0m\u001b[1;33m.\u001b[0m\u001b[0mtell\u001b[0m\u001b[1;33m(\u001b[0m\u001b[1;33m)\u001b[0m\u001b[1;33m\u001b[0m\u001b[1;33m\u001b[0m\u001b[0m\n\u001b[0;32m      8\u001b[0m     \u001b[1;32melse\u001b[0m\u001b[1;33m:\u001b[0m\u001b[1;33m\u001b[0m\u001b[1;33m\u001b[0m\u001b[0m\n",
      "\u001b[1;31mTypeError\u001b[0m: string indices must be integers"
     ]
    }
   ],
   "source": [
    "# search for a string index file\n",
    "with open(\"word-change\") as f:\n",
    "    s1=f.read()\n",
    "a = input(\"Enter a Wrod: \")\n",
    "for i in s1:\n",
    "    if s1[i]==a:\n",
    "        f.tell()\n",
    "    else:\n",
    "        print(\"Not Found\")\n",
    "        "
   ]
  },
  {
   "cell_type": "code",
   "execution_count": 10,
   "metadata": {},
   "outputs": [],
   "source": [
    "# read line by line from given files fil1 and file 2 and write into file 3.\n",
    "f1=open(\"file.1\",\"r\")\n",
    "f2=open(\"file.2\",\"r\")\n",
    "data1 = f1.readlines()\n",
    "data2 = f2.readlines()\n",
    "\n",
    "f3=open(\"file.3\",\"w\")\n",
    "if len(data1)<len(data2):\n",
    "    data1,data2=data2[:],data1[:]\n",
    "index=1\n",
    "\n",
    "for i in data2:\n",
    "    data1.insert(index,i)\n",
    "    index+=2\n",
    "f3.writelines(data1)\n",
    "\n",
    "f1.close()\n",
    "f2.close()  \n",
    "f3.close()  "
   ]
  },
  {
   "cell_type": "code",
   "execution_count": 11,
   "metadata": {},
   "outputs": [],
   "source": [
    "f1=open(\"file.1\",\"r\")\n",
    "f2=open(\"file.2\",\"r\")\n",
    "f3=open(\"file.3\",\"w\")\n",
    "\n",
    "x = f1.readlines()\n",
    "y = f2.readlines()\n",
    "\n",
    "lf1 = len(x)\n",
    "lf2 = len(y)\n",
    "\n",
    "m = max(lf1,lf2)\n",
    "\n",
    "for i in range(m):\n",
    "    if i < lf1:\n",
    "        f3.write(x[i])\n",
    "    if i < lf2:\n",
    "        f3.write(y[i])\n",
    "f1.close()\n",
    "f2.close()  \n",
    "f3.close()"
   ]
  },
  {
   "cell_type": "code",
   "execution_count": 14,
   "metadata": {},
   "outputs": [
    {
     "ename": "TypeError",
     "evalue": "'>' not supported between instances of 'int' and 'str'",
     "output_type": "error",
     "traceback": [
      "\u001b[1;31m---------------------------------------------------------------------------\u001b[0m",
      "\u001b[1;31mTypeError\u001b[0m                                 Traceback (most recent call last)",
      "\u001b[1;32m<ipython-input-14-7a1a95830e65>\u001b[0m in \u001b[0;36m<module>\u001b[1;34m\u001b[0m\n\u001b[0;32m      8\u001b[0m \u001b[0mm\u001b[0m\u001b[1;33m=\u001b[0m\u001b[1;36m0\u001b[0m\u001b[1;33m\u001b[0m\u001b[1;33m\u001b[0m\u001b[0m\n\u001b[0;32m      9\u001b[0m \u001b[1;32mfor\u001b[0m \u001b[0mi\u001b[0m \u001b[1;32min\u001b[0m \u001b[0mx\u001b[0m\u001b[1;33m:\u001b[0m\u001b[1;33m\u001b[0m\u001b[1;33m\u001b[0m\u001b[0m\n\u001b[1;32m---> 10\u001b[1;33m     \u001b[1;32mif\u001b[0m \u001b[0mm\u001b[0m\u001b[1;33m>\u001b[0m\u001b[0mi\u001b[0m\u001b[1;33m:\u001b[0m\u001b[1;33m\u001b[0m\u001b[1;33m\u001b[0m\u001b[0m\n\u001b[0m\u001b[0;32m     11\u001b[0m         \u001b[0mprint\u001b[0m\u001b[1;33m(\u001b[0m\u001b[0mi\u001b[0m\u001b[1;33m)\u001b[0m\u001b[1;33m\u001b[0m\u001b[1;33m\u001b[0m\u001b[0m\n\u001b[0;32m     12\u001b[0m \u001b[1;33m\u001b[0m\u001b[0m\n",
      "\u001b[1;31mTypeError\u001b[0m: '>' not supported between instances of 'int' and 'str'"
     ]
    }
   ],
   "source": [
    "# find logest word in given texts file.\n",
    "# file: Hello GoodMorning.\n",
    "\n",
    "with open(\"logestword\") as f:\n",
    "    s1=f.read()\n",
    "    x=s1.split()\n",
    "    \n",
    "m=0\n",
    "for i in x:\n",
    "    if m>\n",
    "        \n",
    "   \n",
    "    "
   ]
  },
  {
   "cell_type": "code",
   "execution_count": null,
   "metadata": {},
   "outputs": [],
   "source": []
  }
 ],
 "metadata": {
  "kernelspec": {
   "display_name": "Python 3",
   "language": "python",
   "name": "python3"
  },
  "language_info": {
   "codemirror_mode": {
    "name": "ipython",
    "version": 3
   },
   "file_extension": ".py",
   "mimetype": "text/x-python",
   "name": "python",
   "nbconvert_exporter": "python",
   "pygments_lexer": "ipython3",
   "version": "3.8.5"
  }
 },
 "nbformat": 4,
 "nbformat_minor": 4
}
