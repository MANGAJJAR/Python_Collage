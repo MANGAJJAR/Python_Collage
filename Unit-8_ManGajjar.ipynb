{
 "cells": [
  {
   "cell_type": "markdown",
   "metadata": {},
   "source": [
    "# Exception Handing."
   ]
  },
  {
   "cell_type": "code",
   "execution_count": 1,
   "metadata": {},
   "outputs": [
    {
     "name": "stdout",
     "output_type": "stream",
     "text": [
      "Main Program Start\n",
      "Exception Occured\n",
      "Main Program Ends\n"
     ]
    }
   ],
   "source": [
    "# Using try\n",
    "print(\"Main Program Start\")\n",
    "def div(a,b):\n",
    "    return a/b\n",
    "try:\n",
    "    print(div(5,0))\n",
    "except:\n",
    "    print(\"Exception Occured\")\n",
    "print(\"Main Program Ends\")"
   ]
  },
  {
   "cell_type": "code",
   "execution_count": 3,
   "metadata": {},
   "outputs": [
    {
     "name": "stdout",
     "output_type": "stream",
     "text": [
      "Main Program Start\n",
      "5.0\n",
      "No Exception\n",
      "Main Program Ends\n"
     ]
    }
   ],
   "source": [
    "print(\"Main Program Start\")\n",
    "def div(a,b):\n",
    "    return a/b\n",
    "try:\n",
    "    print(div(5,1))\n",
    "except:\n",
    "    print(\"Exception Occured\")\n",
    "else:\n",
    "    print(\"No Exception\")\n",
    "finally:\n",
    "    print(\"Main Program Ends\")"
   ]
  },
  {
   "cell_type": "code",
   "execution_count": 12,
   "metadata": {},
   "outputs": [
    {
     "name": "stdout",
     "output_type": "stream",
     "text": [
      "\n",
      "5\n",
      "5.0\n",
      "list index out of range\n"
     ]
    }
   ],
   "source": [
    "try:\n",
    "    m = 5    \n",
    "    f=open(\"File-open.txt\",\"r\")\n",
    "    print(f.read())\n",
    "    print(m)\n",
    "    print(5/1)\n",
    "    L=[1,2,3]\n",
    "    L[100] #list index out of range\n",
    "except FileNotFoundError:\n",
    "    print(\"File Not Found\")\n",
    "except NameError:\n",
    "    print(\"Variable Not Defind\")\n",
    "except ZeroDivisionError:\n",
    "    print(\"Can't Divide by 0\")\n",
    "except Exception as e:\n",
    "    print(e)"
   ]
  },
  {
   "cell_type": "code",
   "execution_count": 23,
   "metadata": {},
   "outputs": [
    {
     "name": "stdout",
     "output_type": "stream",
     "text": [
      "name 'g' is not defined\n",
      "The Rest Of The Code\n"
     ]
    }
   ],
   "source": [
    "a = 10\n",
    "b = 0\n",
    "\n",
    "try:\n",
    "    d = a/g\n",
    "    print(d)\n",
    "except(NameError,ZeroDivisionError,IndentationError) as obj:\n",
    "    print(obj)\n",
    "print(\"The Rest Of The Code\")"
   ]
  },
  {
   "cell_type": "code",
   "execution_count": 34,
   "metadata": {},
   "outputs": [
    {
     "data": {
      "text/plain": [
       "30"
      ]
     },
     "execution_count": 34,
     "metadata": {},
     "output_type": "execute_result"
    }
   ],
   "source": [
    "# How to gate a error.\n",
    "def add(a,b):\n",
    "    if type(a)==str:\n",
    "        raise TypeError(\"a should be int\")\n",
    "    if type(b)==str:\n",
    "        raise TypeError(\"b should be int\")\n",
    "    return a+b\n",
    "# add(\"ABC\",\"GGF\")\n",
    "# add(10,\"GGF\")\n",
    "add(10,20)"
   ]
  },
  {
   "cell_type": "markdown",
   "metadata": {},
   "source": [
    "# Custom Exception"
   ]
  },
  {
   "cell_type": "code",
   "execution_count": 35,
   "metadata": {},
   "outputs": [],
   "source": [
    "class man(Exception):\n",
    "    def ___init__(self,arg):\n",
    "        self.msg=arg\n",
    "        "
   ]
  },
  {
   "cell_type": "code",
   "execution_count": 38,
   "metadata": {},
   "outputs": [
    {
     "data": {
      "text/plain": [
       "30"
      ]
     },
     "execution_count": 38,
     "metadata": {},
     "output_type": "execute_result"
    }
   ],
   "source": [
    "# How to gate a error.\n",
    "def add(a,b):\n",
    "    if type(a)==str:\n",
    "        raise man(\"Noo 😡 a should be int\")\n",
    "    if type(b)==str:\n",
    "        raise man(\"Noo 😡 b should be int\")\n",
    "    return a+b\n",
    "# add(\"ABC\",\"GGF\")\n",
    "# add(10,\"GGF\")\n",
    "add(10,20)"
   ]
  },
  {
   "cell_type": "code",
   "execution_count": 52,
   "metadata": {},
   "outputs": [
    {
     "data": {
      "text/plain": [
       "4000"
      ]
     },
     "execution_count": 52,
     "metadata": {},
     "output_type": "execute_result"
    }
   ],
   "source": [
    "# \n",
    "\n",
    "class lowbalace(Exception):\n",
    "    def ___init__(self,arg):\n",
    "        self.msg=arg\n",
    "    \n",
    "def chechkbalance(balance,withdraw):\n",
    "    if balance-withdraw<2000:\n",
    "        raise lowbalace(f\"Low Balance,{withdraw}\")\n",
    "    else:\n",
    "        return balance-withdraw\n",
    "try:\n",
    "    chechkbalance(10000,6000)\n",
    "    chechkbalance(10000,7000)\n",
    "    chechkbalance(10000,3000)\n",
    "#     chechkbalance(10000,12000)\n",
    "except(lowbalace):\n",
    "    print(\"Low Balance\")\n",
    "chechkbalance(10000,6000)   "
   ]
  },
  {
   "cell_type": "markdown",
   "metadata": {},
   "source": [
    "# OOP"
   ]
  },
  {
   "cell_type": "code",
   "execution_count": 72,
   "metadata": {},
   "outputs": [],
   "source": [
    "class Employee:\n",
    "    def __init__(self,name,age,salary):\n",
    "        self.name=name\n",
    "        self.age=age    \n",
    "        self.salary=salary  \n",
    "    def display(self):\n",
    "        print(\"Employee Name: \",self.name)\n",
    "        print(\"Employee Age: \",self.age)    \n",
    "        print(\"Employee Salary: \",self.salary)    "
   ]
  },
  {
   "cell_type": "code",
   "execution_count": 73,
   "metadata": {},
   "outputs": [
    {
     "name": "stdout",
     "output_type": "stream",
     "text": [
      "Employee Name:  Man\n",
      "Employee Age:  4\n",
      "Employee Salary:  9000\n",
      "Employee Name:  Andrew\n",
      "Employee Age:  4\n",
      "Employee Salary:  9000\n",
      "Employee Name:  Tate\n",
      "Employee Age:  5\n",
      "Employee Salary:  9000\n"
     ]
    }
   ],
   "source": [
    "str1=Employee(\"Man\",4,9000)\n",
    "str1.display()\n",
    "str2=Employee(\"Andrew\",4,9000)   \n",
    "str2.display()\n",
    "str3=Employee(\"Tate\",5,9000)    \n",
    "str3.display()"
   ]
  },
  {
   "cell_type": "code",
   "execution_count": 79,
   "metadata": {},
   "outputs": [],
   "source": [
    "class Employee:\n",
    "    def __init__(self):\n",
    "        self.name=input(\"Enter Name:\")\n",
    "        self.age=input(\"Enter age:\")  \n",
    "        self.salary=input(\"Enter salary:\")\n",
    "    def display(self):\n",
    "        print(\"Employee Name: \",self.name)\n",
    "        print(\"Employee Age: \",self.age)    \n",
    "        print(\"Employee Salary: \",self.salary)    "
   ]
  },
  {
   "cell_type": "code",
   "execution_count": 81,
   "metadata": {},
   "outputs": [
    {
     "name": "stdout",
     "output_type": "stream",
     "text": [
      "Enter Name:A\n",
      "Enter age:V\n",
      "Enter salary:B\n",
      "Employee Name:  A\n",
      "Employee Age:  V\n",
      "Employee Salary:  B\n",
      "Enter Name:GF\n",
      "Enter age:G\n",
      "Enter salary:FG\n",
      "Employee Name:  GF\n",
      "Employee Age:  G\n",
      "Employee Salary:  FG\n",
      "Enter Name:D\n",
      "Enter age:GF\n",
      "Enter salary:G\n",
      "Employee Name:  D\n",
      "Employee Age:  GF\n",
      "Employee Salary:  G\n"
     ]
    }
   ],
   "source": [
    "str1=Employee()\n",
    "str1.display()\n",
    "\n",
    "str2=Employee() \n",
    "str2.display()\n",
    "\n",
    "str3=Employee()    \n",
    "str3.display()\n"
   ]
  },
  {
   "cell_type": "code",
   "execution_count": null,
   "metadata": {},
   "outputs": [],
   "source": [
    "class Student:\n",
    "    def __init__(self,name,enroll,branch):\n",
    "        self.py=input(\"Enter Python Marks:\")\n",
    "        self.de=input(\"Enter DE Marks:\")  \n",
    "        self.fsd=input(\"Enter FSD Marks:\")\n",
    "        self.ps=input(\"Enter PS Marks:\")\n",
    "        self.enroll=input(\"Enter Your Enrollno.:\")\n",
    "        self.branch=input(\"Enter Your Branch:\")\n",
    "        \n",
    "        \n",
    "    def display(self):\n",
    "        print(\"Enter Python Marks: \",self.py)\n",
    "        print(\"Enter DE Marks:\",self.de)\n",
    "        print(\"Enter FSD Marks:\",self.fsd)\n",
    "        print(\"Enter PS Marks:\",self.ps)\n",
    "        "
   ]
  },
  {
   "cell_type": "code",
   "execution_count": 4,
   "metadata": {},
   "outputs": [],
   "source": [
    "class Myclass:\n",
    "    a = 5\n",
    "    def __init__(self,x):\n",
    "        self.x=x\n",
    "    def method1(self):\n",
    "        print(self.x)\n",
    "    @classmethod\n",
    "    def method2(cls):\n",
    "        print(cls.a)\n",
    "    @staticmethod\n",
    "    def method(m,n):\n",
    "        print(m+n)"
   ]
  },
  {
   "cell_type": "code",
   "execution_count": 5,
   "metadata": {},
   "outputs": [
    {
     "name": "stdout",
     "output_type": "stream",
     "text": [
      "10\n",
      "5\n",
      "10\n"
     ]
    }
   ],
   "source": [
    "f = Myclass(10)\n",
    "f.method1()\n",
    "f.method2()\n",
    "f.method(4,6)"
   ]
  },
  {
   "cell_type": "code",
   "execution_count": 9,
   "metadata": {},
   "outputs": [
    {
     "name": "stdout",
     "output_type": "stream",
     "text": [
      "Address Of self:  3134280251952\n",
      "Address of class object:  3134280251952\n",
      "10\n",
      "Address Of self:  3134287371472\n",
      "Address of class object:  3134287371472\n",
      "10\n"
     ]
    }
   ],
   "source": [
    "class check:\n",
    "    def __init__(self,m):\n",
    "        print(\"Address Of self: \",id(self))\n",
    "        self.m=m\n",
    "obj = check(10)\n",
    "print(\"Address of class object: \",id(obj))\n",
    "print(obj.m)\n",
    "obj1 = check(20)\n",
    "print(\"Address of class object: \",id(obj1))\n",
    "print(obj.m)\n"
   ]
  },
  {
   "cell_type": "code",
   "execution_count": 14,
   "metadata": {},
   "outputs": [
    {
     "name": "stdout",
     "output_type": "stream",
     "text": [
      "Self:  3134287193424\n",
      "80\n",
      "Object:  3134287193424\n"
     ]
    }
   ],
   "source": [
    "class test:\n",
    "    def __init__(self):\n",
    "        print(\"Self: \",id(self))\n",
    "        self.value=80\n",
    "        self.show()\n",
    "    def show(self):\n",
    "        print(self.value)\n",
    "a = test()\n",
    "print(\"Object: \",id(a))"
   ]
  },
  {
   "cell_type": "code",
   "execution_count": 15,
   "metadata": {},
   "outputs": [
    {
     "name": "stdout",
     "output_type": "stream",
     "text": [
      "Self:  3134279655136\n"
     ]
    },
    {
     "ename": "NameError",
     "evalue": "name 'show' is not defined",
     "output_type": "error",
     "traceback": [
      "\u001b[1;31m---------------------------------------------------------------------------\u001b[0m",
      "\u001b[1;31mNameError\u001b[0m                                 Traceback (most recent call last)",
      "\u001b[1;32m<ipython-input-15-39802837739e>\u001b[0m in \u001b[0;36m<module>\u001b[1;34m\u001b[0m\n\u001b[0;32m      6\u001b[0m     \u001b[1;32mdef\u001b[0m \u001b[0mshow\u001b[0m\u001b[1;33m(\u001b[0m\u001b[0mself\u001b[0m\u001b[1;33m)\u001b[0m\u001b[1;33m:\u001b[0m\u001b[1;33m\u001b[0m\u001b[1;33m\u001b[0m\u001b[0m\n\u001b[0;32m      7\u001b[0m         \u001b[0mprint\u001b[0m\u001b[1;33m(\u001b[0m\u001b[0mself\u001b[0m\u001b[1;33m.\u001b[0m\u001b[0mvalue\u001b[0m\u001b[1;33m)\u001b[0m\u001b[1;33m\u001b[0m\u001b[1;33m\u001b[0m\u001b[0m\n\u001b[1;32m----> 8\u001b[1;33m \u001b[0ma\u001b[0m \u001b[1;33m=\u001b[0m \u001b[0mtest\u001b[0m\u001b[1;33m(\u001b[0m\u001b[1;33m)\u001b[0m\u001b[1;33m\u001b[0m\u001b[1;33m\u001b[0m\u001b[0m\n\u001b[0m\u001b[0;32m      9\u001b[0m \u001b[0mprint\u001b[0m\u001b[1;33m(\u001b[0m\u001b[1;34m\"Object: \"\u001b[0m\u001b[1;33m,\u001b[0m\u001b[0mid\u001b[0m\u001b[1;33m(\u001b[0m\u001b[0ma\u001b[0m\u001b[1;33m)\u001b[0m\u001b[1;33m)\u001b[0m\u001b[1;33m\u001b[0m\u001b[1;33m\u001b[0m\u001b[0m\n",
      "\u001b[1;32m<ipython-input-15-39802837739e>\u001b[0m in \u001b[0;36m__init__\u001b[1;34m(self)\u001b[0m\n\u001b[0;32m      3\u001b[0m         \u001b[0mprint\u001b[0m\u001b[1;33m(\u001b[0m\u001b[1;34m\"Self: \"\u001b[0m\u001b[1;33m,\u001b[0m\u001b[0mid\u001b[0m\u001b[1;33m(\u001b[0m\u001b[0mself\u001b[0m\u001b[1;33m)\u001b[0m\u001b[1;33m)\u001b[0m\u001b[1;33m\u001b[0m\u001b[1;33m\u001b[0m\u001b[0m\n\u001b[0;32m      4\u001b[0m         \u001b[0mself\u001b[0m\u001b[1;33m.\u001b[0m\u001b[0mvalue\u001b[0m\u001b[1;33m=\u001b[0m\u001b[1;36m80\u001b[0m\u001b[1;33m\u001b[0m\u001b[1;33m\u001b[0m\u001b[0m\n\u001b[1;32m----> 5\u001b[1;33m         \u001b[0mshow\u001b[0m\u001b[1;33m(\u001b[0m\u001b[1;33m)\u001b[0m\u001b[1;33m\u001b[0m\u001b[1;33m\u001b[0m\u001b[0m\n\u001b[0m\u001b[0;32m      6\u001b[0m     \u001b[1;32mdef\u001b[0m \u001b[0mshow\u001b[0m\u001b[1;33m(\u001b[0m\u001b[0mself\u001b[0m\u001b[1;33m)\u001b[0m\u001b[1;33m:\u001b[0m\u001b[1;33m\u001b[0m\u001b[1;33m\u001b[0m\u001b[0m\n\u001b[0;32m      7\u001b[0m         \u001b[0mprint\u001b[0m\u001b[1;33m(\u001b[0m\u001b[0mself\u001b[0m\u001b[1;33m.\u001b[0m\u001b[0mvalue\u001b[0m\u001b[1;33m)\u001b[0m\u001b[1;33m\u001b[0m\u001b[1;33m\u001b[0m\u001b[0m\n",
      "\u001b[1;31mNameError\u001b[0m: name 'show' is not defined"
     ]
    }
   ],
   "source": [
    "class test:\n",
    "    def __init__(self):\n",
    "        print(\"Self: \",id(self))\n",
    "        self.value=80\n",
    "        show()\n",
    "    def show(self):\n",
    "        print(self.value)\n",
    "a = test()\n",
    "print(\"Object: \",id(a))"
   ]
  },
  {
   "cell_type": "code",
   "execution_count": 23,
   "metadata": {},
   "outputs": [
    {
     "name": "stdout",
     "output_type": "stream",
     "text": [
      "5 5 140709515175840 140709515175840\n",
      "10 5 140709515176000 140709515175840\n"
     ]
    }
   ],
   "source": [
    "class person:\n",
    "    rate = 5\n",
    "    def method1(self):\n",
    "        print(self.rate,account.rate,id(self.rate),id(account.rate))\n",
    "        self.rate=10\n",
    "        print(self.rate,account.rate,id(self.rate),id(account.rate))\n",
    "a1=account()\n",
    "a2=account()\n",
    "a1.method1()"
   ]
  },
  {
   "cell_type": "code",
   "execution_count": 26,
   "metadata": {},
   "outputs": [
    {
     "name": "stdout",
     "output_type": "stream",
     "text": [
      "30 30\n",
      "30 30\n",
      "Age is Same\n",
      "32 30\n",
      "32 30\n",
      "Age is Not same\n"
     ]
    }
   ],
   "source": [
    "class person:\n",
    "    def __init__(self):\n",
    "        self.name=\"Harry\"\n",
    "        self.age=30\n",
    "    def update(self):\n",
    "        self.age=32\n",
    "    def compare(self,sigma):\n",
    "        print(self.age,sigma.age)\n",
    "        if self.age==sigma.age:\n",
    "            print(\"Age is Same\")\n",
    "        else:\n",
    "            print(\"Age is Not same\")\n",
    "p1=person()        \n",
    "p2=person()        \n",
    "print(p1.age,p2.age)\n",
    "p1.compare(p2)\n",
    "p1.update()\n",
    "print(p1.age,p2.age)\n",
    "p1.compare(p2)\n"
   ]
  },
  {
   "cell_type": "markdown",
   "metadata": {},
   "source": [
    "# Car Task"
   ]
  },
  {
   "cell_type": "code",
   "execution_count": 1,
   "metadata": {},
   "outputs": [],
   "source": [
    "class car:\n",
    "    def __init__(self):\n",
    "        self.color=input(\"Enter Car color:\")\n",
    "        self.year=input(\"Enter Car Year: \")  \n",
    "        self.car=input(\"Enter Car Name \")\n",
    "                \n",
    "    \n",
    "    def __del__(self):\n",
    "        print(f\"{self.color} {self.car} from year {self.year} has been destroyed\")\n",
    "    \n",
    "    def display(self):\n",
    "        print(f\"Name: {self.car}\")\n",
    "        print(f\"Year: {self.year}\")\n",
    "        print(f\"Color: {self.color}\")\n",
    "        "
   ]
  },
  {
   "cell_type": "code",
   "execution_count": 3,
   "metadata": {},
   "outputs": [
    {
     "name": "stdout",
     "output_type": "stream",
     "text": [
      "Enter Car color:red\n",
      "Enter Car Year: 2002\n",
      "Enter Car Name Bugatti\n",
      "Id 1979479555136\n",
      "Name: Bugatti\n",
      "Year: 2002\n",
      "Color: red\n"
     ]
    }
   ],
   "source": [
    "c = car()\n",
    "print(\"Id\",id(c))\n",
    "c.display()\n"
   ]
  },
  {
   "cell_type": "code",
   "execution_count": 9,
   "metadata": {},
   "outputs": [
    {
     "name": "stdout",
     "output_type": "stream",
     "text": [
      "The book name is:  Hello and daemons\n",
      "The book name is:  Harry Potter\n"
     ]
    }
   ],
   "source": [
    "# label.py\n",
    "# Getter and Setter Methods\n",
    "\n",
    "class Library:\n",
    "    def __init__(self, id, name):\n",
    "        self.bookid = id\n",
    "        self.bookname = name\n",
    "        \n",
    "    def setbookname(self, newbookname):\n",
    "        self.bookname = newbookname\n",
    "\n",
    "    def getbookname(self):\n",
    "        print(\"The book name is: \",self.bookname)\n",
    "        \n",
    "book=Library(101,\"Hello and daemons\")\n",
    "book.getbookname()\n",
    "book.setbookname(\"Harry Potter\")\n",
    "book.getbookname()    "
   ]
  },
  {
   "cell_type": "code",
   "execution_count": 16,
   "metadata": {},
   "outputs": [
    {
     "name": "stdout",
     "output_type": "stream",
     "text": [
      "[0, 2, 4, 6, 8]\n"
     ]
    }
   ],
   "source": [
    "def simple():\n",
    "    for i in range(10):\n",
    "        if i%2==0:\n",
    "            yield i\n",
    "x = simple()\n",
    "print(list(x))\n",
    "for i in x:\n",
    "    print(x)"
   ]
  },
  {
   "cell_type": "code",
   "execution_count": 20,
   "metadata": {},
   "outputs": [
    {
     "name": "stdout",
     "output_type": "stream",
     "text": [
      "10\n"
     ]
    }
   ],
   "source": [
    "def fun():\n",
    "    return 10\n",
    "    return 20    \n",
    "    return 30\n",
    "    return 40\n",
    "\n",
    "x = fun()\n",
    "print(x)\n"
   ]
  },
  {
   "cell_type": "code",
   "execution_count": 23,
   "metadata": {},
   "outputs": [
    {
     "name": "stdout",
     "output_type": "stream",
     "text": [
      "<generator object fun at 0x000001CCE2ACF510>\n",
      "10\n",
      "20\n",
      "30\n",
      "40\n"
     ]
    }
   ],
   "source": [
    "def fun():\n",
    "    yield 10\n",
    "    yield 20    \n",
    "    yield 30\n",
    "    yield 40\n",
    "\n",
    "x = fun()\n",
    "print(x)  #if you want out so use list.\n",
    "for i in fun():\n",
    "    print(i)"
   ]
  },
  {
   "cell_type": "code",
   "execution_count": 24,
   "metadata": {},
   "outputs": [
    {
     "name": "stdout",
     "output_type": "stream",
     "text": [
      "(10, 20, 30, 40)\n"
     ]
    }
   ],
   "source": [
    "def fun():\n",
    "    return 10,20,30,40\n",
    "\n",
    "x = fun()\n",
    "print(x)\n"
   ]
  },
  {
   "cell_type": "code",
   "execution_count": 28,
   "metadata": {},
   "outputs": [
    {
     "name": "stdout",
     "output_type": "stream",
     "text": [
      "<generator object fun at 0x000001CCE2AF42E0>\n"
     ]
    }
   ],
   "source": [
    "def fun():\n",
    "    yield 10,20,30,40\n",
    "\n",
    "x = fun()\n",
    "print(x)\n"
   ]
  },
  {
   "cell_type": "code",
   "execution_count": 31,
   "metadata": {},
   "outputs": [
    {
     "name": "stdout",
     "output_type": "stream",
     "text": [
      "Hamburg\n",
      "UK\n",
      "US\n",
      "Germany\n",
      "Canada\n",
      "Brazile\n"
     ]
    }
   ],
   "source": [
    "def city_gen():\n",
    "    yield 'Hamburg'\n",
    "    yield 'UK'    \n",
    "    yield 'US'    \n",
    "    yield 'Germany'    \n",
    "    yield 'Canada'    \n",
    "    yield 'Brazile'    \n",
    "    \n",
    "city = city_gen()\n",
    "print(next(city))\n",
    "print(next(city))\n",
    "\n",
    "for i in city:\n",
    "    print(i)"
   ]
  },
  {
   "cell_type": "code",
   "execution_count": 38,
   "metadata": {},
   "outputs": [
    {
     "name": "stdout",
     "output_type": "stream",
     "text": [
      "[15, 30, 45, 60, 75, 90, 105, 120, 135, 150]\n"
     ]
    }
   ],
   "source": [
    "# table of the give num using genaratore\n",
    "def table(n):\n",
    "    for i in range(1,11):\n",
    "        yield i*n\n",
    "        \n",
    "m=table(15)\n",
    "print(list(m))\n",
    "    "
   ]
  },
  {
   "cell_type": "code",
   "execution_count": 4,
   "metadata": {},
   "outputs": [
    {
     "name": "stdout",
     "output_type": "stream",
     "text": [
      "Enter Roll Number: 1\n",
      "Enter Student Name: Man\n",
      "The Student Name is: Man\n",
      "The Student Roll Number is: 1\n",
      "The Student Branch is: CSE\n",
      "Enter marks subjects:\n",
      "PS: 99\n",
      "FSD: 99\n",
      "DE: 99\n",
      "PYTHON: 98\n",
      "The Average Marks of the Student is: 98.75\n"
     ]
    }
   ],
   "source": [
    "# display mark of student\n",
    "class student:\n",
    "    branch=\"CSE\"\n",
    "    def __init__(self, roll, name):\n",
    "        self.name = name\n",
    "        self.roll = roll\n",
    "        self.marks = []       \n",
    "        \n",
    "    def display(self):\n",
    "        print(\"The Student Name is:\", self.name)\n",
    "        print(\"The Student Roll is:\", self.roll)\n",
    "        print(\"The Student Mark is:\", self.branch)\n",
    "        \n",
    "        \n",
    "    def marks(self):\n",
    "        sub = [\"PS\",\"FSD\",'DE',\"PYTHON\"]\n",
    "        print(\"Enter make: \")\n",
    "        for i in sub:\n",
    "            mark = int(input(f\"{i}: \"))\n",
    "            self.marks.append(mark)\n",
    "\n",
    "    def cal_avg(self):\n",
    "        if len(self.marks) == 4: \n",
    "            avg = sum(self.marks) / 4\n",
    "            print(\"The Avg Marks of Student is:\", avg)\n",
    "        else:\n",
    "            print(\"Marks are not correctly.\")\n",
    "            \n",
    "roll_number = input(\"Enter Roll Number: \")\n",
    "name = input(\"Enter Student Name: \")\n",
    "\n",
    "student = Student(roll_number, name)\n",
    "\n",
    "student.display()\n",
    "\n",
    "student.input_marks()\n",
    "student.cal_avg()"
   ]
  },
  {
   "cell_type": "code",
   "execution_count": null,
   "metadata": {},
   "outputs": [],
   "source": []
  },
  {
   "cell_type": "code",
   "execution_count": null,
   "metadata": {},
   "outputs": [],
   "source": []
  }
 ],
 "metadata": {
  "kernelspec": {
   "display_name": "Python 3",
   "language": "python",
   "name": "python3"
  },
  "language_info": {
   "codemirror_mode": {
    "name": "ipython",
    "version": 3
   },
   "file_extension": ".py",
   "mimetype": "text/x-python",
   "name": "python",
   "nbconvert_exporter": "python",
   "pygments_lexer": "ipython3",
   "version": "3.8.5"
  }
 },
 "nbformat": 4,
 "nbformat_minor": 4
}
