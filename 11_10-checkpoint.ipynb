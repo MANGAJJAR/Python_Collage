{
 "cells": [
  {
   "cell_type": "markdown",
   "metadata": {},
   "source": [
    "# #Check the type of triangle"
   ]
  },
  {
   "cell_type": "code",
   "execution_count": 5,
   "metadata": {},
   "outputs": [
    {
     "name": "stdout",
     "output_type": "stream",
     "text": [
      "Enter a:1\n",
      "Enter b:2\n",
      "Enter c:3\n",
      "Scalene\n"
     ]
    }
   ],
   "source": [
    "a=int(input(\"Enter a:\"))\n",
    "b=int(input(\"Enter b:\"))\n",
    "c=int(input(\"Enter c:\"))\n",
    "\n",
    "if(a==b and b==c):\n",
    "    print('Equilateral')\n",
    "elif(a==b or b==c or c==a):\n",
    "    print('Isoceles')\n",
    "else:\n",
    "    print('Scalene')\n"
   ]
  },
  {
   "cell_type": "markdown",
   "metadata": {},
   "source": [
    "# Salary Count"
   ]
  },
  {
   "cell_type": "code",
   "execution_count": 1,
   "metadata": {},
   "outputs": [
    {
     "name": "stdout",
     "output_type": "stream",
     "text": [
      "Enter age:33\n",
      "Enter Works Days:2\n",
      "Enter gender M Or F:M\n",
      "1600\n"
     ]
    }
   ],
   "source": [
    "age=int(input(\"Enter age:\"))\n",
    "gender=input(\"Enter gender M Or F:\")\n",
    "works=int(input(\"Enter Works Days:\"))\n",
    "\n",
    "if (age>=18 and age<30):\n",
    "    if (gender=='M'):\n",
    "        result=works*700\n",
    "        print(result)\n",
    "    else:\n",
    "        result=works*750\n",
    "        print(result)\n",
    "                \n",
    "elif (age>=30 and age<=40):\n",
    "    if (gender=='M'):\n",
    "        result=works*800\n",
    "        print(result)\n",
    "    else:\n",
    "        result=works*850\n",
    "        print(result)\n",
    "else:\n",
    "    print('Nothing')"
   ]
  },
  {
   "cell_type": "markdown",
   "metadata": {},
   "source": [
    "# Sum of N Num"
   ]
  },
  {
   "cell_type": "code",
   "execution_count": 5,
   "metadata": {},
   "outputs": [
    {
     "name": "stdout",
     "output_type": "stream",
     "text": [
      "Enter num:5\n",
      "15\n"
     ]
    }
   ],
   "source": [
    "num=int(input(\"Enter num:\"))\n",
    "sum = 0\n",
    "for i in range(1,num+1):\n",
    "    sum = sum + i\n",
    "print(sum)"
   ]
  },
  {
   "cell_type": "code",
   "execution_count": 9,
   "metadata": {},
   "outputs": [
    {
     "name": "stdout",
     "output_type": "stream",
     "text": [
      "Enter num:10\n",
      "Enter Number 1:25\n",
      "Enter Number 2:42\n",
      "Enter Number 3:21\n",
      "Enter Number 4:26\n",
      "Enter Number 5:25\n",
      "Enter Number 6:27\n",
      "Enter Number 7:28\n",
      "Enter Number 8:29\n",
      "Enter Number 9:21\n",
      "Enter Number 10:23\n",
      "Total: 267\n",
      "Average: 26.7\n"
     ]
    }
   ],
   "source": [
    "num=int(input(\"Enter num:\"))\n",
    "sum = 0\n",
    "for i in range(1,num+1):\n",
    "    a=int(input(f\"Enter Number {i}:\"))\n",
    "    sum+=a\n",
    "print(\"Total:\",sum)\n",
    "print(\"Average:\",sum/num)"
   ]
  },
  {
   "cell_type": "code",
   "execution_count": 12,
   "metadata": {},
   "outputs": [
    {
     "name": "stdout",
     "output_type": "stream",
     "text": [
      "Enter num:5\n",
      "Enter Number 1:10\n",
      "Enter Number 2:-5\n",
      "Enter Number 3:21\n",
      "Enter Number 4:-54\n",
      "Enter Number 5:12\n",
      "Total Num of Even: 3\n",
      "Total Num of Odd: 2\n",
      "Total Sum of Odd: 16\n",
      "Total Sum of Even: -32\n"
     ]
    }
   ],
   "source": [
    "num=int(input(\"Enter num:\"))\n",
    "sumE = 0\n",
    "sumO = 0\n",
    "countE = 0\n",
    "countO = 0\n",
    "\n",
    "for i in range(1,num+1):\n",
    "    a=int(input(f\"Enter Number {i}:\"))\n",
    "    if (a%2 == 0):\n",
    "        countE+=1\n",
    "        sumE += a \n",
    "    else:\n",
    "        countO+=1\n",
    "        sumO += a \n",
    "        \n",
    "print(\"Total Num of Even:\",countE)\n",
    "print(\"Total Num of Odd:\",countO)\n",
    "print(\"Total Sum of Odd:\",sumO)\n",
    "print(\"Total Sum of Even:\",sumE)\n",
    "\n"
   ]
  },
  {
   "cell_type": "code",
   "execution_count": 17,
   "metadata": {},
   "outputs": [
    {
     "name": "stdout",
     "output_type": "stream",
     "text": [
      "Enter num:3\n",
      "Enter Number 1:-1\n",
      "Enter Number 2:-3\n",
      "Enter Number 3:5\n",
      "Total Sum of Positive: 5\n"
     ]
    }
   ],
   "source": [
    "num=int(input(\"Enter num:\"))\n",
    "sum=0\n",
    "\n",
    "for i in range(1,num+1):\n",
    "    a=int(input(f\"Enter Number {i}:\"))\n",
    "    if (a>=0):\n",
    "        sum+=a\n",
    "        \n",
    "print(\"Total Sum of Positive:\",sum)\n",
    "\n"
   ]
  },
  {
   "cell_type": "code",
   "execution_count": 19,
   "metadata": {},
   "outputs": [
    {
     "name": "stdout",
     "output_type": "stream",
     "text": [
      "Enter num:5\n",
      "5 * 1 = 5\n",
      "5 * 2 = 10\n",
      "5 * 3 = 15\n",
      "5 * 4 = 20\n",
      "5 * 5 = 25\n",
      "5 * 6 = 30\n",
      "5 * 7 = 35\n",
      "5 * 8 = 40\n",
      "5 * 9 = 45\n",
      "5 * 10 = 50\n"
     ]
    }
   ],
   "source": [
    "# Table\n",
    "num=int(input(\"Enter num:\"))\n",
    "sum = 0\n",
    "for i in range(1,11):\n",
    "    result = num * i\n",
    "    print(num, \"*\" , i , \"=\" , result)\n",
    "    \n",
    "\n"
   ]
  },
  {
   "cell_type": "code",
   "execution_count": 22,
   "metadata": {},
   "outputs": [
    {
     "name": "stdout",
     "output_type": "stream",
     "text": [
      "Enter Start num:1\n",
      "Enter End num:20\n",
      "Enter Division num:3\n",
      "3\n",
      "6\n",
      "9\n",
      "12\n",
      "15\n",
      "18\n",
      "Total: 6\n"
     ]
    }
   ],
   "source": [
    "# \n",
    "start=int(input(\"Enter Start num:\"))\n",
    "end=int(input(\"Enter End num:\"))\n",
    "div=int(input(\"Enter Division num:\"))\n",
    "count=0\n",
    "for i in range(start+1,end):\n",
    "    if i%div==0:\n",
    "        print(i)\n",
    "        count+=1\n",
    "print(\"Total:\",count) \n",
    "    "
   ]
  },
  {
   "cell_type": "code",
   "execution_count": 1,
   "metadata": {},
   "outputs": [
    {
     "name": "stdout",
     "output_type": "stream",
     "text": [
      "Enter num:-5\n",
      "Fatorial 1\n"
     ]
    }
   ],
   "source": [
    "# Find factorial of given Number\n",
    "num = int(input(\"Enter num:\"))\n",
    "f = 1 \n",
    "count = 0\n",
    "for i in range (2,num+1):\n",
    "    f*=i\n",
    "print(\"Fatorial\",f)"
   ]
  },
  {
   "cell_type": "code",
   "execution_count": 6,
   "metadata": {},
   "outputs": [
    {
     "name": "stdout",
     "output_type": "stream",
     "text": [
      "Enter num:123\n",
      "Reverse Num  321\n"
     ]
    }
   ],
   "source": [
    "# reverse num without using str\n",
    "num = int(input(\"Enter num:\"))\n",
    "rev_num = 0\n",
    "while num!=0:\n",
    "    digit = num % 10\n",
    "    rev_num = rev_num*10+digit\n",
    "    num= num//10\n",
    "print(\"Reverse Num \",rev_num)\n",
    "    "
   ]
  },
  {
   "cell_type": "code",
   "execution_count": 1,
   "metadata": {},
   "outputs": [
    {
     "name": "stdout",
     "output_type": "stream",
     "text": [
      "Enter num:12321\n",
      "Reverse Num  12321\n",
      "Palindrome\n"
     ]
    }
   ],
   "source": [
    "num = int(input(\"Enter num:\"))\n",
    "temp = num\n",
    "rev_num = 0\n",
    "while num!=0:\n",
    "    digit = num % 10\n",
    "    rev_num = rev_num*10+digit\n",
    "    num= num//10\n",
    "print(\"Reverse Num \",rev_num)\n",
    "\n",
    "if temp == rev_num:\n",
    "    print(\"Palindrome\")\n",
    "else:\n",
    "    print(\"Not Palindrome\")"
   ]
  },
  {
   "cell_type": "code",
   "execution_count": 2,
   "metadata": {},
   "outputs": [
    {
     "name": "stdout",
     "output_type": "stream",
     "text": [
      "Enter num:1456874\n",
      "35\n"
     ]
    }
   ],
   "source": [
    "# sum of digit\n",
    "num = int(input(\"Enter num:\"))\n",
    "sum=0\n",
    "while num!=0:\n",
    "    digit = num % 10\n",
    "    sum+=digit\n",
    "    num//=10\n",
    "print(sum)"
   ]
  },
  {
   "cell_type": "code",
   "execution_count": 4,
   "metadata": {},
   "outputs": [
    {
     "name": "stdout",
     "output_type": "stream",
     "text": [
      "Enter num:153\n",
      "Not Armstrong\n"
     ]
    }
   ],
   "source": [
    "# Check Armstrong Num\n",
    "num = int(input(\"Enter num:\"))\n",
    "sum=0\n",
    "while num!=0:\n",
    "    digit = num % 10\n",
    "    sum+=digit\n",
    "    digit = sum ** 3\n",
    "    num//=10\n",
    "    \n",
    "    \n",
    "if(num==result):\n",
    "    print('Armstrong')\n",
    "else:\n",
    "    print('Not Armstrong')\n"
   ]
  },
  {
   "cell_type": "code",
   "execution_count": 10,
   "metadata": {},
   "outputs": [
    {
     "name": "stdout",
     "output_type": "stream",
     "text": [
      "Enter num:1634\n",
      "Armstrong\n"
     ]
    }
   ],
   "source": [
    "n = int(input(\"Enter num:\"))\n",
    "l=0\n",
    "temp=n\n",
    "for i in str(n):\n",
    "    l+=1\n",
    "# print(l)\n",
    "\n",
    "sum=0\n",
    "while n!=0:\n",
    "    digit = n % 10\n",
    "    sum=sum+(digit**l)\n",
    "    n//=10\n",
    "    \n",
    "    \n",
    "if(temp==sum):\n",
    "    print('Armstrong')\n",
    "else:\n",
    "    print('Not Armstrong')\n"
   ]
  },
  {
   "cell_type": "code",
   "execution_count": null,
   "metadata": {},
   "outputs": [],
   "source": []
  }
 ],
 "metadata": {
  "kernelspec": {
   "display_name": "Python 3",
   "language": "python",
   "name": "python3"
  },
  "language_info": {
   "codemirror_mode": {
    "name": "ipython",
    "version": 3
   },
   "file_extension": ".py",
   "mimetype": "text/x-python",
   "name": "python",
   "nbconvert_exporter": "python",
   "pygments_lexer": "ipython3",
   "version": "3.8.5"
  }
 },
 "nbformat": 4,
 "nbformat_minor": 4
}
