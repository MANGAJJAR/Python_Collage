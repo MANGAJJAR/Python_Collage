{
 "cells": [
  {
   "cell_type": "markdown",
   "metadata": {},
   "source": [
    "# # Split() function."
   ]
  },
  {
   "cell_type": "code",
   "execution_count": 3,
   "metadata": {},
   "outputs": [
    {
     "name": "stdout",
     "output_type": "stream",
     "text": [
      "['Man', 'Gajjar']\n",
      "Man\n",
      "Gajjar\n"
     ]
    }
   ],
   "source": [
    "# split fun use space, dot or coma to split\n",
    "s = \"Man Gajjar\"\n",
    "l = s.split()\n",
    "print(l)\n",
    "for i in l:\n",
    "    print(i)"
   ]
  },
  {
   "cell_type": "code",
   "execution_count": 20,
   "metadata": {},
   "outputs": [
    {
     "name": "stdout",
     "output_type": "stream",
     "text": [
      "['8', '11', '2024']\n",
      "8\n",
      "11\n",
      "2024\n"
     ]
    }
   ],
   "source": [
    "s = \"8-11-2024\"\n",
    "l = s.split(\"-\")\n",
    "print(l)\n",
    "for i in l:\n",
    "    print(i)"
   ]
  },
  {
   "cell_type": "code",
   "execution_count": 22,
   "metadata": {},
   "outputs": [
    {
     "name": "stdout",
     "output_type": "stream",
     "text": [
      "['8', '11', '2024']\n",
      "8\n",
      "11\n",
      "2024\n"
     ]
    }
   ],
   "source": [
    "s = \"8.11.2024\"\n",
    "l = s.split(\".\")\n",
    "print(l)\n",
    "for i in l:\n",
    "    print(i)"
   ]
  },
  {
   "cell_type": "code",
   "execution_count": 30,
   "metadata": {},
   "outputs": [
    {
     "name": "stdout",
     "output_type": "stream",
     "text": [
      "['', '8-', '1-2', '24']\n"
     ]
    }
   ],
   "source": [
    "s = \"08-01-2024\"\n",
    "l = s.split(\"0\")\n",
    "print(l)\n"
   ]
  },
  {
   "cell_type": "code",
   "execution_count": 34,
   "metadata": {},
   "outputs": [
    {
     "name": "stdout",
     "output_type": "stream",
     "text": [
      "!\"#$%&'()*+,-./:;<=>?@[\\]^_`{|}~\n",
      "32\n"
     ]
    }
   ],
   "source": [
    "# punctuation \n",
    "import string\n",
    "print(string.punctuation)\n",
    "print(len(string.punctuation))"
   ]
  },
  {
   "cell_type": "code",
   "execution_count": 39,
   "metadata": {},
   "outputs": [
    {
     "name": "stdout",
     "output_type": "stream",
     "text": [
      "{97: 98, 33: None, 34: None, 35: None, 36: None, 37: None, 38: None, 39: None, 40: None, 41: None, 42: None, 43: None, 44: None, 45: None, 46: None, 47: None, 58: None, 59: None, 60: None, 61: None, 62: None, 63: None, 64: None, 91: None, 92: None, 93: None, 94: None, 95: None, 96: None, 123: None, 124: None, 125: None, 126: None}\n"
     ]
    }
   ],
   "source": [
    "import string\n",
    "print(str.maketrans(\"a\",\"b\",string.punctuation))"
   ]
  },
  {
   "cell_type": "code",
   "execution_count": 3,
   "metadata": {},
   "outputs": [
    {
     "name": "stdout",
     "output_type": "stream",
     "text": [
      "abfaffsgfg\n"
     ]
    }
   ],
   "source": [
    "import string\n",
    "t = \"ab$faf&#fsg@fg$$\"\n",
    "t = t.translate(str.maketrans(\"\",\"\",string.punctuation))\n",
    "print(t)"
   ]
  },
  {
   "cell_type": "code",
   "execution_count": 4,
   "metadata": {},
   "outputs": [
    {
     "name": "stdout",
     "output_type": "stream",
     "text": [
      "abfaf&fsg@fg\n"
     ]
    }
   ],
   "source": [
    "import string\n",
    "t = \"ab$faf&#fsg@fg$$\"\n",
    "t = t.translate(str.maketrans(\"\",\"\",\"$#\"))\n",
    "print(t)"
   ]
  },
  {
   "cell_type": "code",
   "execution_count": 6,
   "metadata": {},
   "outputs": [
    {
     "name": "stdout",
     "output_type": "stream",
     "text": [
      "ab$MaM&#Msg@Mg$$\n"
     ]
    }
   ],
   "source": [
    "import string\n",
    "t = \"ab$faf&#fsg@fg$$\"\n",
    "t = t.translate(str.maketrans(\"f\",\"M\"))\n",
    "print(t)"
   ]
  },
  {
   "cell_type": "code",
   "execution_count": 11,
   "metadata": {},
   "outputs": [
    {
     "name": "stdout",
     "output_type": "stream",
     "text": [
      "Hello Joe\n"
     ]
    }
   ],
   "source": [
    "import string\n",
    "s = \"Hello Sam!\"\n",
    "x = \"Sam\"\n",
    "y = \"Joe\"\n",
    "t =s.maketrans(x,y,\"!\")\n",
    "print(s.translate(t))"
   ]
  },
  {
   "cell_type": "markdown",
   "metadata": {},
   "source": [
    "# Tuple"
   ]
  },
  {
   "cell_type": "code",
   "execution_count": 15,
   "metadata": {},
   "outputs": [
    {
     "name": "stdout",
     "output_type": "stream",
     "text": [
      "<class 'int'>\n",
      "<class 'tuple'>\n"
     ]
    }
   ],
   "source": [
    "x = 10\n",
    "y= 10,1\n",
    "print(type(x))\n",
    "print(type(y))"
   ]
  },
  {
   "cell_type": "code",
   "execution_count": 18,
   "metadata": {},
   "outputs": [
    {
     "name": "stdout",
     "output_type": "stream",
     "text": [
      "(10, 11, 12, 13, 14, 15, 16, 17, 18, 19)\n",
      "(10, 12, 14, 16, 18)\n"
     ]
    }
   ],
   "source": [
    "t = 10,20,30,40\n",
    "t = tuple(range(10,20))\n",
    "print(t)\n",
    "a = 10,20,30,40\n",
    "a = tuple(range(10,20,2))\n",
    "print(a)"
   ]
  },
  {
   "cell_type": "code",
   "execution_count": 23,
   "metadata": {},
   "outputs": [
    {
     "name": "stdout",
     "output_type": "stream",
     "text": [
      "10\n",
      "70\n",
      "50\n",
      "(30, 40, 50)\n",
      "(30, 40, 50, 60, 70)\n",
      "(20, 40, 60)\n",
      "(70, 60, 50)\n"
     ]
    }
   ],
   "source": [
    "#Accessing Element\n",
    "t = 10,20,30,40,50,60,70\n",
    "print(t[0])\n",
    "print(t[-1])\n",
    "print(t[-3])\n",
    "# print(t[10]) # Error\n",
    "print(t[2:5])\n",
    "print(t[2:10])\n",
    "print(t[1::2])\n",
    "print(t[-1:-4:-1])"
   ]
  },
  {
   "cell_type": "markdown",
   "metadata": {},
   "source": [
    "# Mathemetical Operators"
   ]
  },
  {
   "cell_type": "code",
   "execution_count": 25,
   "metadata": {},
   "outputs": [
    {
     "name": "stdout",
     "output_type": "stream",
     "text": [
      "(10, 20, 30, 30, 40, 50)\n",
      "(10, 20, 30, 10, 20, 30, 10, 20, 30)\n"
     ]
    }
   ],
   "source": [
    "a = (10,20,30)\n",
    "b = (30,40,50)\n",
    "t = a + b\n",
    "print(t)\n",
    "c = a * 3\n",
    "print(c)"
   ]
  },
  {
   "cell_type": "code",
   "execution_count": 27,
   "metadata": {},
   "outputs": [
    {
     "name": "stdout",
     "output_type": "stream",
     "text": [
      "(10, 20, 30, 40, [60, 2, 3])\n"
     ]
    }
   ],
   "source": [
    "a = (10,20,30,40,[1,2,3])\n",
    "a[4][0] = 60\n",
    "print(a)"
   ]
  },
  {
   "cell_type": "code",
   "execution_count": 32,
   "metadata": {},
   "outputs": [
    {
     "name": "stdout",
     "output_type": "stream",
     "text": [
      "3\n",
      "2\n",
      "1\n"
     ]
    }
   ],
   "source": [
    "#count()\n",
    "a = 10,10,20,30,10,40,20,80,90\n",
    "print(a.count(10))\n",
    "print(a.count(20))\n",
    "print(a.count(30))"
   ]
  },
  {
   "cell_type": "code",
   "execution_count": 35,
   "metadata": {},
   "outputs": [
    {
     "name": "stdout",
     "output_type": "stream",
     "text": [
      "0\n",
      "4\n"
     ]
    }
   ],
   "source": [
    "#index()\n",
    "t = (10,20,10,10,30)\n",
    "print(t.index(10))\n",
    "print(t.index(30))\n",
    "# print(t.index(40)) #Error"
   ]
  },
  {
   "cell_type": "code",
   "execution_count": 36,
   "metadata": {},
   "outputs": [
    {
     "name": "stdout",
     "output_type": "stream",
     "text": [
      "[1, 2, 5, 6, 6, 9]\n"
     ]
    }
   ],
   "source": [
    "#sorted() bydefolr ans give in List\n",
    "t = (1,2,9,6,5,6)\n",
    "t1 = sorted(t)\n",
    "print(t1)"
   ]
  },
  {
   "cell_type": "code",
   "execution_count": 37,
   "metadata": {},
   "outputs": [
    {
     "name": "stdout",
     "output_type": "stream",
     "text": [
      "[9, 6, 6, 5, 2, 1]\n"
     ]
    }
   ],
   "source": [
    "t = (1,2,9,6,5,6)\n",
    "t1 = sorted(t,reverse=True)\n",
    "print(t1)"
   ]
  },
  {
   "cell_type": "code",
   "execution_count": 41,
   "metadata": {},
   "outputs": [
    {
     "name": "stdout",
     "output_type": "stream",
     "text": [
      "1\n",
      "8\n"
     ]
    }
   ],
   "source": [
    "#Min() , max()\n",
    "t = (7,3,8,1)\n",
    "print(min(t))\n",
    "print(max(t))\n"
   ]
  },
  {
   "cell_type": "code",
   "execution_count": 44,
   "metadata": {},
   "outputs": [
    {
     "name": "stdout",
     "output_type": "stream",
     "text": [
      "am\n",
      "uy\n"
     ]
    }
   ],
   "source": [
    "a = (\"am\",\"gf\",\"oi\",\"uy\")\n",
    "print(min(a))\n",
    "print(max(a))"
   ]
  },
  {
   "cell_type": "code",
   "execution_count": 45,
   "metadata": {},
   "outputs": [
    {
     "name": "stdout",
     "output_type": "stream",
     "text": [
      "(1, 2, 3, 4)\n"
     ]
    }
   ],
   "source": [
    "#Tuple Packing\n",
    "a = 1\n",
    "b = 2\n",
    "c = 3\n",
    "d = 4\n",
    "t = a,b,c,d\n",
    "print(t)"
   ]
  },
  {
   "cell_type": "code",
   "execution_count": 47,
   "metadata": {},
   "outputs": [
    {
     "name": "stdout",
     "output_type": "stream",
     "text": [
      "10 20 30 40\n"
     ]
    }
   ],
   "source": [
    "#Tuple Unpacking\n",
    "t = 10,20,30,40\n",
    "a,b,c,d=t\n",
    "print(a,b,c,d)\n"
   ]
  },
  {
   "cell_type": "code",
   "execution_count": 48,
   "metadata": {},
   "outputs": [
    {
     "name": "stdout",
     "output_type": "stream",
     "text": [
      "Apple\n",
      "banana\n",
      "Mango\n"
     ]
    }
   ],
   "source": [
    "#tuple using loop\n",
    "t = ('Apple','banana','Mango')\n",
    "for i in t:\n",
    "    print(i)"
   ]
  },
  {
   "cell_type": "code",
   "execution_count": 49,
   "metadata": {},
   "outputs": [
    {
     "name": "stdout",
     "output_type": "stream",
     "text": [
      "Apple\n",
      "banana\n",
      "Mango\n"
     ]
    }
   ],
   "source": [
    "t = ('Apple','banana','Mango')\n",
    "for i in range(len(t)):\n",
    "    print(t[i])"
   ]
  },
  {
   "cell_type": "code",
   "execution_count": 51,
   "metadata": {},
   "outputs": [
    {
     "name": "stdout",
     "output_type": "stream",
     "text": [
      "Apple\n",
      "banana\n",
      "Mango\n"
     ]
    }
   ],
   "source": [
    "t = ('Apple','banana','Mango')\n",
    "i = 0\n",
    "while(i<len(t)):\n",
    "    print(t[i])\n",
    "    i+=1"
   ]
  },
  {
   "cell_type": "code",
   "execution_count": 63,
   "metadata": {},
   "outputs": [
    {
     "name": "stdout",
     "output_type": "stream",
     "text": [
      "['n', 'o', 'h', 't', 'y', 'P']\n"
     ]
    }
   ],
   "source": [
    "s = 'Python'\n",
    "print(list(reversed(s)))"
   ]
  },
  {
   "cell_type": "code",
   "execution_count": 65,
   "metadata": {},
   "outputs": [
    {
     "name": "stdout",
     "output_type": "stream",
     "text": [
      "[8, 7, 6, 5]\n"
     ]
    }
   ],
   "source": [
    "a = range(5,9)\n",
    "print(list(reversed(a)))"
   ]
  },
  {
   "cell_type": "code",
   "execution_count": 72,
   "metadata": {},
   "outputs": [
    {
     "name": "stdout",
     "output_type": "stream",
     "text": [
      "[(0, 'x'), (1, 'y'), (2, 'z')]\n",
      "[(5, 'x'), (6, 'y'), (7, 'z')]\n"
     ]
    }
   ],
   "source": [
    "#enumerate()\n",
    "\n",
    "a = \"xyz\"\n",
    "s = enumerate(a)\n",
    "# print(s)\n",
    "print(list(s))\n",
    "\n",
    "a = \"xyz\"\n",
    "s = enumerate(a,5)\n",
    "# print(s)\n",
    "print(list(s))"
   ]
  },
  {
   "cell_type": "code",
   "execution_count": 76,
   "metadata": {},
   "outputs": [
    {
     "name": "stdout",
     "output_type": "stream",
     "text": [
      "(0, 'eat')\n",
      "(1, 'sleep')\n",
      "(2, 'walk')\n",
      "5 eat\n",
      "6 sleep\n",
      "7 walk\n"
     ]
    }
   ],
   "source": [
    "a = ['eat','sleep','walk']\n",
    "for ele in enumerate(a):\n",
    "    print(ele)\n",
    "for count,ele in enumerate(a,5):\n",
    "    print(count,ele)"
   ]
  },
  {
   "cell_type": "code",
   "execution_count": 77,
   "metadata": {
    "scrolled": true
   },
   "outputs": [
    {
     "name": "stdout",
     "output_type": "stream",
     "text": [
      "0 -> H\n",
      "1 -> e\n",
      "2 -> l\n",
      "3 -> l\n",
      "4 -> o\n",
      "5 ->  \n",
      "6 -> H\n",
      "7 -> o\n",
      "8 -> w\n",
      "9 ->  \n",
      "10 -> a\n",
      "11 -> r\n",
      "12 -> e\n",
      "13 ->  \n",
      "14 -> y\n",
      "15 -> o\n",
      "16 -> u\n"
     ]
    }
   ],
   "source": [
    "# enumerate()\n",
    "a = \"Hello How are you\"\n",
    "for i,j in enumerate(a):\n",
    "    print(i,\"->\",j)"
   ]
  },
  {
   "cell_type": "code",
   "execution_count": 79,
   "metadata": {},
   "outputs": [
    {
     "name": "stdout",
     "output_type": "stream",
     "text": [
      "Enter Name: Man Gajjar\n",
      "Enter char you removea\n"
     ]
    },
    {
     "ename": "AttributeError",
     "evalue": "'tuple' object has no attribute 'translate'",
     "output_type": "error",
     "traceback": [
      "\u001b[1;31m---------------------------------------------------------------------------\u001b[0m",
      "\u001b[1;31mAttributeError\u001b[0m                            Traceback (most recent call last)",
      "\u001b[1;32m<ipython-input-79-0144931e32ee>\u001b[0m in \u001b[0;36m<module>\u001b[1;34m\u001b[0m\n\u001b[0;32m      5\u001b[0m \u001b[0mb\u001b[0m \u001b[1;33m=\u001b[0m \u001b[0minput\u001b[0m\u001b[1;33m(\u001b[0m\u001b[1;34m'Enter char you remove'\u001b[0m\u001b[1;33m)\u001b[0m\u001b[1;33m\u001b[0m\u001b[1;33m\u001b[0m\u001b[0m\n\u001b[0;32m      6\u001b[0m \u001b[1;32mfor\u001b[0m \u001b[0mi\u001b[0m \u001b[1;32min\u001b[0m \u001b[0ma\u001b[0m\u001b[1;33m:\u001b[0m\u001b[1;33m\u001b[0m\u001b[1;33m\u001b[0m\u001b[0m\n\u001b[1;32m----> 7\u001b[1;33m     \u001b[0mt\u001b[0m \u001b[1;33m=\u001b[0m \u001b[0mt\u001b[0m\u001b[1;33m.\u001b[0m\u001b[0mtranslate\u001b[0m\u001b[1;33m(\u001b[0m\u001b[0mstr\u001b[0m\u001b[1;33m.\u001b[0m\u001b[0mmaketrans\u001b[0m\u001b[1;33m(\u001b[0m\u001b[1;34m\"\"\u001b[0m\u001b[1;33m,\u001b[0m\u001b[1;34m\"\"\u001b[0m\u001b[1;33m,\u001b[0m\u001b[0mb\u001b[0m\u001b[1;33m)\u001b[0m\u001b[1;33m)\u001b[0m\u001b[1;33m\u001b[0m\u001b[1;33m\u001b[0m\u001b[0m\n\u001b[0m\u001b[0;32m      8\u001b[0m     \u001b[0mprint\u001b[0m\u001b[1;33m(\u001b[0m\u001b[0mt\u001b[0m\u001b[1;33m)\u001b[0m\u001b[1;33m\u001b[0m\u001b[1;33m\u001b[0m\u001b[0m\n\u001b[0;32m      9\u001b[0m \u001b[1;33m\u001b[0m\u001b[0m\n",
      "\u001b[1;31mAttributeError\u001b[0m: 'tuple' object has no attribute 'translate'"
     ]
    }
   ],
   "source": [
    "# write a program to remove ith char form string in py\n",
    "import string\n",
    "\n",
    "a = input(\"Enter Name: \")\n",
    "b = input('Enter char you remove: ')\n",
    "for i in a:\n",
    "    t = t.translate(str.maketrans(\"\",\"\",b))\n",
    "    print(t)\n",
    "    "
   ]
  },
  {
   "cell_type": "code",
   "execution_count": null,
   "metadata": {},
   "outputs": [],
   "source": []
  },
  {
   "cell_type": "code",
   "execution_count": null,
   "metadata": {},
   "outputs": [],
   "source": []
  }
 ],
 "metadata": {
  "kernelspec": {
   "display_name": "Python 3",
   "language": "python",
   "name": "python3"
  },
  "language_info": {
   "codemirror_mode": {
    "name": "ipython",
    "version": 3
   },
   "file_extension": ".py",
   "mimetype": "text/x-python",
   "name": "python",
   "nbconvert_exporter": "python",
   "pygments_lexer": "ipython3",
   "version": "3.8.5"
  }
 },
 "nbformat": 4,
 "nbformat_minor": 4
}
