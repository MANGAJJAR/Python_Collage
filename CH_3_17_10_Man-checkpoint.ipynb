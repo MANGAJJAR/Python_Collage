{
 "cells": [
  {
   "cell_type": "code",
   "execution_count": 4,
   "metadata": {},
   "outputs": [
    {
     "name": "stdout",
     "output_type": "stream",
     "text": [
      "Hello Man Good Morning :)\n",
      "Hello   Good Morning :)\n"
     ]
    }
   ],
   "source": [
    "def wish(name):\n",
    "    print('Hello',name,'Good Morning :)')\n",
    "    \n",
    "wish('Man')\n",
    "wish(' ')\n",
    "\n",
    "# wish() Error"
   ]
  },
  {
   "cell_type": "markdown",
   "metadata": {},
   "source": [
    "# Fun. with no Parameter"
   ]
  },
  {
   "cell_type": "code",
   "execution_count": 9,
   "metadata": {},
   "outputs": [
    {
     "name": "stdout",
     "output_type": "stream",
     "text": [
      "Enter name: Man\n",
      "Man\n"
     ]
    }
   ],
   "source": [
    "def hello():\n",
    "    s = input('Enter name: ')\n",
    "    print(s)\n",
    "hello()"
   ]
  },
  {
   "cell_type": "markdown",
   "metadata": {},
   "source": [
    "# Fun. with parameter"
   ]
  },
  {
   "cell_type": "code",
   "execution_count": 12,
   "metadata": {},
   "outputs": [
    {
     "name": "stdout",
     "output_type": "stream",
     "text": [
      "Enter name: MAN\n",
      "MAN\n"
     ]
    }
   ],
   "source": [
    "def hello(s):\n",
    "    print(s)\n",
    "s = input('Enter name: ')\n",
    "hello(s)"
   ]
  },
  {
   "cell_type": "markdown",
   "metadata": {},
   "source": [
    "# Fun. with Parameter and With return type"
   ]
  },
  {
   "cell_type": "code",
   "execution_count": null,
   "metadata": {},
   "outputs": [],
   "source": [
    "def printline(s):\n",
    "    return s\n",
    "x = input('Enter name: ')\n",
    "t = printline(x)\n",
    "print(t)"
   ]
  },
  {
   "cell_type": "markdown",
   "metadata": {},
   "source": [
    "# # Fun. with no Parameter and With return type"
   ]
  },
  {
   "cell_type": "code",
   "execution_count": null,
   "metadata": {},
   "outputs": [],
   "source": []
  },
  {
   "cell_type": "code",
   "execution_count": 15,
   "metadata": {},
   "outputs": [
    {
     "name": "stdout",
     "output_type": "stream",
     "text": [
      "Enter Num 1: 2\n",
      "Enter Num 2: 3\n",
      "Sum of Two Num is  5\n"
     ]
    }
   ],
   "source": [
    "# sum of two num \n",
    "a = int(input('Enter Num 1: '))\n",
    "b = int(input('Enter Num 2: '))\n",
    "\n",
    "def sum(a,b):\n",
    "    return a+b\n",
    "t = sum(a,b)\n",
    "print('Sum of Two Num is ',t)"
   ]
  },
  {
   "cell_type": "markdown",
   "metadata": {},
   "source": [
    "# Print odd Num using fun"
   ]
  },
  {
   "cell_type": "code",
   "execution_count": 3,
   "metadata": {},
   "outputs": [
    {
     "name": "stdout",
     "output_type": "stream",
     "text": [
      "Enter end Num: 35\n",
      "1 3 5 7 9 11 13 15 17 19 21 23 25 27 29 31 33 35 "
     ]
    }
   ],
   "source": [
    "n = int(input('Enter end Num: '))\n",
    "\n",
    "def odd(n):\n",
    "    for i in range (1,n+1):\n",
    "        if i%2!=0:\n",
    "            print(i, end=' ')\n",
    "odd(n)"
   ]
  },
  {
   "cell_type": "markdown",
   "metadata": {},
   "source": [
    "# Calculater Using Fun."
   ]
  },
  {
   "cell_type": "code",
   "execution_count": 8,
   "metadata": {},
   "outputs": [
    {
     "name": "stdout",
     "output_type": "stream",
     "text": [
      "(30, -10, 200, 0.5)\n",
      "<class 'tuple'>\n"
     ]
    }
   ],
   "source": [
    "def cal(a,b):\n",
    "    add = a + b\n",
    "    sub = a - b    \n",
    "    mul = a * b    \n",
    "    div = a / b    \n",
    "    return add,sub,mul,div\n",
    "a = cal(10,20)\n",
    "print(a)\n",
    "print(type(a))\n"
   ]
  },
  {
   "cell_type": "markdown",
   "metadata": {},
   "source": []
  },
  {
   "cell_type": "code",
   "execution_count": 9,
   "metadata": {},
   "outputs": [
    {
     "data": {
      "text/plain": [
       "3.0"
      ]
     },
     "execution_count": 9,
     "metadata": {},
     "output_type": "execute_result"
    }
   ],
   "source": [
    "import math\n",
    "math.sqrt(9)"
   ]
  },
  {
   "cell_type": "code",
   "execution_count": 11,
   "metadata": {},
   "outputs": [
    {
     "name": "stdout",
     "output_type": "stream",
     "text": [
      "Return the square root of x.\n"
     ]
    }
   ],
   "source": [
    "from math import *\n",
    "print(sqrt.__doc__)"
   ]
  },
  {
   "cell_type": "code",
   "execution_count": 12,
   "metadata": {},
   "outputs": [
    {
     "data": {
      "text/plain": [
       "25.0"
      ]
     },
     "execution_count": 12,
     "metadata": {},
     "output_type": "execute_result"
    }
   ],
   "source": [
    "pow(5,2)"
   ]
  },
  {
   "cell_type": "code",
   "execution_count": 13,
   "metadata": {},
   "outputs": [
    {
     "name": "stdout",
     "output_type": "stream",
     "text": [
      "Return x**y (x to the power of y).\n"
     ]
    }
   ],
   "source": [
    "print(pow.__doc__)"
   ]
  },
  {
   "cell_type": "markdown",
   "metadata": {},
   "source": [
    "# DocString"
   ]
  },
  {
   "cell_type": "code",
   "execution_count": 2,
   "metadata": {},
   "outputs": [
    {
     "name": "stdout",
     "output_type": "stream",
     "text": [
      "5\n"
     ]
    }
   ],
   "source": [
    "def square(x):\n",
    "    \"\"\"Argument Passed into x return \"\"\"\n",
    "print(2+3)"
   ]
  },
  {
   "cell_type": "markdown",
   "metadata": {},
   "source": [
    "# Positional Argument"
   ]
  },
  {
   "cell_type": "code",
   "execution_count": 3,
   "metadata": {},
   "outputs": [
    {
     "name": "stdout",
     "output_type": "stream",
     "text": [
      "-100\n",
      "100\n"
     ]
    }
   ],
   "source": [
    "def sub(a,b):\n",
    "    print(a-b)\n",
    "sub(100,200)\n",
    "sub(200,100)\n"
   ]
  },
  {
   "cell_type": "code",
   "execution_count": 6,
   "metadata": {},
   "outputs": [
    {
     "name": "stdout",
     "output_type": "stream",
     "text": [
      "Hello Man Good Morning\n",
      "Hello Man Good Morning\n"
     ]
    }
   ],
   "source": [
    "def sub(name,msg):\n",
    "    print(\"Hello\",name,msg)\n",
    "sub(name=\"Man\",msg=\"Good Morning\")\n",
    "sub(msg=\"Good Morning\",name=\"Man\")"
   ]
  },
  {
   "cell_type": "markdown",
   "metadata": {},
   "source": [
    "# Type Of Argument"
   ]
  },
  {
   "cell_type": "code",
   "execution_count": 4,
   "metadata": {},
   "outputs": [
    {
     "name": "stdout",
     "output_type": "stream",
     "text": [
      "Hello Man Good Morning\n",
      "Hello Man Good Morning\n"
     ]
    }
   ],
   "source": [
    "def sub(name,msg):\n",
    "    print(\"Hello\",name,msg)\n",
    "sub(\"Man\",msg=\"Good Morning\")\n",
    "sub(\"Man\",\"Good Morning\")\n",
    "# sub(name=\"Man\",\"Good Morning\") #Invaild\n"
   ]
  },
  {
   "cell_type": "markdown",
   "metadata": {},
   "source": [
    "# Defualt Argument"
   ]
  },
  {
   "cell_type": "code",
   "execution_count": 9,
   "metadata": {},
   "outputs": [
    {
     "name": "stdout",
     "output_type": "stream",
     "text": [
      "Hello Man Good Morning\n",
      "Hello Guest Good Morning\n"
     ]
    }
   ],
   "source": [
    "def wish(name=\"Guest\"):\n",
    "    print('Hello',name,'Good Morning')\n",
    "wish('Man')\n",
    "wish() #If you not give name so use Defualt Argument"
   ]
  },
  {
   "cell_type": "markdown",
   "metadata": {},
   "source": [
    "# Variable Length Argument"
   ]
  },
  {
   "cell_type": "code",
   "execution_count": 11,
   "metadata": {},
   "outputs": [
    {
     "name": "stdout",
     "output_type": "stream",
     "text": [
      "The Sum = 30\n",
      "The Sum = 100\n",
      "The Sum = 0\n"
     ]
    }
   ],
   "source": [
    "def sum(*n):\n",
    "    total = 0\n",
    "    for n1 in n:\n",
    "        total +=n1\n",
    "    print('The Sum =',total)\n",
    "sum(10,20)\n",
    "sum(10,20,30,40)\n",
    "sum()"
   ]
  },
  {
   "cell_type": "code",
   "execution_count": 1,
   "metadata": {},
   "outputs": [
    {
     "name": "stdout",
     "output_type": "stream",
     "text": [
      "10\n",
      "10\n",
      "20\n",
      "30\n",
      "40\n",
      "50\n"
     ]
    }
   ],
   "source": [
    "def f1(n1, *s):\n",
    "    print(n1)\n",
    "    for s1 in s:\n",
    "        print(s1)\n",
    "f1(10)\n",
    "f1(10,20,30,40,50)"
   ]
  },
  {
   "cell_type": "markdown",
   "metadata": {},
   "source": [
    "# keyword variable"
   ]
  },
  {
   "cell_type": "code",
   "execution_count": 10,
   "metadata": {},
   "outputs": [
    {
     "name": "stdout",
     "output_type": "stream",
     "text": [
      "{'m1': 200, 'm2': 300, 'm3': 400}\n",
      "m1 200\n",
      "m2 300\n",
      "m3 400\n"
     ]
    }
   ],
   "source": [
    "def display(**kwarge):\n",
    "    print(kwarge)\n",
    "    for k,v in kwarge.items():\n",
    "        print(k,v)\n",
    "display(m1=200,m2=300,m3=400)"
   ]
  },
  {
   "cell_type": "code",
   "execution_count": 12,
   "metadata": {},
   "outputs": [
    {
     "name": "stdout",
     "output_type": "stream",
     "text": [
      "Enter Num 1: 2\n",
      "Enter Num 2: 3\n",
      "[+]Addition\n",
      "[-]Subtration\n",
      "[*]Multiplication\n",
      "[/]Division\n",
      "[%]Modual\n",
      "[//]FlowDivision\n",
      "+\n",
      "5\n"
     ]
    }
   ],
   "source": [
    "# Cal make using Fun\n",
    "a = int(input('Enter Num 1: '))\n",
    "b = int(input('Enter Num 2: '))\n",
    "c = input('[+]Addition\\n[-]Subtration\\n[*]Multiplication\\n[/]Division\\n[%]Modual\\n[//]FlowDivision\\n')\n",
    "def cal(a,b,c):\n",
    "    if c=='+':\n",
    "        add = a + b\n",
    "        print('The Ans is',add)\n",
    "    elif c=='-':\n",
    "        sub = a - b\n",
    "        print('The Ans is',sub)\n",
    "    elif c=='*':\n",
    "        mul = a * b\n",
    "        print('The Ans is',mul)\n",
    "    elif c=='/':\n",
    "        div = a / b\n",
    "        print('The Ans is',div)\n",
    "    elif c=='%':\n",
    "        mol = a % b\n",
    "        print('The Ans is',mol)\n",
    "    elif c=='//':\n",
    "        flo = a // b\n",
    "        print('The Ans is',flo)\n",
    "    else:\n",
    "        print('Wroge')\n",
    "cal(a,b,c)"
   ]
  },
  {
   "cell_type": "code",
   "execution_count": 19,
   "metadata": {},
   "outputs": [
    {
     "name": "stdout",
     "output_type": "stream",
     "text": [
      "Enter Num Start Range: 10\n",
      "Enter Num End Range: 20\n",
      "Enter a Num for check Num in Range or Not: 15\n",
      "Yes\n"
     ]
    }
   ],
   "source": [
    "# check num in rage or not\n",
    "start = int(input('Enter Num Start Range: '))\n",
    "end = int(input('Enter Num End Range: '))\n",
    "check = int(input('Enter a Num for check Num in Range or Not: '))\n",
    "\n",
    "def cal(a,b,c):\n",
    "    if(a<c<b):\n",
    "        print(\"Yes\")\n",
    "    else:\n",
    "        print(\"No\")\n",
    "cal(start,end,check)"
   ]
  },
  {
   "cell_type": "code",
   "execution_count": null,
   "metadata": {},
   "outputs": [],
   "source": []
  }
 ],
 "metadata": {
  "kernelspec": {
   "display_name": "Python 3",
   "language": "python",
   "name": "python3"
  },
  "language_info": {
   "codemirror_mode": {
    "name": "ipython",
    "version": 3
   },
   "file_extension": ".py",
   "mimetype": "text/x-python",
   "name": "python",
   "nbconvert_exporter": "python",
   "pygments_lexer": "ipython3",
   "version": "3.8.5"
  }
 },
 "nbformat": 4,
 "nbformat_minor": 4
}
