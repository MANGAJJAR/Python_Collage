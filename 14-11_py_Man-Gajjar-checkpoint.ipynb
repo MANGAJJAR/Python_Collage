{
 "cells": [
  {
   "cell_type": "markdown",
   "metadata": {},
   "source": [
    "# password valid"
   ]
  },
  {
   "cell_type": "code",
   "execution_count": 11,
   "metadata": {},
   "outputs": [
    {
     "ename": "SyntaxError",
     "evalue": "invalid syntax (<ipython-input-11-681b99fb0a3f>, line 11)",
     "output_type": "error",
     "traceback": [
      "\u001b[1;36m  File \u001b[1;32m\"<ipython-input-11-681b99fb0a3f>\"\u001b[1;36m, line \u001b[1;32m11\u001b[0m\n\u001b[1;33m    if i==\"@\" or i==\"$\" or i==\"_\"\u001b[0m\n\u001b[1;37m                                 ^\u001b[0m\n\u001b[1;31mSyntaxError\u001b[0m\u001b[1;31m:\u001b[0m invalid syntax\n"
     ]
    }
   ],
   "source": [
    "a = input(\"Enter Your Password: \")\n",
    "l,u,s,d=0,0,0,\n",
    "if(len(a)>=8):\n",
    "    for i in a:\n",
    "        if i.isupper():\n",
    "            u+=1\n",
    "        if i.islower():\n",
    "            l+=1\n",
    "        if i.isdigit():\n",
    "            d+=1\n",
    "        if i==\"@\" or i==\"$\" or i==\"_\"\n",
    "            s+=1\n",
    "            \n",
    "    if(l>=1 and u>=1 and s>=1 and p>=1):\n",
    "        print(\"Password is Valid\")\n",
    "    else:\n",
    "        print(\"Password is not valid\")\n",
    "else:\n",
    "    print(\"Password is not valid\")\n",
    "    \n",
    "        \n",
    "            \n",
    "           "
   ]
  },
  {
   "cell_type": "code",
   "execution_count": null,
   "metadata": {},
   "outputs": [],
   "source": []
  }
 ],
 "metadata": {
  "kernelspec": {
   "display_name": "Python 3",
   "language": "python",
   "name": "python3"
  },
  "language_info": {
   "codemirror_mode": {
    "name": "ipython",
    "version": 3
   },
   "file_extension": ".py",
   "mimetype": "text/x-python",
   "name": "python",
   "nbconvert_exporter": "python",
   "pygments_lexer": "ipython3",
   "version": "3.8.5"
  }
 },
 "nbformat": 4,
 "nbformat_minor": 4
}
