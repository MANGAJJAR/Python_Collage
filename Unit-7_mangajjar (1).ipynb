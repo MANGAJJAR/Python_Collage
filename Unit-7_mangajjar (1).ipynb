{
 "cells": [
  {
   "cell_type": "code",
   "execution_count": 7,
   "metadata": {},
   "outputs": [
    {
     "name": "stdout",
     "output_type": "stream",
     "text": [
      "Overwriting demo.txt\n"
     ]
    }
   ],
   "source": [
    "%%writefile demo.txt\n",
    "Hello \n",
    "hi hey\n",
    "oh"
   ]
  },
  {
   "cell_type": "code",
   "execution_count": 15,
   "metadata": {},
   "outputs": [
    {
     "name": "stdout",
     "output_type": "stream",
     "text": [
      "Writing mymodule.py\n"
     ]
    }
   ],
   "source": [
    "%%writefile mymodule.py\n",
    "def sum(a,b):\n",
    "    print(a+b)\n",
    "    \n",
    "def sub(a,b):\n",
    "    print(a-b)\n",
    "    \n",
    "def mul(a,b):\n",
    "    print(a*b)\n",
    "    \n",
    "def div(a,b):\n",
    "    print(a/b)\n",
    "    \n",
    "def power(a,b):\n",
    "    print(a**b)\n",
    "    \n",
    "def floor(a,b):\n",
    "    print(a//b)"
   ]
  },
  {
   "cell_type": "code",
   "execution_count": 13,
   "metadata": {},
   "outputs": [
    {
     "name": "stdout",
     "output_type": "stream",
     "text": [
      "3.141592653589793\n"
     ]
    }
   ],
   "source": [
    "import math\n",
    "dir(math)\n",
    "print(math.pi)"
   ]
  },
  {
   "cell_type": "code",
   "execution_count": 16,
   "metadata": {},
   "outputs": [
    {
     "data": {
      "text/plain": [
       "['__builtins__',\n",
       " '__cached__',\n",
       " '__doc__',\n",
       " '__file__',\n",
       " '__loader__',\n",
       " '__name__',\n",
       " '__package__',\n",
       " '__spec__',\n",
       " 'div',\n",
       " 'floor',\n",
       " 'mul',\n",
       " 'power',\n",
       " 'sub',\n",
       " 'sum']"
      ]
     },
     "execution_count": 16,
     "metadata": {},
     "output_type": "execute_result"
    }
   ],
   "source": [
    "import mymodule\n",
    "dir(mymodule)"
   ]
  },
  {
   "cell_type": "code",
   "execution_count": 17,
   "metadata": {},
   "outputs": [
    {
     "name": "stdout",
     "output_type": "stream",
     "text": [
      "30\n",
      "-10\n"
     ]
    }
   ],
   "source": [
    "import mymodule as m\n",
    "dir(mymodule)\n",
    "m.sum(10,20)\n",
    "m.sub(10,20)\n"
   ]
  },
  {
   "cell_type": "code",
   "execution_count": 21,
   "metadata": {},
   "outputs": [
    {
     "name": "stdout",
     "output_type": "stream",
     "text": [
      "30\n",
      "-10\n"
     ]
    }
   ],
   "source": [
    "from mymodule import sum,sub\n",
    "sum(10,20)\n",
    "sub(10,20)\n",
    "# mul(30,2) #error\n"
   ]
  },
  {
   "cell_type": "code",
   "execution_count": 22,
   "metadata": {},
   "outputs": [
    {
     "name": "stdout",
     "output_type": "stream",
     "text": [
      "30\n",
      "-10\n",
      "60\n"
     ]
    }
   ],
   "source": [
    "from mymodule import *\n",
    "sum(10,20)\n",
    "sub(10,20)\n",
    "mul(30,2)\n"
   ]
  },
  {
   "cell_type": "code",
   "execution_count": 23,
   "metadata": {},
   "outputs": [
    {
     "data": {
      "text/plain": [
       "'C:\\\\Users\\\\LJENG'"
      ]
     },
     "execution_count": 23,
     "metadata": {},
     "output_type": "execute_result"
    }
   ],
   "source": [
    "pwd"
   ]
  },
  {
   "cell_type": "code",
   "execution_count": 2,
   "metadata": {},
   "outputs": [],
   "source": [
    "import os\n",
    "os.mkdir(\"D:\\\\Python-CSE-25\")"
   ]
  },
  {
   "cell_type": "code",
   "execution_count": 3,
   "metadata": {},
   "outputs": [
    {
     "data": {
      "text/plain": [
       "['.ipynb_checkpoints',\n",
       " '.ipython',\n",
       " '.jupyter',\n",
       " '.vscode',\n",
       " '23002171210100_Abhi.ipynb',\n",
       " '3D Objects',\n",
       " 'abc.txt',\n",
       " 'abcd.txt',\n",
       " 'AppData',\n",
       " 'Application Data',\n",
       " 'char-1',\n",
       " 'char-2',\n",
       " 'Contacts',\n",
       " 'Cookies',\n",
       " 'data.txt',\n",
       " 'days.txt',\n",
       " 'demo-10',\n",
       " 'demo-101',\n",
       " 'demo-1011',\n",
       " 'demo-reverse',\n",
       " 'demo-swap',\n",
       " 'demo.txt',\n",
       " 'Desktop',\n",
       " 'dict.txt',\n",
       " 'dict10-write.txt',\n",
       " 'Documents',\n",
       " 'Downloads',\n",
       " 'eg.txt',\n",
       " 'f1.txt',\n",
       " 'f2.txt',\n",
       " 'f3.txt',\n",
       " 'Favorites',\n",
       " 'file-1',\n",
       " 'file-2',\n",
       " 'file-hasetag',\n",
       " 'file-hasetag.txt',\n",
       " 'file-without-hasetage.txt',\n",
       " 'file.1',\n",
       " 'file.2',\n",
       " 'file.3',\n",
       " 'hello-1.txt',\n",
       " 'info-1.txt',\n",
       " 'info-copy.txt',\n",
       " 'info-upper.txt',\n",
       " 'info.txt',\n",
       " 'input',\n",
       " 'input.txt',\n",
       " 'IntelGraphicsProfiles',\n",
       " 'Links',\n",
       " 'Local Settings',\n",
       " 'logestword',\n",
       " 'man-2-even.txt',\n",
       " 'man-2-odd.txt',\n",
       " 'man-2.txt',\n",
       " 'Music',\n",
       " 'My Documents',\n",
       " 'mymodule.py',\n",
       " 'NetHood',\n",
       " 'newfile.txt',\n",
       " 'NTUSER.DAT',\n",
       " 'ntuser.dat.LOG1',\n",
       " 'ntuser.dat.LOG2',\n",
       " 'NTUSER.DAT{53b39e87-18c4-11ea-a811-000d3aa4692b}.TxR.0.regtrans-ms',\n",
       " 'NTUSER.DAT{53b39e87-18c4-11ea-a811-000d3aa4692b}.TxR.1.regtrans-ms',\n",
       " 'NTUSER.DAT{53b39e87-18c4-11ea-a811-000d3aa4692b}.TxR.2.regtrans-ms',\n",
       " 'NTUSER.DAT{53b39e87-18c4-11ea-a811-000d3aa4692b}.TxR.blf',\n",
       " 'NTUSER.DAT{53b39e88-18c4-11ea-a811-000d3aa4692b}.TM.blf',\n",
       " 'NTUSER.DAT{53b39e88-18c4-11ea-a811-000d3aa4692b}.TMContainer00000000000000000001.regtrans-ms',\n",
       " 'NTUSER.DAT{53b39e88-18c4-11ea-a811-000d3aa4692b}.TMContainer00000000000000000002.regtrans-ms',\n",
       " 'ntuser.ini',\n",
       " 'OneDrive',\n",
       " 'Oracle',\n",
       " 'Pictures',\n",
       " 'PrintHood',\n",
       " 'py-man',\n",
       " 'Recent',\n",
       " 'Saved Games',\n",
       " 'Searches',\n",
       " 'SendTo',\n",
       " 'Start Menu',\n",
       " 'Templates',\n",
       " 'test.txt',\n",
       " 'Unit-6_mangajjar.ipynb',\n",
       " 'Unit-7_mangajjar.ipynb',\n",
       " 'Untitled.ipynb',\n",
       " 'untitled.txt',\n",
       " 'Untitled1.ipynb',\n",
       " 'Videos',\n",
       " 'word-change',\n",
       " '__pycache__']"
      ]
     },
     "execution_count": 3,
     "metadata": {},
     "output_type": "execute_result"
    }
   ],
   "source": [
    "import os\n",
    "os.listdir()"
   ]
  },
  {
   "cell_type": "code",
   "execution_count": 4,
   "metadata": {},
   "outputs": [],
   "source": [
    "import os\n",
    "os.remove(\"D:\\\\demo.txt\")\n",
    "# use for delete file"
   ]
  },
  {
   "cell_type": "code",
   "execution_count": 5,
   "metadata": {},
   "outputs": [],
   "source": [
    "import os\n",
    "os.rmdir(\"D:\\\\hogrider\")\n",
    "# use for delete folder"
   ]
  },
  {
   "cell_type": "code",
   "execution_count": 6,
   "metadata": {},
   "outputs": [
    {
     "name": "stdout",
     "output_type": "stream",
     "text": [
      "હેલ્લો મિત્રો કેમ છો? મજા મા?\n"
     ]
    }
   ],
   "source": [
    "print(\"હેલ્લો મિત્રો કેમ છો? મજા મા?\")"
   ]
  },
  {
   "cell_type": "code",
   "execution_count": 3,
   "metadata": {},
   "outputs": [
    {
     "name": "stdout",
     "output_type": "stream",
     "text": [
      "Enter name: Man\n",
      "Lenght:  3\n",
      "upper:  MAN\n",
      "Lower:  man\n",
      "Capatilzae:  Man\n",
      "Title:  Man\n",
      "Isupper:  False\n",
      "Islower:  False\n",
      "Isalpha:  True\n",
      "Isdigit:  False\n",
      "Isalnum:  True\n"
     ]
    }
   ],
   "source": [
    "# to make a module with cotains all basic fun. releteed to string and import that another file \n",
    "# and use that fun. with a string given by user\n",
    "import fun_str\n",
    "user=input(\"Enter name: \")\n",
    "fun_str.funstr(user)"
   ]
  },
  {
   "cell_type": "code",
   "execution_count": null,
   "metadata": {},
   "outputs": [],
   "source": []
  }
 ],
 "metadata": {
  "kernelspec": {
   "display_name": "Python 3",
   "language": "python",
   "name": "python3"
  },
  "language_info": {
   "codemirror_mode": {
    "name": "ipython",
    "version": 3
   },
   "file_extension": ".py",
   "mimetype": "text/x-python",
   "name": "python",
   "nbconvert_exporter": "python",
   "pygments_lexer": "ipython3",
   "version": "3.8.5"
  }
 },
 "nbformat": 4,
 "nbformat_minor": 4
}
