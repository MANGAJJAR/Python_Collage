{
 "cells": [
  {
   "cell_type": "code",
   "execution_count": 4,
   "metadata": {},
   "outputs": [
    {
     "name": "stdout",
     "output_type": "stream",
     "text": [
      "<class 'list'>\n",
      "[1, 2, 3, 4, 5]\n",
      "[23, 2, 3, 4, 5]\n"
     ]
    }
   ],
   "source": [
    "# List is Mutable\n",
    "a = [1,2,3,4,5]\n",
    "print(type(a))\n",
    "print(a)\n",
    "a[0]=23\n",
    "print(a)"
   ]
  },
  {
   "cell_type": "code",
   "execution_count": 7,
   "metadata": {},
   "outputs": [
    {
     "name": "stdout",
     "output_type": "stream",
     "text": [
      "Enter list: (1,2,3,4)\n",
      "<class 'tuple'>\n"
     ]
    }
   ],
   "source": [
    "l = eval(input(\"Enter list: \"))\n",
    "print(type(l))"
   ]
  },
  {
   "cell_type": "code",
   "execution_count": 10,
   "metadata": {},
   "outputs": [
    {
     "name": "stdout",
     "output_type": "stream",
     "text": [
      "Enter list: [1,2,3]\n",
      "<class 'list'>\n"
     ]
    }
   ],
   "source": [
    "l = eval(input(\"Enter list: \"))\n",
    "print(type(l))"
   ]
  },
  {
   "cell_type": "code",
   "execution_count": 8,
   "metadata": {},
   "outputs": [
    {
     "name": "stdout",
     "output_type": "stream",
     "text": [
      "['M', 'a', 'n']\n"
     ]
    }
   ],
   "source": [
    "s = \"Man\"\n",
    "l = list(s)\n",
    "print(l)"
   ]
  },
  {
   "cell_type": "code",
   "execution_count": 9,
   "metadata": {},
   "outputs": [
    {
     "name": "stdout",
     "output_type": "stream",
     "text": [
      "('M', 'a', 'n')\n"
     ]
    }
   ],
   "source": [
    "s = \"Man\"\n",
    "l = tuple(s)\n",
    "print(l)"
   ]
  },
  {
   "cell_type": "code",
   "execution_count": 11,
   "metadata": {},
   "outputs": [],
   "source": [
    "# https://drive.google.com/drive/folders/13WGhz9Bpb4EWfNZqxYnfR-hz8ecPWKgq"
   ]
  },
  {
   "cell_type": "code",
   "execution_count": 2,
   "metadata": {},
   "outputs": [
    {
     "name": "stdout",
     "output_type": "stream",
     "text": [
      "[1, 3]\n"
     ]
    }
   ],
   "source": [
    "l = [1,2,3,4]\n",
    "print(l[0:4:2])"
   ]
  },
  {
   "cell_type": "markdown",
   "metadata": {},
   "source": [
    "# IMP Qustion"
   ]
  },
  {
   "cell_type": "code",
   "execution_count": 3,
   "metadata": {},
   "outputs": [
    {
     "name": "stdout",
     "output_type": "stream",
     "text": [
      "4\n"
     ]
    }
   ],
   "source": [
    "#len() \n",
    "n = [1,2,3,4]\n",
    "print(len(n))"
   ]
  },
  {
   "cell_type": "code",
   "execution_count": 7,
   "metadata": {},
   "outputs": [
    {
     "name": "stdout",
     "output_type": "stream",
     "text": [
      "1\n",
      "3\n",
      "3\n"
     ]
    }
   ],
   "source": [
    "#count()\n",
    "n=[1,2,2,2,3,3,3,4,4,5]\n",
    "print(n.count(1))\n",
    "print(n.count(2))\n",
    "print(n.count(3))"
   ]
  },
  {
   "cell_type": "code",
   "execution_count": 11,
   "metadata": {},
   "outputs": [
    {
     "name": "stdout",
     "output_type": "stream",
     "text": [
      "0\n",
      "1\n"
     ]
    }
   ],
   "source": [
    "#index()\n",
    "n=[1,2,2,3,3,3]\n",
    "print(n.index(1))\n",
    "print(n.index(2))\n",
    "\n",
    "if 4 in n:\n",
    "    print(n.index(4))\n",
    "    "
   ]
  },
  {
   "cell_type": "code",
   "execution_count": 14,
   "metadata": {},
   "outputs": [
    {
     "name": "stdout",
     "output_type": "stream",
     "text": [
      "['M', 'A', 'N', 'T', 'O', 'P', 'G']\n"
     ]
    }
   ],
   "source": [
    "# append()\n",
    "\n",
    "l=['M','A']\n",
    "l.append('N')\n",
    "l.append('T')\n",
    "l.append('O')\n",
    "l.append('P')\n",
    "l.append('G')\n",
    "\n",
    "print(l)"
   ]
  },
  {
   "cell_type": "code",
   "execution_count": 21,
   "metadata": {},
   "outputs": [
    {
     "name": "stdout",
     "output_type": "stream",
     "text": [
      "[10, 28, 20, 30, 40]\n",
      "[10, 30, 28, 20, 30, 40]\n"
     ]
    }
   ],
   "source": [
    "# insert()\n",
    "n = [10,20,30,40]\n",
    "n.insert(1,28)\n",
    "print(n)\n",
    "n.insert(-4,30)\n",
    "print(n)"
   ]
  },
  {
   "cell_type": "code",
   "execution_count": 23,
   "metadata": {},
   "outputs": [
    {
     "name": "stdout",
     "output_type": "stream",
     "text": [
      "['Apple', 'Banana', 'Orange', 'Mango']\n",
      "['Orange', 'Mango']\n",
      "['Orange', 'Mango', 'Apple', 'Banana', 'Orange', 'Mango']\n"
     ]
    }
   ],
   "source": [
    "# extend()\n",
    "\n",
    "l1=['Apple','Banana']\n",
    "l2=['Orange','Mango']\n",
    "\n",
    "l1.extend(l2)\n",
    "print(l1)\n",
    "print(l2)\n",
    "\n",
    "l2.extend(l1)\n",
    "print(l2)"
   ]
  },
  {
   "cell_type": "code",
   "execution_count": 25,
   "metadata": {},
   "outputs": [
    {
     "name": "stdout",
     "output_type": "stream",
     "text": [
      "[3, 6, 5, 2, 1, 3]\n"
     ]
    }
   ],
   "source": [
    "# remove() remove use elemet\n",
    "\n",
    "n=[3,6,5,1,2,1,3]\n",
    "n.remove(1)\n",
    "print(n)"
   ]
  },
  {
   "cell_type": "code",
   "execution_count": 26,
   "metadata": {},
   "outputs": [
    {
     "name": "stdout",
     "output_type": "stream",
     "text": [
      "[3, 5, 1, 2, 1, 3]\n"
     ]
    }
   ],
   "source": [
    "# pop() pop use index\n",
    "\n",
    "n=[3,6,5,1,2,1,3]\n",
    "n.pop(1)\n",
    "print(n)"
   ]
  },
  {
   "cell_type": "code",
   "execution_count": 27,
   "metadata": {},
   "outputs": [
    {
     "name": "stdout",
     "output_type": "stream",
     "text": [
      "40\n",
      "30\n",
      "[10, 20]\n"
     ]
    }
   ],
   "source": [
    "n=[10,20,30,40]\n",
    "print(n.pop())\n",
    "print(n.pop())\n",
    "print(n)"
   ]
  },
  {
   "cell_type": "code",
   "execution_count": 28,
   "metadata": {},
   "outputs": [
    {
     "name": "stdout",
     "output_type": "stream",
     "text": [
      "[10, 20]\n"
     ]
    }
   ],
   "source": [
    "n=[10,20,30,40]\n",
    "n.pop()\n",
    "n.pop()\n",
    "print(n)"
   ]
  },
  {
   "cell_type": "code",
   "execution_count": 30,
   "metadata": {},
   "outputs": [
    {
     "name": "stdout",
     "output_type": "stream",
     "text": [
      "60\n",
      "20\n",
      "[10, 30, 40, 50]\n"
     ]
    }
   ],
   "source": [
    "n=[10,20,30,40,50,60]\n",
    "print(n.pop())\n",
    "print(n.pop(1))\n",
    "print(n)"
   ]
  },
  {
   "cell_type": "code",
   "execution_count": 33,
   "metadata": {},
   "outputs": [],
   "source": [
    "# n=[]\n",
    "# print(n.pop())  #pop from empty list\n",
    "\n"
   ]
  },
  {
   "cell_type": "code",
   "execution_count": 32,
   "metadata": {},
   "outputs": [
    {
     "name": "stdout",
     "output_type": "stream",
     "text": [
      "[1, 2, 3, 4, 5]\n",
      "[]\n"
     ]
    }
   ],
   "source": [
    "# clear()\n",
    "n=[1,2,3,4,5]\n",
    "print(n)\n",
    "n.clear()\n",
    "print(n)\n"
   ]
  },
  {
   "cell_type": "code",
   "execution_count": 35,
   "metadata": {},
   "outputs": [
    {
     "name": "stdout",
     "output_type": "stream",
     "text": [
      "[5, 4, 3, 2, 1]\n"
     ]
    }
   ],
   "source": [
    "# reverse()\n",
    "\n",
    "n=[1,2,3,4,5]\n",
    "n.reverse()\n",
    "print(n)"
   ]
  },
  {
   "cell_type": "code",
   "execution_count": 37,
   "metadata": {},
   "outputs": [
    {
     "name": "stdout",
     "output_type": "stream",
     "text": [
      "[1, 2, 5, 10, 15]\n"
     ]
    }
   ],
   "source": [
    "# sort()\n",
    "\n",
    "n=[2,5,15,10,1]\n",
    "n.sort()\n",
    "print(n)"
   ]
  },
  {
   "cell_type": "code",
   "execution_count": 39,
   "metadata": {},
   "outputs": [
    {
     "name": "stdout",
     "output_type": "stream",
     "text": [
      "['A', 'B', 'C', 'D', 'E']\n"
     ]
    }
   ],
   "source": [
    "n=['D','B','C','A','E']\n",
    "n.sort()\n",
    "print(n)"
   ]
  },
  {
   "cell_type": "code",
   "execution_count": 41,
   "metadata": {},
   "outputs": [
    {
     "name": "stdout",
     "output_type": "stream",
     "text": [
      "[15, 10, 5, 2, 1]\n"
     ]
    }
   ],
   "source": [
    "n=[2,5,15,10,1]\n",
    "n.sort(reverse=True)\n",
    "print(n)"
   ]
  },
  {
   "cell_type": "code",
   "execution_count": 43,
   "metadata": {},
   "outputs": [
    {
     "name": "stdout",
     "output_type": "stream",
     "text": [
      "['E', 'D', 'C', 'B', 'A']\n"
     ]
    }
   ],
   "source": [
    "n=['D','B','C','A','E']\n",
    "n.sort(reverse=True)\n",
    "print(n)"
   ]
  },
  {
   "cell_type": "code",
   "execution_count": 44,
   "metadata": {},
   "outputs": [
    {
     "name": "stdout",
     "output_type": "stream",
     "text": [
      "['A', 'B', 'C', 'D', 'E']\n"
     ]
    }
   ],
   "source": [
    "n=['D','B','C','A','E']\n",
    "n.sort(reverse=False)\n",
    "print(n)"
   ]
  },
  {
   "cell_type": "code",
   "execution_count": 45,
   "metadata": {},
   "outputs": [
    {
     "name": "stdout",
     "output_type": "stream",
     "text": [
      "[1, 2, 3, 4, 5, 6]\n",
      "[1, 2, 3, 4]\n",
      "[1, 2, 3, 1, 2, 3, 1, 2, 3]\n"
     ]
    }
   ],
   "source": [
    "# Mathematical Operators\n",
    "\n",
    "# + = Concatenation\n",
    "# * = Repetition\n",
    "\n",
    "a = [1,2,3]\n",
    "b = [4,5,6]\n",
    "print(a+b)\n",
    "print(a+[4])\n",
    "# print(a + 4) # Error\n",
    "\n",
    "print(a*3)"
   ]
  },
  {
   "cell_type": "code",
   "execution_count": 48,
   "metadata": {},
   "outputs": [
    {
     "name": "stdout",
     "output_type": "stream",
     "text": [
      "True\n",
      "False\n",
      "True\n"
     ]
    }
   ],
   "source": [
    "# Comparison Operator for list\n",
    "\n",
    "x = [\"Dog\",\"Cat\",\"Rat\"]\n",
    "y = [\"Dog\",\"Cat\",\"Rat\"]\n",
    "z = [\"DOG\",\"CAT\",\"RAT\"]\n",
    "\n",
    "print(x == y)\n",
    "print(x == z)\n",
    "print(x != z)\n",
    "\n"
   ]
  },
  {
   "cell_type": "code",
   "execution_count": 50,
   "metadata": {},
   "outputs": [
    {
     "name": "stdout",
     "output_type": "stream",
     "text": [
      "True\n",
      "True\n",
      "False\n",
      "False\n"
     ]
    }
   ],
   "source": [
    "x = [50,20,30]\n",
    "y = [40,50,60]\n",
    "print(x>y)\n",
    "print(x>=y)\n",
    "print(x<y)\n",
    "print(x<=y)"
   ]
  },
  {
   "cell_type": "code",
   "execution_count": 51,
   "metadata": {},
   "outputs": [
    {
     "name": "stdout",
     "output_type": "stream",
     "text": [
      "False\n",
      "True\n",
      "False\n",
      "True\n"
     ]
    }
   ],
   "source": [
    "x = [\"Dog\",\"Cat\",\"Rat\"]\n",
    "y = [\"Rat\",\"Cat\",\"Dog\"]\n",
    "print(x>y)\n",
    "print(x<y)\n",
    "print(x>=y)\n",
    "print(x<=y)"
   ]
  },
  {
   "cell_type": "code",
   "execution_count": 54,
   "metadata": {},
   "outputs": [
    {
     "name": "stdout",
     "output_type": "stream",
     "text": [
      "True\n",
      "False\n",
      "False\n",
      "True\n"
     ]
    }
   ],
   "source": [
    "# Membership Operator for List\n",
    "# 1. in\n",
    "# 2. not in\n",
    "\n",
    "n=[10,20,30,40]\n",
    "print(10 in n)\n",
    "print(10 not in n)\n",
    "print(50 in n)\n",
    "print(50 not in n)"
   ]
  },
  {
   "cell_type": "code",
   "execution_count": 55,
   "metadata": {},
   "outputs": [
    {
     "name": "stdout",
     "output_type": "stream",
     "text": [
      "[10, 20, 30, 40]\n",
      "[10, 20, 30, 40]\n",
      "[10, 77, 30, 40]\n",
      "[10, 77, 30, 40]\n"
     ]
    }
   ],
   "source": [
    "# Cloning of List\n",
    "\n",
    "x=[10,20,30,40]\n",
    "y=x\n",
    "print(x)\n",
    "print(y)\n",
    "\n",
    "y[1]=77\n",
    "print(y)\n",
    "print(x)\n"
   ]
  },
  {
   "cell_type": "code",
   "execution_count": 56,
   "metadata": {},
   "outputs": [
    {
     "name": "stdout",
     "output_type": "stream",
     "text": [
      "[10, 20, 30, 40]\n",
      "[10, 20, 30, 40]\n",
      "[10, 77, 30, 40]\n",
      "[10, 20, 30, 40]\n"
     ]
    }
   ],
   "source": [
    "# by using Slicing Operator\n",
    "\n",
    "x=[10,20,30,40]\n",
    "y=x[:]\n",
    "print(x)\n",
    "print(y)\n",
    "\n",
    "y[1]=77\n",
    "print(y)\n",
    "print(x)"
   ]
  },
  {
   "cell_type": "code",
   "execution_count": 57,
   "metadata": {},
   "outputs": [
    {
     "name": "stdout",
     "output_type": "stream",
     "text": [
      "[10, 20, 30, 40]\n",
      "[10, 77, 30, 40]\n"
     ]
    }
   ],
   "source": [
    "# by using copy() Operator\n",
    "x=[10,20,30,40]\n",
    "y=x.copy()\n",
    "y[1]=77\n",
    "print(x)\n",
    "print(y)"
   ]
  },
  {
   "cell_type": "code",
   "execution_count": 59,
   "metadata": {},
   "outputs": [
    {
     "name": "stdout",
     "output_type": "stream",
     "text": [
      "[10, 20, 30, [30, 40, 50]]\n",
      "[30, 40, 50]\n",
      "40\n"
     ]
    }
   ],
   "source": [
    "# Nested list\n",
    "\n",
    "n=[10,20,30,[30,40,50]]\n",
    "print(n)\n",
    "print(n[3])\n",
    "print(n[3][1])\n"
   ]
  },
  {
   "cell_type": "code",
   "execution_count": 19,
   "metadata": {},
   "outputs": [
    {
     "name": "stdout",
     "output_type": "stream",
     "text": [
      "[1, 2, 3]\n",
      "[4, 5, 6]\n",
      "[7, 8, 9]\n"
     ]
    }
   ],
   "source": [
    "n= [[1,2,3],[4,5,6],[7,8,9]]\n",
    "for i in n:\n",
    "    print(i)"
   ]
  },
  {
   "cell_type": "code",
   "execution_count": 73,
   "metadata": {},
   "outputs": [
    {
     "name": "stdout",
     "output_type": "stream",
     "text": [
      "1 2 3 \n",
      "4 5 6 \n",
      "7 8 9 \n"
     ]
    }
   ],
   "source": [
    "n= [[1,2,3],[4,5,6],[7,8,9]]\n",
    "for i in n:\n",
    "    for j in i:\n",
    "        print(j,end=\" \")\n",
    "    print(\"\")"
   ]
  },
  {
   "cell_type": "code",
   "execution_count": 77,
   "metadata": {},
   "outputs": [
    {
     "name": "stdout",
     "output_type": "stream",
     "text": [
      "[1, 4, 9, 16, 25, 36, 49, 64, 81, 100]\n",
      "[2, 4, 8, 16, 32]\n",
      "[4, 16, 36, 64, 100]\n",
      "[2, 4, 8, 16, 32]\n"
     ]
    }
   ],
   "source": [
    "# List comprehensions\n",
    "s = [x*x for x in range (1,11)]\n",
    "print(s)\n",
    "\n",
    "v = [2**x for x in range (1,6)]\n",
    "print(v)\n",
    "\n",
    "m = [x for x in s if x%2==0]\n",
    "print(m)\n",
    "\n",
    "n = [x for x in v if x%2==0]\n",
    "print(n)"
   ]
  },
  {
   "cell_type": "markdown",
   "metadata": {},
   "source": [
    "# remove all accr. of in element form given list"
   ]
  },
  {
   "cell_type": "code",
   "execution_count": 85,
   "metadata": {
    "scrolled": true
   },
   "outputs": [
    {
     "name": "stdout",
     "output_type": "stream",
     "text": [
      "[3, 6, 5, 2, 3]\n"
     ]
    }
   ],
   "source": [
    "n=[3,6,5,1,2,1,3]\n",
    "for i in n:\n",
    "    if 1 in n:\n",
    "        n.remove(1)\n",
    "print(n)"
   ]
  },
  {
   "cell_type": "code",
   "execution_count": 87,
   "metadata": {},
   "outputs": [
    {
     "name": "stdout",
     "output_type": "stream",
     "text": [
      "[30, 60, 50, 20, 30]\n"
     ]
    }
   ],
   "source": [
    "l=[30,10,60,50,10,20,10,30]\n",
    "n=10\n",
    "while(n in l):\n",
    "    l.remove(n)\n",
    "print(l)"
   ]
  },
  {
   "cell_type": "code",
   "execution_count": 7,
   "metadata": {},
   "outputs": [
    {
     "ename": "SyntaxError",
     "evalue": "invalid syntax (<ipython-input-7-04f77242e24c>, line 11)",
     "output_type": "error",
     "traceback": [
      "\u001b[1;36m  File \u001b[1;32m\"<ipython-input-7-04f77242e24c>\"\u001b[1;36m, line \u001b[1;32m11\u001b[0m\n\u001b[1;33m    odd is None or i > odd:\u001b[0m\n\u001b[1;37m                           ^\u001b[0m\n\u001b[1;31mSyntaxError\u001b[0m\u001b[1;31m:\u001b[0m invalid syntax\n"
     ]
    }
   ],
   "source": [
    "# Largest Even and largest Odd Num. from the List.\n",
    "l = [12,37,66,89,123]\n",
    "\n",
    "even = 0\n",
    "odd = 0\n",
    "for i in l:\n",
    "    if i%2==0:\n",
    "        if even is None or i > even:\n",
    "            even = i\n",
    "        else:\n",
    "            odd is None or i > odd:\n",
    "                odd = i\n",
    "print(\"Max is\",even)\n",
    "print(\"Min is\",odd)\n",
    "\n",
    "            "
   ]
  },
  {
   "cell_type": "code",
   "execution_count": 6,
   "metadata": {},
   "outputs": [
    {
     "name": "stdout",
     "output_type": "stream",
     "text": [
      "Largest Even Number: 34\n",
      "Largest Odd Number: 89\n"
     ]
    }
   ],
   "source": [
    "nums = [12, 45, 67, 34, 89, 10, 23, 8]\n",
    "largest_even, largest_odd = find_largest_even_odd(nums)\n",
    "\n",
    "print(\"Largest Even Number:\", largest_even)\n",
    "print(\"Largest Odd Number:\", largest_odd)\n",
    "\n",
    "def find_largest_even_odd(nums):\n",
    "    largest_even = None\n",
    "    largest_odd = None\n",
    "\n",
    "    for num in nums:\n",
    "        if num % 2 == 0:  \n",
    "            if largest_even is None or num > largest_even:\n",
    "                largest_even = num\n",
    "        else:  \n",
    "            if largest_odd is None or num > largest_odd:\n",
    "                largest_odd = num\n",
    "\n",
    "    return largest_even, largest_odd\n",
    "\n",
    "\n"
   ]
  },
  {
   "cell_type": "markdown",
   "metadata": {},
   "source": [
    "# Write a perfrom a circular on list to the right "
   ]
  },
  {
   "cell_type": "code",
   "execution_count": 17,
   "metadata": {},
   "outputs": [
    {
     "name": "stdout",
     "output_type": "stream",
     "text": [
      "Enter a Num: [1,2,3,4,5,6,7]\n",
      "Enter a shift num: 2\n",
      "[6, 7, 1, 2, 3, 4, 5]\n"
     ]
    }
   ],
   "source": [
    "n = eval(input(\"Enter a Num: \"))\n",
    "shift = int(input(\"Enter a shift num: \"))\n",
    "    \n",
    "n=n[-shift:]+n[:-shift]\n",
    "\n",
    "print(n)\n",
    "\n",
    "\n"
   ]
  },
  {
   "cell_type": "markdown",
   "metadata": {},
   "source": [
    "# write a pro. to transpose a matrix represented list of list"
   ]
  },
  {
   "cell_type": "code",
   "execution_count": 33,
   "metadata": {},
   "outputs": [
    {
     "name": "stdout",
     "output_type": "stream",
     "text": [
      "Original Matrix:\n",
      "[1, 2, 3]\n",
      "[4, 5, 6]\n",
      "[7, 8, 9]\n",
      " \n",
      "Transpose Matrix\n",
      "[1, 4, 7]\n",
      "[2, 5, 8]\n",
      "[3, 6, 9]\n"
     ]
    }
   ],
   "source": [
    "n= [[1,2,3],[4,5,6],[7,8,9]]\n",
    "print(\"Original Matrix:\")\n",
    "for i in n:\n",
    "    print(i)\n",
    "    \n",
    "print(\" \")\n",
    "\n",
    "print(\"Transpose Matrix\")\n",
    "for i in range(len(n[0])):\n",
    "    new = [row[i] for row in n]\n",
    "    print(new)\n",
    "                "
   ]
  },
  {
   "cell_type": "markdown",
   "metadata": {},
   "source": [
    "## write a pro. print elements with frequces greter than a given value k"
   ]
  },
  {
   "cell_type": "code",
   "execution_count": 38,
   "metadata": {},
   "outputs": [
    {
     "name": "stdout",
     "output_type": "stream",
     "text": [
      "[1, 2, 5]\n"
     ]
    }
   ],
   "source": [
    "l = [1,1,1,1,2,2,2,2,3,3,5,5,5,6,7]\n",
    "k=2\n",
    "a=[]\n",
    "for i in l:\n",
    "    l.count(i)\n",
    "    if l.count(i)>k and i not in a:\n",
    "        a.append(i)\n",
    "print(a)    \n",
    "                        "
   ]
  },
  {
   "cell_type": "markdown",
   "metadata": {},
   "source": [
    "## element of two string doens't match"
   ]
  },
  {
   "cell_type": "code",
   "execution_count": 46,
   "metadata": {},
   "outputs": [
    {
     "name": "stdout",
     "output_type": "stream",
     "text": [
      "[1, 3]\n"
     ]
    }
   ],
   "source": [
    "l1 = [1,2,3,4]\n",
    "l2 = [1,5,3,6]\n",
    "\n",
    "if len(l1)==len(l2):\n",
    "    n=[i for i in range(len(l1)) if l1[i]!=l2[i]]\n",
    "    print(n)\n",
    "else:\n",
    "    print(\"Not same length!\")"
   ]
  },
  {
   "cell_type": "markdown",
   "metadata": {},
   "source": [
    "## write a pro. to count num of string length is 3 or more and the first and last char. are same from give of string"
   ]
  },
  {
   "cell_type": "code",
   "execution_count": 49,
   "metadata": {},
   "outputs": [
    {
     "ename": "SyntaxError",
     "evalue": "invalid syntax (<ipython-input-49-482218d0c3ca>, line 2)",
     "output_type": "error",
     "traceback": [
      "\u001b[1;36m  File \u001b[1;32m\"<ipython-input-49-482218d0c3ca>\"\u001b[1;36m, line \u001b[1;32m2\u001b[0m\n\u001b[1;33m    n=[for i in range(len(l)) and l(0)==l(-1)]\u001b[0m\n\u001b[1;37m       ^\u001b[0m\n\u001b[1;31mSyntaxError\u001b[0m\u001b[1;31m:\u001b[0m invalid syntax\n"
     ]
    }
   ],
   "source": []
  },
  {
   "cell_type": "code",
   "execution_count": 54,
   "metadata": {
    "scrolled": true
   },
   "outputs": [
    {
     "name": "stdout",
     "output_type": "stream",
     "text": [
      "Total num of count is 3\n"
     ]
    }
   ],
   "source": [
    "l = ['abc','xyz','aba','2112','123451','1234']\n",
    "s = 0\n",
    "for i in l:\n",
    "    if len(i)>=3 and i[0]==i[-1]:\n",
    "        s+=1\n",
    "print(\"Total num of count is\",s)\n",
    "\n"
   ]
  },
  {
   "cell_type": "markdown",
   "metadata": {},
   "source": [
    "# Dictionary\n"
   ]
  },
  {
   "cell_type": "code",
   "execution_count": 56,
   "metadata": {},
   "outputs": [
    {
     "name": "stdout",
     "output_type": "stream",
     "text": [
      "<class 'set'>\n"
     ]
    }
   ],
   "source": [
    "s = {1,2,3,4}\n",
    "print(type(s))"
   ]
  },
  {
   "cell_type": "code",
   "execution_count": 57,
   "metadata": {},
   "outputs": [
    {
     "name": "stdout",
     "output_type": "stream",
     "text": [
      "<class 'dict'>\n"
     ]
    }
   ],
   "source": [
    "s={}\n",
    "print(type(s))"
   ]
  },
  {
   "cell_type": "code",
   "execution_count": 67,
   "metadata": {},
   "outputs": [
    {
     "name": "stdout",
     "output_type": "stream",
     "text": [
      "{1: 'Apple', 2: 'Banana', 3: 'Mango'}\n"
     ]
    }
   ],
   "source": [
    "d = dict()\n",
    "d[1] = \"Apple\"\n",
    "d[2] = \"Banana\"\n",
    "d[3] = \"Mango\"\n",
    "print(d)"
   ]
  },
  {
   "cell_type": "code",
   "execution_count": 70,
   "metadata": {},
   "outputs": [
    {
     "name": "stdout",
     "output_type": "stream",
     "text": [
      "Banana\n"
     ]
    }
   ],
   "source": [
    "d ={1: 'Apple', 2: 'Banana', 3: 'Mango'}\n",
    "print(d[2])\n"
   ]
  },
  {
   "cell_type": "code",
   "execution_count": 72,
   "metadata": {},
   "outputs": [
    {
     "name": "stdout",
     "output_type": "stream",
     "text": [
      "Banana\n"
     ]
    }
   ],
   "source": [
    "#Try and print\n",
    "d ={1: 'Apple', 2: 'Banana', 3: 'Mango'}\n",
    "print(d[2])\n",
    "if 4 in d:\n",
    "    print(d[4])"
   ]
  },
  {
   "cell_type": "code",
   "execution_count": 73,
   "metadata": {},
   "outputs": [
    {
     "name": "stdout",
     "output_type": "stream",
     "text": [
      "{1: 'Apple', 2: 'Banana', 3: 'Mango', 4: 'Cherry'}\n"
     ]
    }
   ],
   "source": [
    "d ={1: 'Apple', 2: 'Banana', 3: 'Mango'}\n",
    "d[4] = \"Cherry\"\n",
    "print(d)"
   ]
  },
  {
   "cell_type": "code",
   "execution_count": 75,
   "metadata": {},
   "outputs": [
    {
     "name": "stdout",
     "output_type": "stream",
     "text": [
      "{1: 'Apple', 2: 'Banana', 3: 'Mango', 4: 'Cherry'}\n",
      "{1: 'Strawberry', 2: 'Banana', 3: 'Mango', 4: 'Cherry'}\n"
     ]
    }
   ],
   "source": [
    "# Update\n",
    "d ={1: 'Apple', 2: 'Banana', 3: 'Mango'}\n",
    "d[4] = \"Cherry\"\n",
    "print(d)\n",
    "d[1] = \"Strawberry\"\n",
    "print(d)\n"
   ]
  },
  {
   "cell_type": "code",
   "execution_count": 77,
   "metadata": {},
   "outputs": [
    {
     "name": "stdout",
     "output_type": "stream",
     "text": [
      "{1: 'Apple', 2: 'Banana', 3: 'Mango', 4: 'Cherry'}\n",
      "{1: 'Strawberry', 2: 'Banana', 3: 'Mango', 4: 'Cherry'}\n",
      "{1: 'Strawberry', 3: 'Mango', 4: 'Cherry'}\n"
     ]
    }
   ],
   "source": [
    "# delete in specefic dict.\n",
    "\n",
    "d ={1: 'Apple', 2: 'Banana', 3: 'Mango'}\n",
    "d[4] = \"Cherry\"\n",
    "print(d)\n",
    "d[1] = \"Strawberry\"\n",
    "print(d)\n",
    "del d[2]\n",
    "print(d)"
   ]
  },
  {
   "cell_type": "code",
   "execution_count": 79,
   "metadata": {},
   "outputs": [
    {
     "name": "stdout",
     "output_type": "stream",
     "text": [
      "{1: 'Apple', 2: 'Banana', 3: 'Mango', 4: 'Cherry'}\n",
      "{}\n"
     ]
    }
   ],
   "source": [
    "# clear in dict.\n",
    "\n",
    "d ={1: 'Apple', 2: 'Banana', 3: 'Mango'}\n",
    "d[4] = \"Cherry\"\n",
    "print(d)\n",
    "d.clear()\n",
    "print(d)"
   ]
  },
  {
   "cell_type": "code",
   "execution_count": 80,
   "metadata": {},
   "outputs": [
    {
     "name": "stdout",
     "output_type": "stream",
     "text": [
      "{1: 'Apple', 2: 'Banana', 3: 'Mango', 4: 'Cherry'}\n"
     ]
    },
    {
     "ename": "NameError",
     "evalue": "name 'd' is not defined",
     "output_type": "error",
     "traceback": [
      "\u001b[1;31m---------------------------------------------------------------------------\u001b[0m",
      "\u001b[1;31mNameError\u001b[0m                                 Traceback (most recent call last)",
      "\u001b[1;32m<ipython-input-80-46a338e27331>\u001b[0m in \u001b[0;36m<module>\u001b[1;34m\u001b[0m\n\u001b[0;32m      5\u001b[0m \u001b[0mprint\u001b[0m\u001b[1;33m(\u001b[0m\u001b[0md\u001b[0m\u001b[1;33m)\u001b[0m\u001b[1;33m\u001b[0m\u001b[1;33m\u001b[0m\u001b[0m\n\u001b[0;32m      6\u001b[0m \u001b[1;32mdel\u001b[0m \u001b[0md\u001b[0m\u001b[1;33m\u001b[0m\u001b[1;33m\u001b[0m\u001b[0m\n\u001b[1;32m----> 7\u001b[1;33m \u001b[0mprint\u001b[0m\u001b[1;33m(\u001b[0m\u001b[0md\u001b[0m\u001b[1;33m)\u001b[0m\u001b[1;33m\u001b[0m\u001b[1;33m\u001b[0m\u001b[0m\n\u001b[0m",
      "\u001b[1;31mNameError\u001b[0m: name 'd' is not defined"
     ]
    }
   ],
   "source": [
    "# delete in dict.\n",
    "#error\n",
    "d ={1: 'Apple', 2: 'Banana', 3: 'Mango'}\n",
    "d[4] = \"Cherry\"\n",
    "print(d)\n",
    "del d\n",
    "print(d)"
   ]
  },
  {
   "cell_type": "code",
   "execution_count": 83,
   "metadata": {},
   "outputs": [
    {
     "name": "stdout",
     "output_type": "stream",
     "text": [
      "{1: 1, 2: 4, 3: 9, 4: 16, 5: 25}\n"
     ]
    }
   ],
   "source": [
    "squre = {x:x*x for x in range(1,6)}\n",
    "print(squre)"
   ]
  },
  {
   "cell_type": "code",
   "execution_count": 82,
   "metadata": {},
   "outputs": [
    {
     "name": "stdout",
     "output_type": "stream",
     "text": [
      "{1: 2, 2: 4, 3: 6, 4: 8, 5: 10}\n"
     ]
    }
   ],
   "source": [
    "double = {x:2*x for x in range(1,6)}\n",
    "print(double)"
   ]
  },
  {
   "cell_type": "markdown",
   "metadata": {},
   "source": [
    "# Improtant fun. in dictionary\n"
   ]
  },
  {
   "cell_type": "code",
   "execution_count": 88,
   "metadata": {},
   "outputs": [
    {
     "name": "stdout",
     "output_type": "stream",
     "text": [
      "{10: 'Apple', 20: 'Banana', 30: 'cherry'}\n",
      "3\n"
     ]
    }
   ],
   "source": [
    "d= dict([(10, 'Apple'),(20,'Banana'),(30,'cherry')])\n",
    "print(d)\n",
    "print(len(d))"
   ]
  },
  {
   "cell_type": "code",
   "execution_count": 89,
   "metadata": {},
   "outputs": [
    {
     "name": "stdout",
     "output_type": "stream",
     "text": [
      "{1: 60, 2: 30, 3: 40}\n"
     ]
    }
   ],
   "source": [
    "# caloan and you can change a value\n",
    "s = {1:20, 2:30, 3:40}\n",
    "s1 = s\n",
    "s1[1] = 60\n",
    "print(s)"
   ]
  },
  {
   "cell_type": "code",
   "execution_count": 90,
   "metadata": {},
   "outputs": [
    {
     "name": "stdout",
     "output_type": "stream",
     "text": [
      "{1: 20, 2: 30, 3: 40}\n"
     ]
    }
   ],
   "source": [
    "# copy()\n",
    "s = {1:20, 2:30, 3:40}\n",
    "s1 = s.copy()\n",
    "s1[1] = 60\n",
    "print(s)"
   ]
  },
  {
   "cell_type": "code",
   "execution_count": 94,
   "metadata": {},
   "outputs": [
    {
     "name": "stdout",
     "output_type": "stream",
     "text": [
      "{10: 'Apple', 20: 'Banana', 30: 'Apple', 40: 'Banana'}\n",
      "{30: 'Apple', 40: 'Banana'}\n"
     ]
    }
   ],
   "source": [
    "d = {10:'Apple',20:'Banana'}\n",
    "x = {30:'Apple',40:'Banana'}\n",
    "d.update(x)\n",
    "print(d)\n",
    "print(x)"
   ]
  },
  {
   "cell_type": "code",
   "execution_count": 95,
   "metadata": {},
   "outputs": [
    {
     "name": "stdout",
     "output_type": "stream",
     "text": [
      "{10: 'Apple', 20: 'Apple', 40: 'Banana'}\n",
      "{20: 'Apple', 40: 'Banana'}\n"
     ]
    }
   ],
   "source": [
    "d = {10:'Apple',20:'Banana'}\n",
    "x = {20:'Apple',40:'Banana'}\n",
    "d.update(x)\n",
    "print(d)\n",
    "print(x)"
   ]
  },
  {
   "cell_type": "code",
   "execution_count": 97,
   "metadata": {},
   "outputs": [
    {
     "name": "stdout",
     "output_type": "stream",
     "text": [
      "Man\n",
      "Man\n",
      "None\n"
     ]
    }
   ],
   "source": [
    "# get()\n",
    "d ={1: 'Man', 2: 'Arman', 3: 'TOPG'}\n",
    "print(d[1])\n",
    "print(d.get(1))\n",
    "print(d.get(4))"
   ]
  },
  {
   "cell_type": "code",
   "execution_count": 99,
   "metadata": {},
   "outputs": [
    {
     "name": "stdout",
     "output_type": "stream",
     "text": [
      "Man\n",
      "Man\n",
      "None\n",
      "Man\n",
      "Guest\n"
     ]
    }
   ],
   "source": [
    "# get()\n",
    "d ={1: 'Man', 2: 'Arman', 3: 'TOPG'}\n",
    "print(d[1])\n",
    "print(d.get(1))\n",
    "print(d.get(4))\n",
    "print(d.get(1,\"Guest\"))\n",
    "print(d.get(4,\"Guest\"))"
   ]
  },
  {
   "cell_type": "code",
   "execution_count": 106,
   "metadata": {},
   "outputs": [
    {
     "name": "stdout",
     "output_type": "stream",
     "text": [
      "(30, 'Aryan')\n",
      "{10: 'Man', 20: 'Arman'}\n",
      "(20, 'Arman')\n"
     ]
    }
   ],
   "source": [
    "# popitem()\n",
    "# remove last element\n",
    "\n",
    "d = {10:\"Man\",20:\"Arman\",30:\"Aryan\"}\n",
    "print(d.popitem())\n",
    "print(d)\n",
    "# d.clear()\n",
    "print(d.popitem())"
   ]
  },
  {
   "cell_type": "code",
   "execution_count": 107,
   "metadata": {},
   "outputs": [
    {
     "name": "stdout",
     "output_type": "stream",
     "text": [
      "dict_keys([10, 20, 30])\n",
      "10\n",
      "20\n",
      "30\n"
     ]
    }
   ],
   "source": [
    "# keys()\n",
    "d = {10:\"Man\",20:\"Arman\",30:\"Aryan\"}\n",
    "print(d.keys())\n",
    "for i in d.keys():\n",
    "    print(i)"
   ]
  },
  {
   "cell_type": "code",
   "execution_count": 109,
   "metadata": {},
   "outputs": [
    {
     "name": "stdout",
     "output_type": "stream",
     "text": [
      "dict_values(['Man', 'Aman', 'Aryan'])\n",
      "Man\n",
      "Aman\n",
      "Aryan\n"
     ]
    }
   ],
   "source": [
    "# values()\n",
    "d = {10:\"Man\",20:\"Aman\",30:\"Aryan\"}\n",
    "print(d.values())\n",
    "for i in d.values():\n",
    "    print(i)"
   ]
  },
  {
   "cell_type": "code",
   "execution_count": 110,
   "metadata": {},
   "outputs": [
    {
     "name": "stdout",
     "output_type": "stream",
     "text": [
      "dict_items([(10, 'Man'), (20, 'Aman'), (30, 'Aryan')])\n"
     ]
    }
   ],
   "source": [
    "d = {10:\"Man\",20:\"Aman\",30:\"Aryan\"}\n",
    "print(d.items())"
   ]
  },
  {
   "cell_type": "code",
   "execution_count": 111,
   "metadata": {},
   "outputs": [
    {
     "name": "stdout",
     "output_type": "stream",
     "text": [
      "dict_items([(10, 'Man'), (20, 'Aman'), (30, 'Aryan')])\n",
      "Man\n",
      "Aman\n",
      "Aryan\n"
     ]
    }
   ],
   "source": [
    "d = {10:\"Man\",20:\"Aman\",30:\"Aryan\"}\n",
    "print(d.items())\n",
    "for i in d.values():\n",
    "    print(i)"
   ]
  },
  {
   "cell_type": "code",
   "execution_count": 112,
   "metadata": {},
   "outputs": [
    {
     "name": "stdout",
     "output_type": "stream",
     "text": [
      "Pavan\n",
      "{10: 'Man', 20: 'Aman', 30: 'Aryan', 40: 'Pavan'}\n",
      "Man\n",
      "{10: 'Man', 20: 'Aman', 30: 'Aryan', 40: 'Pavan'}\n"
     ]
    }
   ],
   "source": [
    "d = {10:\"Man\",20:\"Aman\",30:\"Aryan\"}\n",
    "print(d.setdefault(40,'Pavan'))\n",
    "print(d)\n",
    "print(d.setdefault(10,\"Sachin\"))\n",
    "print(d)\n"
   ]
  },
  {
   "cell_type": "markdown",
   "metadata": {},
   "source": [
    "## Write a Pro. that a reads a word from a paragrap and store them as key in dictionary and count the freq. of a as value."
   ]
  },
  {
   "cell_type": "code",
   "execution_count": 9,
   "metadata": {},
   "outputs": [
    {
     "name": "stdout",
     "output_type": "stream",
     "text": [
      "{'the': 2, 'quick': 1, 'brown': 1, 'fox': 1, 'jumps': 1, 'over': 1, 'lazy': 1, 'dog': 1}\n"
     ]
    }
   ],
   "source": [
    "s = (\"the quick brown fox jumps over the lazy dog\").split()\n",
    "d = {i:s.count(i) for i in s}\n",
    "print(d)"
   ]
  },
  {
   "cell_type": "code",
   "execution_count": 10,
   "metadata": {},
   "outputs": [
    {
     "name": "stdout",
     "output_type": "stream",
     "text": [
      "{'the': 2, 'quick': 1, 'brown': 1, 'fox': 1, 'jumps': 1, 'over': 1, 'lazy': 1, 'dog': 1}\n"
     ]
    }
   ],
   "source": [
    "s = (\"the quick brown fox jumps over the lazy dog\").split()\n",
    "for i in s:\n",
    "    d[i] = s.count(i)\n",
    "print(d)"
   ]
  },
  {
   "cell_type": "markdown",
   "metadata": {},
   "source": [
    "# wrap a pro. to dict. with a key as the first char. and value as a list of word starting with chr."
   ]
  },
  {
   "cell_type": "code",
   "execution_count": 29,
   "metadata": {},
   "outputs": [
    {
     "name": "stdout",
     "output_type": "stream",
     "text": [
      "{'D': [\"Don't\"], 'w': ['wait'], 'f': ['for', 'feeling'], 'y': ['your'], 't': ['to', 'to', 'take', 'the'], 'c': ['change'], 'a': ['action']}\n"
     ]
    }
   ],
   "source": [
    "s = (\"Don't wait for your feeling to change to take the action\").split()\n",
    "d = {}\n",
    "for i in s:\n",
    "    if i[0] in d: \n",
    "        d[i[0]].append(i)\n",
    "    else:\n",
    "        d[i[0]]=[i]\n",
    "print(d)"
   ]
  },
  {
   "cell_type": "code",
   "execution_count": 30,
   "metadata": {},
   "outputs": [
    {
     "name": "stdout",
     "output_type": "stream",
     "text": [
      "1\n"
     ]
    }
   ],
   "source": [
    "# MCQ\n",
    "l = [1,2,3,[1,2],'abcd']\n",
    "print(l[-1:-3:-1][-1][-2])"
   ]
  },
  {
   "cell_type": "markdown",
   "metadata": {},
   "source": [
    "# SET"
   ]
  },
  {
   "cell_type": "code",
   "execution_count": 33,
   "metadata": {},
   "outputs": [
    {
     "name": "stdout",
     "output_type": "stream",
     "text": [
      "{1, 2, 3, 4, 5, 6, 7}\n"
     ]
    }
   ],
   "source": [
    "# SET\n",
    "l = {1,1,2,2,3,3,4,4,5,5,5,5,5,6,6,6,7,7}\n",
    "print(l)"
   ]
  },
  {
   "cell_type": "code",
   "execution_count": 34,
   "metadata": {},
   "outputs": [
    {
     "name": "stdout",
     "output_type": "stream",
     "text": [
      "{1, 2, 3, 4, 5, 6, 7, 8, 9}\n"
     ]
    }
   ],
   "source": [
    "l = {1,1,2,2,3,3,4,4,8,7,9,5,5,5,5,5,6,6,6,7,7}\n",
    "print(l)"
   ]
  },
  {
   "cell_type": "code",
   "execution_count": 35,
   "metadata": {},
   "outputs": [
    {
     "name": "stdout",
     "output_type": "stream",
     "text": [
      "<class 'set'>\n"
     ]
    }
   ],
   "source": [
    "s = set()\n",
    "print(type(s))"
   ]
  },
  {
   "cell_type": "code",
   "execution_count": 37,
   "metadata": {},
   "outputs": [
    {
     "name": "stdout",
     "output_type": "stream",
     "text": [
      "<class 'list'>\n",
      "<class 'set'>\n"
     ]
    }
   ],
   "source": [
    "s = [1,2,3,4]\n",
    "print(type(s))\n",
    "s = set()\n",
    "print(type(s))\n"
   ]
  },
  {
   "cell_type": "code",
   "execution_count": 1,
   "metadata": {},
   "outputs": [
    {
     "name": "stdout",
     "output_type": "stream",
     "text": [
      "{'m', 'a', 'r', 'n', 'A'}\n"
     ]
    }
   ],
   "source": [
    "s = set(\"Arman\")\n",
    "print(s)"
   ]
  },
  {
   "cell_type": "code",
   "execution_count": 5,
   "metadata": {},
   "outputs": [
    {
     "name": "stdout",
     "output_type": "stream",
     "text": [
      "{40, 10, 50, 20, 60, 30}\n",
      "{40, 10, 50, 20, 60, 30}\n"
     ]
    }
   ],
   "source": [
    "# Mathemetic Operators on Set\n",
    "\n",
    "# union()\n",
    "\n",
    "x={10,20,30,40}\n",
    "y={30,40,50,60}\n",
    "print(x.union(y))\n",
    "print(x|y)"
   ]
  },
  {
   "cell_type": "code",
   "execution_count": 1,
   "metadata": {},
   "outputs": [
    {
     "name": "stdout",
     "output_type": "stream",
     "text": [
      "{40, 30}\n",
      "{40, 30}\n"
     ]
    }
   ],
   "source": [
    "# intersection()\n",
    "# Common num\n",
    "x={10,20,30,40}\n",
    "y={30,40,50,60}\n",
    "\n",
    "print(x.intersection(y))\n",
    "print(x&y)"
   ]
  },
  {
   "cell_type": "code",
   "execution_count": 2,
   "metadata": {},
   "outputs": [
    {
     "name": "stdout",
     "output_type": "stream",
     "text": [
      "{'man'}\n"
     ]
    }
   ],
   "source": [
    "x = {'man','topg','man'}\n",
    "y = {'man','gajjar','hello'}\n",
    "print(x.intersection(y))\n"
   ]
  },
  {
   "cell_type": "code",
   "execution_count": 6,
   "metadata": {},
   "outputs": [
    {
     "name": "stdout",
     "output_type": "stream",
     "text": [
      "{10, 20}\n",
      "{10, 20}\n",
      "\n",
      "{50, 60}\n",
      "{50, 60}\n"
     ]
    }
   ],
   "source": [
    "# difference()\n",
    "\n",
    "x={10,20,30,40}\n",
    "y={30,40,50,60}\n",
    "print(x.difference(y))\n",
    "print(x-y)\n",
    "print()\n",
    "print(y.difference(x))\n",
    "print(y-x)\n"
   ]
  },
  {
   "cell_type": "code",
   "execution_count": 8,
   "metadata": {},
   "outputs": [
    {
     "name": "stdout",
     "output_type": "stream",
     "text": [
      "{10, 50, 20, 60}\n",
      "{10, 50, 20, 60}\n",
      "\n",
      "{10, 50, 20, 60}\n",
      "{10, 50, 20, 60}\n"
     ]
    }
   ],
   "source": [
    "# symmetric_difference()\n",
    "# both element not same to print and oder is not sequence\n",
    "x={10,20,30,40}\n",
    "y={30,40,50,60}\n",
    "print(x.symmetric_difference(y))\n",
    "print(x^y)\n",
    "print()\n",
    "print(y.symmetric_difference(x))\n",
    "print(y^x)"
   ]
  },
  {
   "cell_type": "code",
   "execution_count": 10,
   "metadata": {},
   "outputs": [
    {
     "name": "stdout",
     "output_type": "stream",
     "text": [
      "True\n",
      "False\n"
     ]
    }
   ],
   "source": [
    "# issubset()\n",
    "# if element present in set so true or flase\n",
    "x={'a','b','c'}\n",
    "y={'f','d','e','c','a','b'}\n",
    "\n",
    "z = x.issubset(y)\n",
    "print(z)\n",
    "z = y.issubset(x)\n",
    "print(z)\n"
   ]
  },
  {
   "cell_type": "code",
   "execution_count": 11,
   "metadata": {},
   "outputs": [
    {
     "name": "stdout",
     "output_type": "stream",
     "text": [
      "False\n",
      "True\n"
     ]
    }
   ],
   "source": [
    "# issuperset()\n",
    "x={'a','b','c'}\n",
    "y={'f','d','e','c','a','b'}\n",
    "\n",
    "z = x.issuperset(y)\n",
    "print(z)\n",
    "z = y.issuperset(x)\n",
    "print(z)"
   ]
  },
  {
   "cell_type": "code",
   "execution_count": 13,
   "metadata": {},
   "outputs": [
    {
     "name": "stdout",
     "output_type": "stream",
     "text": [
      "{'A', 'n', 'm', 'r', 'a'}\n",
      "False\n",
      "True\n",
      "False\n"
     ]
    }
   ],
   "source": [
    "# Membership operators for set\n",
    "\n",
    "# 1.in\n",
    "# 2.not in\n",
    "\n",
    "s = set(\"Arman\")\n",
    "print(s)\n",
    "print('d' in s)\n",
    "print('a' in s)\n",
    "print('A' not in s)"
   ]
  },
  {
   "cell_type": "code",
   "execution_count": 14,
   "metadata": {
    "scrolled": true
   },
   "outputs": [
    {
     "name": "stdout",
     "output_type": "stream",
     "text": [
      "{40, 10, 20, 30}\n"
     ]
    }
   ],
   "source": [
    "# add()\n",
    "s = {10,20,30}\n",
    "s.add(40)\n",
    "print(s)"
   ]
  },
  {
   "cell_type": "markdown",
   "metadata": {},
   "source": [
    "# update()\n",
    "s = {10,20,30}\n",
    "l = [40,50,60,70]\n",
    "s.update(l,range(5))\n",
    "print(s)"
   ]
  },
  {
   "cell_type": "code",
   "execution_count": 21,
   "metadata": {},
   "outputs": [
    {
     "name": "stdout",
     "output_type": "stream",
     "text": [
      "{10, 20, 30, 60}\n",
      "{10, 20, 30}\n"
     ]
    }
   ],
   "source": [
    "# copy()\n",
    "s = {10,20,30}\n",
    "s1 = s.copy()\n",
    "s.add(60)\n",
    "print(s)\n",
    "print(s1)"
   ]
  },
  {
   "cell_type": "code",
   "execution_count": 3,
   "metadata": {},
   "outputs": [
    {
     "name": "stdout",
     "output_type": "stream",
     "text": [
      "10\n",
      "{50, 20, 90, 30}\n"
     ]
    }
   ],
   "source": [
    "# pop()\n",
    "# remove random\n",
    "s = {10,30,90,50,20}\n",
    "print(s.pop())\n",
    "print(s)\n"
   ]
  },
  {
   "cell_type": "code",
   "execution_count": 5,
   "metadata": {},
   "outputs": [
    {
     "name": "stdout",
     "output_type": "stream",
     "text": [
      "{50, 20, 90, 30}\n"
     ]
    }
   ],
   "source": [
    "# remove()\n",
    "\n",
    "s = {10,30,90,50,20}\n",
    "s.remove(10)\n",
    "print(s)\n",
    "# s.remove(100)\n",
    "# print(s) #KeyError\n"
   ]
  },
  {
   "cell_type": "code",
   "execution_count": 3,
   "metadata": {},
   "outputs": [
    {
     "name": "stdout",
     "output_type": "stream",
     "text": [
      "{50, 20, 90, 30}\n",
      "{50, 20, 90, 30}\n"
     ]
    }
   ],
   "source": [
    "# discard()\n",
    "s = {10,30,90,50,20}\n",
    "s.discard(10)\n",
    "print(s)\n",
    "s.discard(100)\n",
    "print(s) #not show error \n"
   ]
  },
  {
   "cell_type": "code",
   "execution_count": 7,
   "metadata": {},
   "outputs": [
    {
     "name": "stdout",
     "output_type": "stream",
     "text": [
      "set()\n"
     ]
    }
   ],
   "source": [
    "# clear()\n",
    "s = {10,30,90,50,20}\n",
    "s.clear()\n",
    "print(s)"
   ]
  },
  {
   "cell_type": "code",
   "execution_count": 10,
   "metadata": {},
   "outputs": [
    {
     "name": "stdout",
     "output_type": "stream",
     "text": [
      "{64, 1, 4, 36, 100, 9, 16, 49, 81, 25}\n",
      "{32, 2, 4, 8, 16}\n"
     ]
    }
   ],
   "source": [
    "# set \n",
    "s = {x*x for x in range(1,11)}\n",
    "print(s)\n",
    "s = {2**x for x in range(1,6)}\n",
    "print(s)"
   ]
  },
  {
   "cell_type": "code",
   "execution_count": 11,
   "metadata": {},
   "outputs": [
    {
     "name": "stdout",
     "output_type": "stream",
     "text": [
      "{1: 1, 2: 4, 3: 9, 4: 16, 5: 25, 6: 36, 7: 49, 8: 64, 9: 81, 10: 100}\n",
      "{1: 2, 2: 4, 3: 8, 4: 16, 5: 32}\n"
     ]
    }
   ],
   "source": [
    "# dict \n",
    "s = {x:x*x for x in range(1,11)}\n",
    "print(s)\n",
    "s = {x:2**x for x in range(1,6)}\n",
    "print(s)"
   ]
  },
  {
   "cell_type": "markdown",
   "metadata": {},
   "source": [
    "# Q. write a pro. to replace the word from the dict. you are given a string replace it wrod from lookup dict."
   ]
  },
  {
   "cell_type": "code",
   "execution_count": 27,
   "metadata": {},
   "outputs": [
    {
     "name": "stdout",
     "output_type": "stream",
     "text": [
      "CampusX is the best channle for Data-Science student\n"
     ]
    }
   ],
   "source": [
    "s = \"CampusX is best for DS student\".split()\n",
    "d = {'best':'the best channle','DS':'Data-Science'}\n",
    "l = []\n",
    "for i in s:\n",
    "    if i in d:\n",
    "        l.append(d[i])\n",
    "    else:\n",
    "        l.append(i)\n",
    "print(\" \".join(l))\n",
    "        "
   ]
  },
  {
   "cell_type": "markdown",
   "metadata": {},
   "source": [
    "# given a list L of size n you need count the num. of special elements in the given in the given list and ele is special if removal of the element makes it list balance is sum of even index element is equal to the sum odd index element also print the updated list after a removal of special element 9.M "
   ]
  },
  {
   "cell_type": "code",
   "execution_count": 19,
   "metadata": {},
   "outputs": [
    {
     "name": "stdout",
     "output_type": "stream",
     "text": [
      "Balance List\n"
     ]
    }
   ],
   "source": [
    "a = [5,5,2,5,8]\n",
    "even=0\n",
    "odd=0\n",
    "for i in range(len(a)):\n",
    "    if i%2==0:\n",
    "        even+=a[i]\n",
    "    else:\n",
    "        odd+=a[i]\n",
    "\n",
    "if even==odd:\n",
    "    print(\"Balance List\")\n",
    "else:\n",
    "    print(\"Not Special List\")\n",
    "    \n",
    "    \n",
    "for i in a:\n",
    "    if a.remove(i):\n",
    "         if i%2==0:\n",
    "        even+=a[i]\n",
    "    else:\n",
    "        odd+=a[i]\n",
    "\n",
    "if even==odd:\n",
    "    print(\"Balance List\")\n",
    "else:\n",
    "    print(\"Not Special List\")\n",
    "    \n",
    "    "
   ]
  },
  {
   "cell_type": "code",
   "execution_count": 25,
   "metadata": {},
   "outputs": [
    {
     "name": "stdout",
     "output_type": "stream",
     "text": [
      "Enter List: [5,5,2,5,8]\n",
      "Original List:  [5, 5, 2, 5, 8]\n",
      "\n",
      "Index to be removed:  0\n",
      "List after removed of index  0 is: [5, 2, 5, 8]\n",
      "Index to be removed:  1\n",
      "List after removed of index  1 is: [5, 2, 5, 8]\n",
      "\n",
      "Total special elemet 2\n"
     ]
    }
   ],
   "source": [
    "l = eval(input(\"Enter List: \"))\n",
    "print(\"Original List: \",l)\n",
    "print()\n",
    "count=0\n",
    "\n",
    "for i in range(len(l)):\n",
    "    c=l.copy()\n",
    "    c.pop(i)\n",
    "    \n",
    "    even=odd=0                         #even=sum(c[::2])\n",
    "    for k in c[::2]:                   #odd=sum(c[1::2])\n",
    "        even+=k\n",
    "    for k in c[1::2]:\n",
    "        odd+=k\n",
    "        \n",
    "    if even == odd:\n",
    "        print(\"Index to be removed: \",i)\n",
    "        count+=1\n",
    "        print(\"List after removed of index \",i,\"is:\",l[:i]+l[i+1:])\n",
    "print()\n",
    "print(\"Total special elemet\",count)"
   ]
  },
  {
   "cell_type": "markdown",
   "metadata": {},
   "source": [
    "# Lambda Function"
   ]
  },
  {
   "cell_type": "code",
   "execution_count": 34,
   "metadata": {},
   "outputs": [
    {
     "name": "stdout",
     "output_type": "stream",
     "text": [
      "25\n",
      "16\n"
     ]
    }
   ],
   "source": [
    "# lambda fun\n",
    "x = lambda x:x*x\n",
    "print(x(5))\n",
    "\n",
    "\n",
    "# Normal Fun\n",
    "\n",
    "def square(n):\n",
    "    return n*n\n",
    "print(square(4))"
   ]
  },
  {
   "cell_type": "code",
   "execution_count": 33,
   "metadata": {},
   "outputs": [
    {
     "name": "stdout",
     "output_type": "stream",
     "text": [
      "30\n",
      "30\n"
     ]
    }
   ],
   "source": [
    "# lambda fun\n",
    "x = lambda a,b:a+b\n",
    "print(x(10,20))\n",
    "\n",
    "# Normal Fun\n",
    "def sum(a,b):\n",
    "    return a+b\n",
    "print(sum(10,20))"
   ]
  },
  {
   "cell_type": "code",
   "execution_count": 35,
   "metadata": {},
   "outputs": [
    {
     "name": "stdout",
     "output_type": "stream",
     "text": [
      "[2, 4, 6, 8, 10]\n"
     ]
    }
   ],
   "source": [
    "# map()\n",
    "l = [1,2,3,4,5]\n",
    "\n",
    "def double(x):\n",
    "    return 2*x\n",
    "a = list(map(double,l))\n",
    "print(a)"
   ]
  },
  {
   "cell_type": "code",
   "execution_count": 38,
   "metadata": {},
   "outputs": [
    {
     "name": "stdout",
     "output_type": "stream",
     "text": [
      "[2, 4, 6, 8, 10]\n"
     ]
    }
   ],
   "source": [
    "l = [1,2,3,4,5]\n",
    "x = lambda l:2*l\n",
    "print(list(map(x,l)))\n"
   ]
  },
  {
   "cell_type": "code",
   "execution_count": 39,
   "metadata": {},
   "outputs": [
    {
     "name": "stdout",
     "output_type": "stream",
     "text": [
      "[4, 6, 8, 10, 12]\n"
     ]
    }
   ],
   "source": [
    "l1 = [1,2,3,4,5]\n",
    "l2 = [3,4,5,6,7]\n",
    "\n",
    "l=list(map(lambda a,b:a+b,l1,l2))\n",
    "print(l)"
   ]
  },
  {
   "cell_type": "code",
   "execution_count": 41,
   "metadata": {},
   "outputs": [
    {
     "name": "stdout",
     "output_type": "stream",
     "text": [
      "150\n",
      "12000000\n"
     ]
    }
   ],
   "source": [
    "# reduce() \n",
    "# imp\n",
    "from functools import *\n",
    "\n",
    "l = [10,20,30,40,50]\n",
    "sum = reduce(lambda x,y:x+y,l)\n",
    "print(sum)\n",
    "\n",
    "mul = reduce(lambda x,y:x*y,l)\n",
    "print(mul)\n"
   ]
  },
  {
   "cell_type": "code",
   "execution_count": 42,
   "metadata": {},
   "outputs": [
    {
     "name": "stdout",
     "output_type": "stream",
     "text": [
      "[0, 2, 4, 6, 8]\n"
     ]
    }
   ],
   "source": [
    "# filter()\n",
    "\n",
    "def even(x):\n",
    "    if x%2==0:\n",
    "        return True\n",
    "    else:\n",
    "        return False\n",
    "    \n",
    "l = [0,1,2,3,4,5,6,7,8,9]\n",
    "a = list(filter(even,l))\n",
    "print(a)\n",
    "        \n",
    "                "
   ]
  },
  {
   "cell_type": "code",
   "execution_count": 43,
   "metadata": {},
   "outputs": [
    {
     "ename": "AttributeError",
     "evalue": "'frozenset' object has no attribute 'add'",
     "output_type": "error",
     "traceback": [
      "\u001b[1;31m---------------------------------------------------------------------------\u001b[0m",
      "\u001b[1;31mAttributeError\u001b[0m                            Traceback (most recent call last)",
      "\u001b[1;32m<ipython-input-43-679727af13f4>\u001b[0m in \u001b[0;36m<module>\u001b[1;34m\u001b[0m\n\u001b[0;32m      1\u001b[0m \u001b[1;31m# frozenset()\u001b[0m\u001b[1;33m\u001b[0m\u001b[1;33m\u001b[0m\u001b[1;33m\u001b[0m\u001b[0m\n\u001b[0;32m      2\u001b[0m \u001b[0mx\u001b[0m \u001b[1;33m=\u001b[0m \u001b[0mfrozenset\u001b[0m\u001b[1;33m(\u001b[0m\u001b[0ml\u001b[0m\u001b[1;33m)\u001b[0m\u001b[1;33m\u001b[0m\u001b[1;33m\u001b[0m\u001b[0m\n\u001b[1;32m----> 3\u001b[1;33m \u001b[0mx\u001b[0m\u001b[1;33m.\u001b[0m\u001b[0madd\u001b[0m\u001b[1;33m(\u001b[0m\u001b[1;36m50\u001b[0m\u001b[1;33m)\u001b[0m\u001b[1;33m\u001b[0m\u001b[1;33m\u001b[0m\u001b[0m\n\u001b[0m\u001b[0;32m      4\u001b[0m \u001b[0mprint\u001b[0m\u001b[1;33m(\u001b[0m\u001b[0mx\u001b[0m\u001b[1;33m)\u001b[0m\u001b[1;33m\u001b[0m\u001b[1;33m\u001b[0m\u001b[0m\n",
      "\u001b[1;31mAttributeError\u001b[0m: 'frozenset' object has no attribute 'add'"
     ]
    }
   ],
   "source": [
    "# frozenset()\n",
    "x = frozenset(l)\n",
    "x.add(50)\n",
    "print(x)"
   ]
  },
  {
   "cell_type": "markdown",
   "metadata": {},
   "source": [
    "# wap to convert str. given upper case using map fun.\n"
   ]
  },
  {
   "cell_type": "code",
   "execution_count": 2,
   "metadata": {},
   "outputs": [
    {
     "name": "stdout",
     "output_type": "stream",
     "text": [
      "['APPLE', 'BANANA', 'CHERRY']\n"
     ]
    }
   ],
   "source": [
    "a = ['apple','banana','cherry']\n",
    "l = list(map(str.upper,a))\n",
    "print(l)"
   ]
  },
  {
   "cell_type": "code",
   "execution_count": 9,
   "metadata": {},
   "outputs": [
    {
     "name": "stdout",
     "output_type": "stream",
     "text": [
      "['banana', 'cheerry']\n"
     ]
    }
   ],
   "source": [
    "# filter wrods a lenght greather than 5\n",
    "\n",
    "words=[\"app\",\"banana\",\"cheerry\"]\n",
    "print(list(filter(lambda x:len(x)>5,words)))"
   ]
  },
  {
   "cell_type": "markdown",
   "metadata": {},
   "source": [
    "# divi by 19 or 13 "
   ]
  },
  {
   "cell_type": "code",
   "execution_count": 15,
   "metadata": {},
   "outputs": [
    {
     "name": "stdout",
     "output_type": "stream",
     "text": [
      "[26, 38, 39]\n",
      "[26, 38, 39]\n"
     ]
    }
   ],
   "source": [
    "l=[26,38,5,2,70,6,39,46]\n",
    "print(list(filter(lambda x:x%19==0 or x%13==0,l)))\n",
    "print([x for x in l if x%19==0 or x%13==0])"
   ]
  },
  {
   "cell_type": "code",
   "execution_count": 17,
   "metadata": {},
   "outputs": [
    {
     "name": "stdout",
     "output_type": "stream",
     "text": [
      "['kiwi', 'apple', 'banana', 'cherry']\n"
     ]
    }
   ],
   "source": [
    "# sorted() use len and min value show frist\n",
    "a = ['apple','kiwi','banana','cherry']\n",
    "l = sorted(a, key=len)\n",
    "print(l)"
   ]
  },
  {
   "cell_type": "code",
   "execution_count": 19,
   "metadata": {},
   "outputs": [
    {
     "name": "stdout",
     "output_type": "stream",
     "text": [
      "['banana', 'apple', 'kiwi', 'cherry']\n"
     ]
    }
   ],
   "source": [
    "a = ['apple','kiwi','banana','cherry']\n",
    "def fan(word):\n",
    "    return word[-1]\n",
    "l = sorted(a,key=fan)\n",
    "print(l)"
   ]
  },
  {
   "cell_type": "code",
   "execution_count": 22,
   "metadata": {},
   "outputs": [
    {
     "name": "stdout",
     "output_type": "stream",
     "text": [
      "['banana', 'apple', 'kiwi', 'cherry']\n"
     ]
    }
   ],
   "source": [
    "a = ['apple','kiwi','banana','cherry']\n",
    "l = sorted(a,key=lambda x:x[-1])\n",
    "print(l)"
   ]
  },
  {
   "cell_type": "code",
   "execution_count": 23,
   "metadata": {},
   "outputs": [
    {
     "name": "stdout",
     "output_type": "stream",
     "text": [
      "['cherry', 'kiwi', 'apple', 'banana']\n"
     ]
    }
   ],
   "source": [
    "a = ['apple','kiwi','banana','cherry']\n",
    "l = sorted(a,key=lambda x:x[-1],reverse=True)\n",
    "print(l)"
   ]
  },
  {
   "cell_type": "code",
   "execution_count": 25,
   "metadata": {},
   "outputs": [
    {
     "name": "stdout",
     "output_type": "stream",
     "text": [
      "['apple', 'banana', 'cherry', 'date', 'kiwi']\n"
     ]
    }
   ],
   "source": [
    "a = ['date','apple','kiwi','banana','cherry']\n",
    "a.sort()\n",
    "print(a)"
   ]
  },
  {
   "cell_type": "code",
   "execution_count": 28,
   "metadata": {},
   "outputs": [
    {
     "name": "stdout",
     "output_type": "stream",
     "text": [
      "[(3, 1), (2, 2), (1, 3)]\n"
     ]
    }
   ],
   "source": [
    "# LAST ELEMET COMPARE\n",
    "a = [(1,3),(2,2),(3,1)]\n",
    "def fan(val):\n",
    "    return val[1]\n",
    "a.sort(key=fan)\n",
    "print(a)"
   ]
  },
  {
   "cell_type": "code",
   "execution_count": 30,
   "metadata": {},
   "outputs": [
    {
     "name": "stdout",
     "output_type": "stream",
     "text": [
      "[(3, 1), (2, 2), (1, 3)]\n"
     ]
    }
   ],
   "source": [
    "a = [(1,3),(2,2),(3,1)]\n",
    "a.sort(key=lambda x:x[1])\n",
    "print(a)"
   ]
  },
  {
   "cell_type": "code",
   "execution_count": 37,
   "metadata": {},
   "outputs": [
    {
     "name": "stdout",
     "output_type": "stream",
     "text": [
      "['apple', 'kiwi#banana#cherry']\n",
      "['apple', 'kiwi', 'banana#cherry']\n",
      "['apple', 'kiwi', 'banana', 'cherry']\n",
      "['apple', 'kiwi', 'banana', 'cherry']\n"
     ]
    }
   ],
   "source": [
    "a = 'apple#kiwi#banana#cherry'\n",
    "x = a.split('#',1)\n",
    "print(x)\n",
    "x = a.split('#',2)\n",
    "print(x)\n",
    "x = a.split('#',3)\n",
    "print(x)\n",
    "x = a.split('#')\n",
    "print(x)"
   ]
  },
  {
   "cell_type": "code",
   "execution_count": 39,
   "metadata": {},
   "outputs": [
    {
     "name": "stdout",
     "output_type": "stream",
     "text": [
      "9996\n"
     ]
    }
   ],
   "source": [
    "x= lambda x,y:x if x<y else y\n",
    "print(x(101*99,102*98))"
   ]
  },
  {
   "cell_type": "code",
   "execution_count": 40,
   "metadata": {},
   "outputs": [
    {
     "name": "stdout",
     "output_type": "stream",
     "text": [
      "{1, 2, 3, 4, 5, 7}\n"
     ]
    }
   ],
   "source": [
    "x= {1,2,3,4,5}\n",
    "y={3,4,5,6,7}\n",
    "z={1,3,5,7,9}\n",
    "print((x|y) & (x|z))"
   ]
  },
  {
   "cell_type": "code",
   "execution_count": null,
   "metadata": {},
   "outputs": [],
   "source": [
    "| = union (same hoy a)\n",
    "& = intersection (common ave)\n",
    "-- = differnce(je na hoy ae)\n",
    "^ = summetric_difference(diff hoy ae)"
   ]
  },
  {
   "cell_type": "code",
   "execution_count": 41,
   "metadata": {},
   "outputs": [
    {
     "name": "stdout",
     "output_type": "stream",
     "text": [
      "{6, 9}\n"
     ]
    }
   ],
   "source": [
    "x= {1,2,3,4,5}\n",
    "y={3,4,5,6,7}\n",
    "z={1,3,5,7,9}\n",
    "print((x|y) ^ (x|z))"
   ]
  },
  {
   "cell_type": "code",
   "execution_count": 48,
   "metadata": {},
   "outputs": [
    {
     "name": "stdout",
     "output_type": "stream",
     "text": [
      "7\n"
     ]
    }
   ],
   "source": [
    "t1 = (1,2,3,4,5,6,7)\n",
    "print(t1[t1[1]+t1[-4]])"
   ]
  },
  {
   "cell_type": "code",
   "execution_count": 56,
   "metadata": {},
   "outputs": [
    {
     "name": "stdout",
     "output_type": "stream",
     "text": [
      "How Many Pizza you want to order: 1\n",
      "Choose Size, 'Small' 'Medium' 'Large' :small\n",
      "How many Toppings, Enter Num: 2\n",
      "How many Chesse, Enter Num: 2\n",
      "('The Total Bill is ', 0)\n"
     ]
    }
   ],
   "source": [
    "order = int(input(\"How Many Pizza you want to order: \"))\n",
    "size = input(\"Choose Size, 'Small' 'Medium' 'Large' :\")\n",
    "topping = input('How many Toppings, Enter Num: ')\n",
    "cheese = input(\"How many Chesse, Enter Num: \")\n",
    "total = (\"The Total Bill is \",cost)\n",
    "cost = 0\n",
    "print(total)\n",
    "\n",
    "\n",
    "def size(size):\n",
    "    if size==small:\n",
    "        cost+=50\n",
    "    elif size==medium:\n",
    "        cost+=100\n",
    "    elif size==large:\n",
    "        cost+=200\n",
    "        \n",
    "\n",
    "def topping(topping):\n",
    "    for i in range(topping):\n",
    "        if topping==\"corn\":\n",
    "            cost+=20\n",
    "        elif topping==\"tomato\":\n",
    "            cost+=20\n",
    "        elif topping==\"onion\":\n",
    "            cost+=20\n",
    "        elif topping==\"capasicum\":\n",
    "            cost+=20\n",
    "        elif topping==\"mushroom\":\n",
    "            cost+=50\n",
    "        elif topping==\"olives\":\n",
    "            cost+=50\n",
    "        elif topping==\"brocoli\":\n",
    "            cost+=50\n",
    "        else:\n",
    "            print(\"Out of Stock\")\n",
    "            \n",
    "def chees(cheese):\n",
    "    for i in range(cheese):\n",
    "        if cheese==\"feta\":\n",
    "            cost+=60\n",
    "        elif cheese==\"mozarella\":\n",
    "            cost+=60\n",
    "        elif cheese==\"cheddar\":\n",
    "            cost+=60\n",
    "        else:\n",
    "            print(\"Out of Stoke\")\n",
    "            \n",
    "            \n",
    "for i in order:\n",
    "    print(\"size\",size())\n",
    "    print(\"Topping\",topping())    \n",
    "    print(\"Cheese\",chees()) \n",
    "    print(\"Total cost is\",cost)"
   ]
  },
  {
   "cell_type": "code",
   "execution_count": 58,
   "metadata": {},
   "outputs": [
    {
     "name": "stdout",
     "output_type": "stream",
     "text": [
      "How many pizzas do you want to order? 2\n",
      "Choose Size ('Small', 'Medium', 'Large'): large\n",
      "How many toppings would you like? 2\n",
      "Enter topping (corn, tomato, onion, capasicum, mushroom, olives, brocoli): corn\n",
      "Enter topping (corn, tomato, onion, capasicum, mushroom, olives, brocoli): mushroom\n",
      "How many types of cheese would you like? 2\n",
      "Enter cheese (feta, mozarella, cheddar): feta\n",
      "Enter cheese (feta, mozarella, cheddar): mozarella\n",
      "Total cost for pizza 1: 390\n",
      "Choose Size ('Small', 'Medium', 'Large'): small\n",
      "How many toppings would you like? 2\n",
      "Enter topping (corn, tomato, onion, capasicum, mushroom, olives, brocoli): olives\n",
      "Enter topping (corn, tomato, onion, capasicum, mushroom, olives, brocoli): brocoli\n",
      "How many types of cheese would you like? 3\n",
      "Enter cheese (feta, mozarella, cheddar): feta\n",
      "Enter cheese (feta, mozarella, cheddar): mozarella\n",
      "Enter cheese (feta, mozarella, cheddar): cheddar\n",
      "Total cost for pizza 2: 330\n",
      "The total cost for all pizzas is: 720\n"
     ]
    }
   ],
   "source": [
    "def size_cost(size):\n",
    "    cost = 0\n",
    "    if size == \"small\":\n",
    "        cost += 50\n",
    "    elif size == \"medium\":\n",
    "        cost += 100\n",
    "    elif size == \"large\":\n",
    "        cost += 200\n",
    "    else:\n",
    "        print(\"Invalid size\")\n",
    "    return cost\n",
    "\n",
    "def topping_cost(topping_list):\n",
    "    cost = 0\n",
    "    for topping in topping_list:\n",
    "        if topping == \"corn\":\n",
    "            cost += 20\n",
    "        elif topping == \"tomato\":\n",
    "            cost += 20\n",
    "        elif topping == \"onion\":\n",
    "            cost += 20\n",
    "        elif topping == \"capasicum\":\n",
    "            cost += 20\n",
    "        elif topping == \"mushroom\":\n",
    "            cost += 50\n",
    "        elif topping == \"olives\":\n",
    "            cost += 50\n",
    "        elif topping == \"brocoli\":\n",
    "            cost += 50\n",
    "        else:\n",
    "            print(f\"{topping} is Out of Stock\")\n",
    "    return cost\n",
    "\n",
    "def cheese_cost(cheese_list):\n",
    "    cost = 0\n",
    "    for cheese in cheese_list:\n",
    "        if cheese == \"feta\":\n",
    "            cost += 60\n",
    "        elif cheese == \"mozarella\":\n",
    "            cost += 60\n",
    "        elif cheese == \"cheddar\":\n",
    "            cost += 60\n",
    "        else:\n",
    "            print(f\"{cheese} cheese is Out of Stock\")\n",
    "    return cost\n",
    "\n",
    "# Main code for ordering pizza\n",
    "order = int(input(\"How many pizzas do you want to order? \"))\n",
    "total_cost = 0\n",
    "\n",
    "for i in range(order):\n",
    "    size = input(\"Choose Size ('Small', 'Medium', 'Large'): \").lower()\n",
    "    topping_count = int(input(\"How many toppings would you like? \"))\n",
    "    toppings = []\n",
    "    for _ in range(topping_count):\n",
    "        topping = input(\"Enter topping (corn, tomato, onion, capasicum, mushroom, olives, brocoli): \").lower()\n",
    "        toppings.append(topping)\n",
    "\n",
    "    cheese_count = int(input(\"How many types of cheese would you like? \"))\n",
    "    cheeses = []\n",
    "    for _ in range(cheese_count):\n",
    "        cheese = input(\"Enter cheese (feta, mozarella, cheddar): \").lower()\n",
    "        cheeses.append(cheese)\n",
    "\n",
    "    # Calculate cost for each pizza\n",
    "    cost = 0\n",
    "    cost += size_cost(size)\n",
    "    cost += topping_cost(toppings)\n",
    "    cost += cheese_cost(cheeses)\n",
    "\n",
    "    print(f\"Total cost for pizza {i+1}: {cost}\")\n",
    "    total_cost += cost\n",
    "\n",
    "# Final total\n",
    "print()\n",
    "print(f\"The total cost for all pizzas is: {total_cost}\")\n"
   ]
  },
  {
   "cell_type": "code",
   "execution_count": null,
   "metadata": {},
   "outputs": [],
   "source": []
  }
 ],
 "metadata": {
  "kernelspec": {
   "display_name": "Python 3",
   "language": "python",
   "name": "python3"
  },
  "language_info": {
   "codemirror_mode": {
    "name": "ipython",
    "version": 3
   },
   "file_extension": ".py",
   "mimetype": "text/x-python",
   "name": "python",
   "nbconvert_exporter": "python",
   "pygments_lexer": "ipython3",
   "version": "3.8.5"
  }
 },
 "nbformat": 4,
 "nbformat_minor": 4
}
